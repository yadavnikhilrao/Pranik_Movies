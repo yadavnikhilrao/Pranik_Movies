{
 "cells": [
  {
   "cell_type": "code",
   "execution_count": 1,
   "id": "9fc1046a",
   "metadata": {},
   "outputs": [],
   "source": [
    "# Importing essential tools\n",
    "import pandas as pd\n",
    "import warnings\n",
    "warnings.filterwarnings(\"ignore\")"
   ]
  },
  {
   "cell_type": "code",
   "execution_count": 2,
   "id": "0b9c7bfc",
   "metadata": {},
   "outputs": [],
   "source": [
    "# Load movie dataset\n",
    "movies = pd.read_csv(\"filter_data.csv\")"
   ]
  },
  {
   "cell_type": "code",
   "execution_count": 3,
   "id": "02684559",
   "metadata": {},
   "outputs": [
    {
     "data": {
      "text/html": [
       "<div>\n",
       "<style scoped>\n",
       "    .dataframe tbody tr th:only-of-type {\n",
       "        vertical-align: middle;\n",
       "    }\n",
       "\n",
       "    .dataframe tbody tr th {\n",
       "        vertical-align: top;\n",
       "    }\n",
       "\n",
       "    .dataframe thead th {\n",
       "        text-align: right;\n",
       "    }\n",
       "</style>\n",
       "<table border=\"1\" class=\"dataframe\">\n",
       "  <thead>\n",
       "    <tr style=\"text-align: right;\">\n",
       "      <th></th>\n",
       "      <th>Id</th>\n",
       "      <th>Title</th>\n",
       "      <th>Director</th>\n",
       "      <th>Cast</th>\n",
       "      <th>Genre</th>\n",
       "      <th>Overview</th>\n",
       "      <th>Reviews</th>\n",
       "      <th>0</th>\n",
       "    </tr>\n",
       "  </thead>\n",
       "  <tbody>\n",
       "    <tr>\n",
       "      <th>0</th>\n",
       "      <td>391629</td>\n",
       "      <td>Baaghi</td>\n",
       "      <td>Sabbir Khan</td>\n",
       "      <td>['Tiger Shroff', 'Shraddha Kapoor', 'Sunil Gro...</td>\n",
       "      <td>Action, Thriller, Romance</td>\n",
       "      <td>Ronny is a rebellious man, who falls in love w...</td>\n",
       "      <td>NaN</td>\n",
       "      <td>NaN</td>\n",
       "    </tr>\n",
       "    <tr>\n",
       "      <th>1</th>\n",
       "      <td>25918</td>\n",
       "      <td>Champion</td>\n",
       "      <td>Mark Robson</td>\n",
       "      <td>['Kirk Douglas', 'Marilyn Maxwell', 'Arthur Ke...</td>\n",
       "      <td>Drama</td>\n",
       "      <td>An unscrupulous boxer fights his way to the to...</td>\n",
       "      <td>NaN</td>\n",
       "      <td>NaN</td>\n",
       "    </tr>\n",
       "    <tr>\n",
       "      <th>2</th>\n",
       "      <td>1104040</td>\n",
       "      <td>Gangs of Lagos</td>\n",
       "      <td>Jadesola Osiberu</td>\n",
       "      <td>['Demi Banwo', 'Adesua Etomi-Wellington', 'Tob...</td>\n",
       "      <td>Crime</td>\n",
       "      <td>A group of friends who each have to navigate t...</td>\n",
       "      <td>NaN</td>\n",
       "      <td>NaN</td>\n",
       "    </tr>\n",
       "    <tr>\n",
       "      <th>3</th>\n",
       "      <td>157800</td>\n",
       "      <td>Har Dil Jo Pyar Karega</td>\n",
       "      <td>Raj Kanwar</td>\n",
       "      <td>['Salman Khan', 'Rani Mukerji', 'Preity Zinta'...</td>\n",
       "      <td>Comedy, Drama</td>\n",
       "      <td>Raj is a struggling singer chasing his dreams ...</td>\n",
       "      <td>NaN</td>\n",
       "      <td>NaN</td>\n",
       "    </tr>\n",
       "    <tr>\n",
       "      <th>4</th>\n",
       "      <td>60579</td>\n",
       "      <td>Hey Ram</td>\n",
       "      <td>Kamal Haasan</td>\n",
       "      <td>['Kamal Haasan', 'Shah Rukh Khan', 'Hema Malin...</td>\n",
       "      <td>History, Drama, Crime</td>\n",
       "      <td>Saketh Ram's wife is raped and killed during d...</td>\n",
       "      <td>NaN</td>\n",
       "      <td>NaN</td>\n",
       "    </tr>\n",
       "    <tr>\n",
       "      <th>...</th>\n",
       "      <td>...</td>\n",
       "      <td>...</td>\n",
       "      <td>...</td>\n",
       "      <td>...</td>\n",
       "      <td>...</td>\n",
       "      <td>...</td>\n",
       "      <td>...</td>\n",
       "      <td>...</td>\n",
       "    </tr>\n",
       "    <tr>\n",
       "      <th>5553</th>\n",
       "      <td>560204</td>\n",
       "      <td>Arkansas</td>\n",
       "      <td>Clark Duke</td>\n",
       "      <td>['Liam Hemsworth', 'Clark Duke', 'Vince Vaughn...</td>\n",
       "      <td>Crime, Thriller</td>\n",
       "      <td>Kyle and Swin live by the orders of an Arkansa...</td>\n",
       "      <td>A good but not great film that could've been b...</td>\n",
       "      <td>NaN</td>\n",
       "    </tr>\n",
       "    <tr>\n",
       "      <th>5554</th>\n",
       "      <td>19053</td>\n",
       "      <td>Valley Girl</td>\n",
       "      <td>Martha Coolidge</td>\n",
       "      <td>['Nicolas Cage', 'Deborah Foreman', 'Elizabeth...</td>\n",
       "      <td>Comedy, Romance</td>\n",
       "      <td>Julie, a girl from the valley, meets Randy, a ...</td>\n",
       "      <td>NaN</td>\n",
       "      <td>NaN</td>\n",
       "    </tr>\n",
       "    <tr>\n",
       "      <th>5555</th>\n",
       "      <td>429422</td>\n",
       "      <td>Capone</td>\n",
       "      <td>Josh Trank</td>\n",
       "      <td>['Tom Hardy', 'Linda Cardellini', 'Matt Dillon...</td>\n",
       "      <td>Crime, Drama</td>\n",
       "      <td>The 47-year old Al Capone, after 10 years in p...</td>\n",
       "      <td>&lt;em&gt;'Capone'&lt;/em&gt; disappoints.\\r\\n\\r\\nIt's not...</td>\n",
       "      <td>NaN</td>\n",
       "    </tr>\n",
       "    <tr>\n",
       "      <th>5556</th>\n",
       "      <td>582596</td>\n",
       "      <td>The Wrong Missy</td>\n",
       "      <td>Tyler Spindel</td>\n",
       "      <td>['David Spade', 'Lauren Lapkus', 'Candace Smit...</td>\n",
       "      <td>Comedy, Romance</td>\n",
       "      <td>A guy meets the woman of his dreams and invite...</td>\n",
       "      <td>NaN</td>\n",
       "      <td>NaN</td>\n",
       "    </tr>\n",
       "    <tr>\n",
       "      <th>5557</th>\n",
       "      <td>385103</td>\n",
       "      <td>Scoob!</td>\n",
       "      <td>Tony Cervone</td>\n",
       "      <td>['Amanda Seyfried', 'Christina Hendricks', 'Fr...</td>\n",
       "      <td>Animation, Comedy, Family, Mystery</td>\n",
       "      <td>In Scooby-Doo’s greatest adventure yet, see th...</td>\n",
       "      <td>I guess I can commend Warner Bros. for attempt...</td>\n",
       "      <td>NaN</td>\n",
       "    </tr>\n",
       "  </tbody>\n",
       "</table>\n",
       "<p>5558 rows × 8 columns</p>\n",
       "</div>"
      ],
      "text/plain": [
       "           Id                   Title          Director   \n",
       "0      391629                  Baaghi       Sabbir Khan  \\\n",
       "1       25918                Champion       Mark Robson   \n",
       "2     1104040          Gangs of Lagos  Jadesola Osiberu   \n",
       "3      157800  Har Dil Jo Pyar Karega        Raj Kanwar   \n",
       "4       60579                 Hey Ram      Kamal Haasan   \n",
       "...       ...                     ...               ...   \n",
       "5553   560204                Arkansas        Clark Duke   \n",
       "5554    19053             Valley Girl   Martha Coolidge   \n",
       "5555   429422                  Capone        Josh Trank   \n",
       "5556   582596         The Wrong Missy     Tyler Spindel   \n",
       "5557   385103                  Scoob!      Tony Cervone   \n",
       "\n",
       "                                                   Cast   \n",
       "0     ['Tiger Shroff', 'Shraddha Kapoor', 'Sunil Gro...  \\\n",
       "1     ['Kirk Douglas', 'Marilyn Maxwell', 'Arthur Ke...   \n",
       "2     ['Demi Banwo', 'Adesua Etomi-Wellington', 'Tob...   \n",
       "3     ['Salman Khan', 'Rani Mukerji', 'Preity Zinta'...   \n",
       "4     ['Kamal Haasan', 'Shah Rukh Khan', 'Hema Malin...   \n",
       "...                                                 ...   \n",
       "5553  ['Liam Hemsworth', 'Clark Duke', 'Vince Vaughn...   \n",
       "5554  ['Nicolas Cage', 'Deborah Foreman', 'Elizabeth...   \n",
       "5555  ['Tom Hardy', 'Linda Cardellini', 'Matt Dillon...   \n",
       "5556  ['David Spade', 'Lauren Lapkus', 'Candace Smit...   \n",
       "5557  ['Amanda Seyfried', 'Christina Hendricks', 'Fr...   \n",
       "\n",
       "                                   Genre   \n",
       "0              Action, Thriller, Romance  \\\n",
       "1                                  Drama   \n",
       "2                                  Crime   \n",
       "3                          Comedy, Drama   \n",
       "4                  History, Drama, Crime   \n",
       "...                                  ...   \n",
       "5553                     Crime, Thriller   \n",
       "5554                     Comedy, Romance   \n",
       "5555                        Crime, Drama   \n",
       "5556                     Comedy, Romance   \n",
       "5557  Animation, Comedy, Family, Mystery   \n",
       "\n",
       "                                               Overview   \n",
       "0     Ronny is a rebellious man, who falls in love w...  \\\n",
       "1     An unscrupulous boxer fights his way to the to...   \n",
       "2     A group of friends who each have to navigate t...   \n",
       "3     Raj is a struggling singer chasing his dreams ...   \n",
       "4     Saketh Ram's wife is raped and killed during d...   \n",
       "...                                                 ...   \n",
       "5553  Kyle and Swin live by the orders of an Arkansa...   \n",
       "5554  Julie, a girl from the valley, meets Randy, a ...   \n",
       "5555  The 47-year old Al Capone, after 10 years in p...   \n",
       "5556  A guy meets the woman of his dreams and invite...   \n",
       "5557  In Scooby-Doo’s greatest adventure yet, see th...   \n",
       "\n",
       "                                                Reviews   0  \n",
       "0                                                   NaN NaN  \n",
       "1                                                   NaN NaN  \n",
       "2                                                   NaN NaN  \n",
       "3                                                   NaN NaN  \n",
       "4                                                   NaN NaN  \n",
       "...                                                 ...  ..  \n",
       "5553  A good but not great film that could've been b... NaN  \n",
       "5554                                                NaN NaN  \n",
       "5555  <em>'Capone'</em> disappoints.\\r\\n\\r\\nIt's not... NaN  \n",
       "5556                                                NaN NaN  \n",
       "5557  I guess I can commend Warner Bros. for attempt... NaN  \n",
       "\n",
       "[5558 rows x 8 columns]"
      ]
     },
     "execution_count": 3,
     "metadata": {},
     "output_type": "execute_result"
    }
   ],
   "source": [
    "movies"
   ]
  },
  {
   "cell_type": "code",
   "execution_count": 4,
   "id": "fab10aa3",
   "metadata": {},
   "outputs": [
    {
     "data": {
      "text/plain": [
       "(5558, 8)"
      ]
     },
     "execution_count": 4,
     "metadata": {},
     "output_type": "execute_result"
    }
   ],
   "source": [
    "# Check how many rows and columns \n",
    "movies.shape"
   ]
  },
  {
   "cell_type": "code",
   "execution_count": 5,
   "id": "5a6788d5",
   "metadata": {},
   "outputs": [
    {
     "data": {
      "text/plain": [
       "(5558, 8)"
      ]
     },
     "execution_count": 5,
     "metadata": {},
     "output_type": "execute_result"
    }
   ],
   "source": [
    "movies.shape"
   ]
  },
  {
   "cell_type": "code",
   "execution_count": 6,
   "id": "d2635c75",
   "metadata": {},
   "outputs": [
    {
     "data": {
      "text/plain": [
       "Id             0\n",
       "Title          0\n",
       "Director      45\n",
       "Cast           0\n",
       "Genre         66\n",
       "Overview       5\n",
       "Reviews     3172\n",
       "0           5558\n",
       "dtype: int64"
      ]
     },
     "execution_count": 6,
     "metadata": {},
     "output_type": "execute_result"
    }
   ],
   "source": [
    "# Check null values\n",
    "movies.isna().sum()"
   ]
  },
  {
   "cell_type": "code",
   "execution_count": 7,
   "id": "f043284d",
   "metadata": {},
   "outputs": [],
   "source": [
    "# Select a subset of columns from the 'movies' DataFrame\n",
    "movies = movies[['Id','Title','Director','Cast','Genre','Overview','Reviews']]"
   ]
  },
  {
   "cell_type": "code",
   "execution_count": 8,
   "id": "f2faaf4e",
   "metadata": {},
   "outputs": [
    {
     "data": {
      "text/plain": [
       "4"
      ]
     },
     "execution_count": 8,
     "metadata": {},
     "output_type": "execute_result"
    }
   ],
   "source": [
    "# Check number of duplicated entries in the 'Title' column \n",
    "movies.duplicated(subset=['Id']).sum()"
   ]
  },
  {
   "cell_type": "code",
   "execution_count": 9,
   "id": "9ea6a446",
   "metadata": {},
   "outputs": [],
   "source": [
    "# Drops the duplicated rows in the 'Title' column and modifies the 'movies' dataframe in place.\n",
    "movies.drop_duplicates(subset=['Id'], inplace=True)"
   ]
  },
  {
   "cell_type": "code",
   "execution_count": 10,
   "id": "01edd41a",
   "metadata": {},
   "outputs": [
    {
     "data": {
      "text/plain": [
       "(5554, 7)"
      ]
     },
     "execution_count": 10,
     "metadata": {},
     "output_type": "execute_result"
    }
   ],
   "source": [
    "movies.shape"
   ]
  },
  {
   "cell_type": "code",
   "execution_count": 11,
   "id": "c3814740",
   "metadata": {},
   "outputs": [],
   "source": [
    "# Reset index\n",
    "movies = movies.reset_index(drop=True)"
   ]
  },
  {
   "cell_type": "code",
   "execution_count": 12,
   "id": "65098155",
   "metadata": {},
   "outputs": [],
   "source": [
    "# Clean the 'Cast' column of the 'movies' DataFrame by removing square brackets and single quotes\n",
    "movies['Cast'] = movies['Cast'].str.replace(\"[\\[\\]']\", '', regex=True)"
   ]
  },
  {
   "cell_type": "code",
   "execution_count": 13,
   "id": "025ddf0e",
   "metadata": {},
   "outputs": [],
   "source": [
    "# Fill missing values in Director and Genre columns with mode\n",
    "movies['Director'] = movies['Director'].fillna(movies['Director'].mode()[0])\n",
    "movies['Genre'] = movies['Genre'].fillna(movies['Genre'].mode()[0])\n",
    "\n",
    "# Fill missing values in Overview column with empty string\n",
    "movies['Overview'] = movies['Overview'].fillna('')\n",
    "movies['Reviews'] = movies['Reviews'].fillna('')"
   ]
  },
  {
   "cell_type": "code",
   "execution_count": 14,
   "id": "444fce5a",
   "metadata": {},
   "outputs": [],
   "source": [
    "# movies.isna().sum()"
   ]
  },
  {
   "cell_type": "code",
   "execution_count": 15,
   "id": "0dc6da89",
   "metadata": {},
   "outputs": [],
   "source": [
    "# Import the stopwords module from NLTK for text preprocessing and the pickle module for object serialization\n",
    "import nltk\n",
    "from nltk.corpus import stopwords\n",
    "import pickle"
   ]
  },
  {
   "cell_type": "code",
   "execution_count": 16,
   "id": "925b64fb",
   "metadata": {},
   "outputs": [],
   "source": [
    "# nltk.download(\"stopwords\")"
   ]
  },
  {
   "cell_type": "code",
   "execution_count": 17,
   "id": "19d4ed24",
   "metadata": {},
   "outputs": [
    {
     "data": {
      "text/plain": [
       "0       Ronny is a rebellious man, who falls in love w...\n",
       "1       An unscrupulous boxer fights his way to the to...\n",
       "2       A group of friends who each have to navigate t...\n",
       "3       Raj is a struggling singer chasing his dreams ...\n",
       "4       Saketh Ram's wife is raped and killed during d...\n",
       "                              ...                        \n",
       "5549    Kyle and Swin live by the orders of an Arkansa...\n",
       "5550    Julie, a girl from the valley, meets Randy, a ...\n",
       "5551    The 47-year old Al Capone, after 10 years in p...\n",
       "5552    A guy meets the woman of his dreams and invite...\n",
       "5553    In Scooby-Doo’s greatest adventure yet, see th...\n",
       "Name: Overview, Length: 5554, dtype: object"
      ]
     },
     "execution_count": 17,
     "metadata": {},
     "output_type": "execute_result"
    }
   ],
   "source": [
    "movies['Overview']"
   ]
  },
  {
   "cell_type": "code",
   "execution_count": 18,
   "id": "dccc8c8d",
   "metadata": {},
   "outputs": [
    {
     "data": {
      "text/plain": [
       "0       Tiger Shroff, Shraddha Kapoor, Sunil Grover, S...\n",
       "1       Kirk Douglas, Marilyn Maxwell, Arthur Kennedy,...\n",
       "2       Demi Banwo, Adesua Etomi-Wellington, Tobi Bakr...\n",
       "3       Salman Khan, Rani Mukerji, Preity Zinta, Neera...\n",
       "4       Kamal Haasan, Shah Rukh Khan, Hema Malini, Ran...\n",
       "                              ...                        \n",
       "5549    Liam Hemsworth, Clark Duke, Vince Vaughn, John...\n",
       "5550    Nicolas Cage, Deborah Foreman, Elizabeth Daily...\n",
       "5551    Tom Hardy, Linda Cardellini, Matt Dillon, Kyle...\n",
       "5552    David Spade, Lauren Lapkus, Candace Smith, Sar...\n",
       "5553    Amanda Seyfried, Christina Hendricks, Frank We...\n",
       "Name: Cast, Length: 5554, dtype: object"
      ]
     },
     "execution_count": 18,
     "metadata": {},
     "output_type": "execute_result"
    }
   ],
   "source": [
    "movies['Cast']"
   ]
  },
  {
   "cell_type": "code",
   "execution_count": 19,
   "id": "fd6bbe2f",
   "metadata": {},
   "outputs": [],
   "source": [
    "import re\n",
    "movies['Reviews'] = movies['Reviews'].apply(lambda x: re.sub(r'[^a-zA-Z\\s,]', '', x))"
   ]
  },
  {
   "cell_type": "code",
   "execution_count": 20,
   "id": "fba32a3a",
   "metadata": {},
   "outputs": [
    {
     "data": {
      "text/plain": [
       "0                                                        \n",
       "1                                                        \n",
       "2                                                        \n",
       "3                                                        \n",
       "4                                                        \n",
       "                              ...                        \n",
       "5549    A good but not great film that couldve been be...\n",
       "5550                                                     \n",
       "5551    emCaponeem disappoints\\r\\n\\r\\nIts not what I w...\n",
       "5552                                                     \n",
       "5553    I guess I can commend Warner Bros for attempti...\n",
       "Name: Reviews, Length: 5554, dtype: object"
      ]
     },
     "execution_count": 20,
     "metadata": {},
     "output_type": "execute_result"
    }
   ],
   "source": [
    "movies['Reviews']"
   ]
  },
  {
   "cell_type": "code",
   "execution_count": 21,
   "id": "1011a4a3",
   "metadata": {},
   "outputs": [],
   "source": [
    "# Replace the space between two names for consistent formatting\n",
    "movies['Cast'] = movies['Cast'].str.replace(' ', '')\n",
    "movies['Director'] = movies['Director'].str.replace(' ', '')\n",
    "movies['Genre'] = movies['Genre'].str.replace(' ', '')\n",
    "movies['Reviews'] = movies['Reviews'].apply(lambda x: ''.join(x))"
   ]
  },
  {
   "cell_type": "code",
   "execution_count": 22,
   "id": "f24c05c5",
   "metadata": {},
   "outputs": [],
   "source": [
    "# movies['Cast']"
   ]
  },
  {
   "cell_type": "code",
   "execution_count": 23,
   "id": "909c28df",
   "metadata": {},
   "outputs": [],
   "source": [
    "# Separate the features with commas using split for input to the Naive Bayes algorithm\n",
    "movies['Overview'] = movies['Overview'].apply(lambda x: x)\n",
    "movies['Cast'] = movies['Cast'].apply(lambda x: x)\n",
    "movies['Genre'] = movies['Genre'].apply(lambda x: x)\n",
    "movies['Director'] = movies['Director'].apply(lambda x: x)\n",
    "movies['Reviews'] = movies['Reviews'].apply(lambda x: x)"
   ]
  },
  {
   "cell_type": "code",
   "execution_count": 24,
   "id": "ee7fd9df",
   "metadata": {},
   "outputs": [],
   "source": [
    "# movies[\"Overview\"]\n",
    "# movies.columns"
   ]
  },
  {
   "cell_type": "code",
   "execution_count": 25,
   "id": "655830f3",
   "metadata": {},
   "outputs": [],
   "source": [
    "# Combine multiple sources of data to create tags for input to the algorithm\n",
    "movies['Tags'] = movies['Cast'] + movies['Overview'] + movies[\"Reviews\"] + movies['Genre'] + movies['Director'] "
   ]
  },
  {
   "cell_type": "code",
   "execution_count": 26,
   "id": "9f360fdb",
   "metadata": {},
   "outputs": [],
   "source": [
    "# movies['Tags']"
   ]
  },
  {
   "cell_type": "code",
   "execution_count": 27,
   "id": "1c1475c5",
   "metadata": {},
   "outputs": [],
   "source": [
    "# Filter the DataFrame to select only the relevant columns for our model\n",
    "new_df = movies[['Id','Title','Tags']]"
   ]
  },
  {
   "cell_type": "code",
   "execution_count": 28,
   "id": "685f12be",
   "metadata": {},
   "outputs": [],
   "source": [
    "new_df.rename(columns= {'Id':'movie_id','Title':'movie_title'}, inplace = True)"
   ]
  },
  {
   "cell_type": "code",
   "execution_count": 29,
   "id": "503eb55c",
   "metadata": {},
   "outputs": [],
   "source": [
    "# new_df.rename(columns= {'Id':'movie_id','Title':'title','Tags':'tags'}, inplace = True)"
   ]
  },
  {
   "cell_type": "code",
   "execution_count": 30,
   "id": "8242e163",
   "metadata": {},
   "outputs": [
    {
     "data": {
      "text/plain": [
       "Index(['Id', 'Title', 'Director', 'Cast', 'Genre', 'Overview', 'Reviews',\n",
       "       'Tags'],\n",
       "      dtype='object')"
      ]
     },
     "execution_count": 30,
     "metadata": {},
     "output_type": "execute_result"
    }
   ],
   "source": [
    "movies.columns"
   ]
  },
  {
   "cell_type": "code",
   "execution_count": 31,
   "id": "6cd3275a",
   "metadata": {},
   "outputs": [
    {
     "data": {
      "text/html": [
       "<div>\n",
       "<style scoped>\n",
       "    .dataframe tbody tr th:only-of-type {\n",
       "        vertical-align: middle;\n",
       "    }\n",
       "\n",
       "    .dataframe tbody tr th {\n",
       "        vertical-align: top;\n",
       "    }\n",
       "\n",
       "    .dataframe thead th {\n",
       "        text-align: right;\n",
       "    }\n",
       "</style>\n",
       "<table border=\"1\" class=\"dataframe\">\n",
       "  <thead>\n",
       "    <tr style=\"text-align: right;\">\n",
       "      <th></th>\n",
       "      <th>movie_id</th>\n",
       "      <th>movie_title</th>\n",
       "      <th>Tags</th>\n",
       "    </tr>\n",
       "  </thead>\n",
       "  <tbody>\n",
       "    <tr>\n",
       "      <th>0</th>\n",
       "      <td>391629</td>\n",
       "      <td>Baaghi</td>\n",
       "      <td>TigerShroff,ShraddhaKapoor,SunilGrover,Sudheer...</td>\n",
       "    </tr>\n",
       "    <tr>\n",
       "      <th>1</th>\n",
       "      <td>25918</td>\n",
       "      <td>Champion</td>\n",
       "      <td>KirkDouglas,MarilynMaxwell,ArthurKennedy,PaulS...</td>\n",
       "    </tr>\n",
       "    <tr>\n",
       "      <th>2</th>\n",
       "      <td>1104040</td>\n",
       "      <td>Gangs of Lagos</td>\n",
       "      <td>DemiBanwo,AdesuaEtomi-Wellington,TobiBakre,Ade...</td>\n",
       "    </tr>\n",
       "    <tr>\n",
       "      <th>3</th>\n",
       "      <td>157800</td>\n",
       "      <td>Har Dil Jo Pyar Karega</td>\n",
       "      <td>SalmanKhan,RaniMukerji,PreityZinta,NeerajVora,...</td>\n",
       "    </tr>\n",
       "    <tr>\n",
       "      <th>4</th>\n",
       "      <td>60579</td>\n",
       "      <td>Hey Ram</td>\n",
       "      <td>KamalHaasan,ShahRukhKhan,HemaMalini,RaniMukerj...</td>\n",
       "    </tr>\n",
       "    <tr>\n",
       "      <th>...</th>\n",
       "      <td>...</td>\n",
       "      <td>...</td>\n",
       "      <td>...</td>\n",
       "    </tr>\n",
       "    <tr>\n",
       "      <th>5549</th>\n",
       "      <td>560204</td>\n",
       "      <td>Arkansas</td>\n",
       "      <td>LiamHemsworth,ClarkDuke,VinceVaughn,JohnMalkov...</td>\n",
       "    </tr>\n",
       "    <tr>\n",
       "      <th>5550</th>\n",
       "      <td>19053</td>\n",
       "      <td>Valley Girl</td>\n",
       "      <td>NicolasCage,DeborahForeman,ElizabethDaily,Mich...</td>\n",
       "    </tr>\n",
       "    <tr>\n",
       "      <th>5551</th>\n",
       "      <td>429422</td>\n",
       "      <td>Capone</td>\n",
       "      <td>TomHardy,LindaCardellini,MattDillon,KyleMacLac...</td>\n",
       "    </tr>\n",
       "    <tr>\n",
       "      <th>5552</th>\n",
       "      <td>582596</td>\n",
       "      <td>The Wrong Missy</td>\n",
       "      <td>DavidSpade,LaurenLapkus,CandaceSmith,SarahChal...</td>\n",
       "    </tr>\n",
       "    <tr>\n",
       "      <th>5553</th>\n",
       "      <td>385103</td>\n",
       "      <td>Scoob!</td>\n",
       "      <td>AmandaSeyfried,ChristinaHendricks,FrankWelker,...</td>\n",
       "    </tr>\n",
       "  </tbody>\n",
       "</table>\n",
       "<p>5554 rows × 3 columns</p>\n",
       "</div>"
      ],
      "text/plain": [
       "      movie_id             movie_title   \n",
       "0       391629                  Baaghi  \\\n",
       "1        25918                Champion   \n",
       "2      1104040          Gangs of Lagos   \n",
       "3       157800  Har Dil Jo Pyar Karega   \n",
       "4        60579                 Hey Ram   \n",
       "...        ...                     ...   \n",
       "5549    560204                Arkansas   \n",
       "5550     19053             Valley Girl   \n",
       "5551    429422                  Capone   \n",
       "5552    582596         The Wrong Missy   \n",
       "5553    385103                  Scoob!   \n",
       "\n",
       "                                                   Tags  \n",
       "0     TigerShroff,ShraddhaKapoor,SunilGrover,Sudheer...  \n",
       "1     KirkDouglas,MarilynMaxwell,ArthurKennedy,PaulS...  \n",
       "2     DemiBanwo,AdesuaEtomi-Wellington,TobiBakre,Ade...  \n",
       "3     SalmanKhan,RaniMukerji,PreityZinta,NeerajVora,...  \n",
       "4     KamalHaasan,ShahRukhKhan,HemaMalini,RaniMukerj...  \n",
       "...                                                 ...  \n",
       "5549  LiamHemsworth,ClarkDuke,VinceVaughn,JohnMalkov...  \n",
       "5550  NicolasCage,DeborahForeman,ElizabethDaily,Mich...  \n",
       "5551  TomHardy,LindaCardellini,MattDillon,KyleMacLac...  \n",
       "5552  DavidSpade,LaurenLapkus,CandaceSmith,SarahChal...  \n",
       "5553  AmandaSeyfried,ChristinaHendricks,FrankWelker,...  \n",
       "\n",
       "[5554 rows x 3 columns]"
      ]
     },
     "execution_count": 31,
     "metadata": {},
     "output_type": "execute_result"
    }
   ],
   "source": [
    "new_df"
   ]
  },
  {
   "cell_type": "code",
   "execution_count": 32,
   "id": "7894691f",
   "metadata": {},
   "outputs": [],
   "source": [
    "# Convert a list of data to a string using the join() method for further processing\n",
    "new_df['Tags'] = new_df['Tags'].apply(lambda x:''.join(x))"
   ]
  },
  {
   "cell_type": "code",
   "execution_count": 33,
   "id": "e0fc1dc3",
   "metadata": {},
   "outputs": [],
   "source": [
    "# Convert all characters to lowercase for compatibility with the NLTK library\n",
    "new_df['Tags'] = new_df['Tags'].apply(lambda x:x.lower())"
   ]
  },
  {
   "cell_type": "code",
   "execution_count": 34,
   "id": "baa0486c",
   "metadata": {},
   "outputs": [
    {
     "data": {
      "text/plain": [
       "0       tigershroff,shraddhakapoor,sunilgrover,sudheer...\n",
       "1       kirkdouglas,marilynmaxwell,arthurkennedy,pauls...\n",
       "2       demibanwo,adesuaetomi-wellington,tobibakre,ade...\n",
       "3       salmankhan,ranimukerji,preityzinta,neerajvora,...\n",
       "4       kamalhaasan,shahrukhkhan,hemamalini,ranimukerj...\n",
       "                              ...                        \n",
       "5549    liamhemsworth,clarkduke,vincevaughn,johnmalkov...\n",
       "5550    nicolascage,deborahforeman,elizabethdaily,mich...\n",
       "5551    tomhardy,lindacardellini,mattdillon,kylemaclac...\n",
       "5552    davidspade,laurenlapkus,candacesmith,sarahchal...\n",
       "5553    amandaseyfried,christinahendricks,frankwelker,...\n",
       "Name: Tags, Length: 5554, dtype: object"
      ]
     },
     "execution_count": 34,
     "metadata": {},
     "output_type": "execute_result"
    }
   ],
   "source": [
    "new_df[\"Tags\"]"
   ]
  },
  {
   "cell_type": "code",
   "execution_count": 35,
   "id": "1e794531",
   "metadata": {},
   "outputs": [],
   "source": [
    "# Define a function that uses the Porter stemming algorithm from the NLTK library to normalize text\n",
    "# The function splits the input text into individual words, applies stemming to each word using a `PorterStemmer` instance,\n",
    "# and returns the normalized text as a string with stemmed words joined by spaces.\n",
    "\n",
    "import nltk\n",
    "from nltk.stem.porter import PorterStemmer\n",
    "ps = PorterStemmer()\n",
    "\n",
    "def stem(text):\n",
    "    y = []\n",
    "    for i in text.split():\n",
    "        y.append(ps.stem(i))\n",
    "    return \" \".join(y)"
   ]
  },
  {
   "cell_type": "code",
   "execution_count": 36,
   "id": "04165650",
   "metadata": {},
   "outputs": [
    {
     "name": "stdout",
     "output_type": "stream",
     "text": [
      "(5554, 20000)\n",
      "[0 0 0 ... 0 0 0]\n"
     ]
    }
   ],
   "source": [
    "# Import necessary libraries and prepare data for modeling and evaluation of classification model using CountVectorizer feature extraction.\n",
    "from sklearn.feature_extraction.text import CountVectorizer\n",
    "\n",
    "# Import a Multinomial NaiveBayes, Gaussian NaiveBayes, RandomForest, Support Vector Machine classifier\n",
    "from sklearn.naive_bayes import MultinomialNB,GaussianNB\n",
    "from sklearn.ensemble import RandomForestClassifier\n",
    "from sklearn.svm import SVC\n",
    "\n",
    "# Convert the Tags column into numerical features using CountVectorizer\n",
    "cv = CountVectorizer(max_features=20000,strip_accents='ascii', stop_words='english')\n",
    "from nltk.corpus import stopwords\n",
    "StopWord = stopwords.words('english')\n",
    "# cv = CountVectorizer(lowercase=True, strip_accents='ascii',stop_words=StopWord)\n",
    "\n",
    "vectors = cv.fit_transform(new_df['Tags']).toarray()   \n",
    "x = vectors\n",
    "print(x.shape)\n",
    "print(x[0])\n",
    "\n",
    "# Convert movie titles to numeric labels\n",
    "from sklearn.preprocessing import LabelEncoder\n",
    "\n",
    "encoder = LabelEncoder()\n",
    "y = encoder.fit_transform(new_df['movie_title'])\n",
    "\n",
    "# Train and test split the data using the 'Title' column as the target variable for classification.\n",
    "# Split the data into training and testing sets\n",
    "\n",
    "from sklearn.model_selection import train_test_split\n",
    "x_train, x_test, y_train, y_test = train_test_split(x,y, test_size=0.2, random_state=4)"
   ]
  },
  {
   "cell_type": "markdown",
   "id": "df917a5c",
   "metadata": {},
   "source": [
    "### # The cosine similarity matrix for the input data `vectors`.\n"
   ]
  },
  {
   "cell_type": "markdown",
   "id": "7d98f588",
   "metadata": {},
   "source": [
    "This code computes the cosine similarity matrix between the rows of the input matrix x using the cosine_similarity() function from scikit-learn's metrics.pairwise module, and assigns it to the variable similarity. The resulting matrix can be used to measure the similarity between different rows or documents represented in the input matrix x."
   ]
  },
  {
   "cell_type": "code",
   "execution_count": 37,
   "id": "f717017a",
   "metadata": {},
   "outputs": [],
   "source": [
    "# Calculates the cosine similarity matrix for the input data vectors.\n",
    "from sklearn.metrics.pairwise import cosine_similarity\n",
    "similarty = cosine_similarity(vectors)"
   ]
  },
  {
   "cell_type": "code",
   "execution_count": 38,
   "id": "8485e889",
   "metadata": {},
   "outputs": [],
   "source": [
    "def recommend(movie):\n",
    "    movie_index = new_df[new_df['movie_title'] == movie].index[0]\n",
    "    distances = similarty[movie_index]\n",
    "    movie_list = sorted(list(enumerate(distances)), reverse=True, key=lambda x: x[1])[0:6]\n",
    "    print(f\"Movies similar to '{movie}':\")\n",
    "    print(\"------------------------\")\n",
    "    # print(movie) # print the input movie first\n",
    "    for i in movie_list:\n",
    "        print(new_df.iloc[i[0]].movie_title)\n"
   ]
  },
  {
   "cell_type": "code",
   "execution_count": 39,
   "id": "fa1907ca",
   "metadata": {},
   "outputs": [
    {
     "name": "stdout",
     "output_type": "stream",
     "text": [
      "Movies similar to 'Spider-Man':\n",
      "------------------------\n",
      "Spider-Man\n",
      "Spider-Man 2\n",
      "Spider-Man: Into the Spider-Verse\n",
      "The Avengers\n",
      "Spider-Man: Homecoming\n",
      "The Amazing Spider-Man\n"
     ]
    }
   ],
   "source": [
    "recommend(\"Spider-Man\")"
   ]
  },
  {
   "cell_type": "code",
   "execution_count": 40,
   "id": "21661ef1",
   "metadata": {},
   "outputs": [
    {
     "name": "stdout",
     "output_type": "stream",
     "text": [
      "12438880\n"
     ]
    }
   ],
   "source": [
    "# get model in pickel\n",
    "import pickle\n",
    "import os\n",
    "\n",
    "pickle.dump(new_df, open('model/movies_list.pkl','wb'))\n",
    "print(os.path.getsize(\"model/movies_list.pkl\"))"
   ]
  },
  {
   "cell_type": "code",
   "execution_count": 41,
   "id": "6bf5ed83",
   "metadata": {},
   "outputs": [
    {
     "name": "stdout",
     "output_type": "stream",
     "text": [
      "246775491\n"
     ]
    }
   ],
   "source": [
    "pickle.dump(similarty,open(\"model/similarity.pkl\",'wb'))\n",
    "print(os.path.getsize(\"model/similarity.pkl\"))"
   ]
  },
  {
   "cell_type": "code",
   "execution_count": 42,
   "id": "a57fa2d3",
   "metadata": {},
   "outputs": [
    {
     "name": "stdout",
     "output_type": "stream",
     "text": [
      "100211638\n"
     ]
    }
   ],
   "source": [
    "# Compressing Data of pickel model\n",
    "import bz2file as bz2 \n",
    "pickle.dump(similarty,bz2.BZ2File(\"model/similarity.pkl\",'wb'))\n",
    " \n",
    "print(os.path.getsize(\"model/similarity.pkl\"))"
   ]
  },
  {
   "cell_type": "code",
   "execution_count": 43,
   "id": "7118ff33",
   "metadata": {},
   "outputs": [],
   "source": [
    "# pip install bz2file, patsy"
   ]
  },
  {
   "cell_type": "code",
   "execution_count": 44,
   "id": "8fcf09ff",
   "metadata": {},
   "outputs": [],
   "source": [
    "movies = pickle.load(open('model/movies_list.pkl', 'rb'))\n",
    "similarity = pickle.load(bz2.BZ2File('model/similarity.pkl', 'rb'))   #filename"
   ]
  },
  {
   "cell_type": "code",
   "execution_count": 45,
   "id": "2cf10f19",
   "metadata": {},
   "outputs": [
    {
     "data": {
      "text/html": [
       "<div>\n",
       "<style scoped>\n",
       "    .dataframe tbody tr th:only-of-type {\n",
       "        vertical-align: middle;\n",
       "    }\n",
       "\n",
       "    .dataframe tbody tr th {\n",
       "        vertical-align: top;\n",
       "    }\n",
       "\n",
       "    .dataframe thead th {\n",
       "        text-align: right;\n",
       "    }\n",
       "</style>\n",
       "<table border=\"1\" class=\"dataframe\">\n",
       "  <thead>\n",
       "    <tr style=\"text-align: right;\">\n",
       "      <th></th>\n",
       "      <th>movie_id</th>\n",
       "      <th>movie_title</th>\n",
       "      <th>Tags</th>\n",
       "    </tr>\n",
       "  </thead>\n",
       "  <tbody>\n",
       "    <tr>\n",
       "      <th>0</th>\n",
       "      <td>391629</td>\n",
       "      <td>Baaghi</td>\n",
       "      <td>tigershroff,shraddhakapoor,sunilgrover,sudheer...</td>\n",
       "    </tr>\n",
       "    <tr>\n",
       "      <th>1</th>\n",
       "      <td>25918</td>\n",
       "      <td>Champion</td>\n",
       "      <td>kirkdouglas,marilynmaxwell,arthurkennedy,pauls...</td>\n",
       "    </tr>\n",
       "    <tr>\n",
       "      <th>2</th>\n",
       "      <td>1104040</td>\n",
       "      <td>Gangs of Lagos</td>\n",
       "      <td>demibanwo,adesuaetomi-wellington,tobibakre,ade...</td>\n",
       "    </tr>\n",
       "    <tr>\n",
       "      <th>3</th>\n",
       "      <td>157800</td>\n",
       "      <td>Har Dil Jo Pyar Karega</td>\n",
       "      <td>salmankhan,ranimukerji,preityzinta,neerajvora,...</td>\n",
       "    </tr>\n",
       "    <tr>\n",
       "      <th>4</th>\n",
       "      <td>60579</td>\n",
       "      <td>Hey Ram</td>\n",
       "      <td>kamalhaasan,shahrukhkhan,hemamalini,ranimukerj...</td>\n",
       "    </tr>\n",
       "    <tr>\n",
       "      <th>...</th>\n",
       "      <td>...</td>\n",
       "      <td>...</td>\n",
       "      <td>...</td>\n",
       "    </tr>\n",
       "    <tr>\n",
       "      <th>5549</th>\n",
       "      <td>560204</td>\n",
       "      <td>Arkansas</td>\n",
       "      <td>liamhemsworth,clarkduke,vincevaughn,johnmalkov...</td>\n",
       "    </tr>\n",
       "    <tr>\n",
       "      <th>5550</th>\n",
       "      <td>19053</td>\n",
       "      <td>Valley Girl</td>\n",
       "      <td>nicolascage,deborahforeman,elizabethdaily,mich...</td>\n",
       "    </tr>\n",
       "    <tr>\n",
       "      <th>5551</th>\n",
       "      <td>429422</td>\n",
       "      <td>Capone</td>\n",
       "      <td>tomhardy,lindacardellini,mattdillon,kylemaclac...</td>\n",
       "    </tr>\n",
       "    <tr>\n",
       "      <th>5552</th>\n",
       "      <td>582596</td>\n",
       "      <td>The Wrong Missy</td>\n",
       "      <td>davidspade,laurenlapkus,candacesmith,sarahchal...</td>\n",
       "    </tr>\n",
       "    <tr>\n",
       "      <th>5553</th>\n",
       "      <td>385103</td>\n",
       "      <td>Scoob!</td>\n",
       "      <td>amandaseyfried,christinahendricks,frankwelker,...</td>\n",
       "    </tr>\n",
       "  </tbody>\n",
       "</table>\n",
       "<p>5554 rows × 3 columns</p>\n",
       "</div>"
      ],
      "text/plain": [
       "      movie_id             movie_title   \n",
       "0       391629                  Baaghi  \\\n",
       "1        25918                Champion   \n",
       "2      1104040          Gangs of Lagos   \n",
       "3       157800  Har Dil Jo Pyar Karega   \n",
       "4        60579                 Hey Ram   \n",
       "...        ...                     ...   \n",
       "5549    560204                Arkansas   \n",
       "5550     19053             Valley Girl   \n",
       "5551    429422                  Capone   \n",
       "5552    582596         The Wrong Missy   \n",
       "5553    385103                  Scoob!   \n",
       "\n",
       "                                                   Tags  \n",
       "0     tigershroff,shraddhakapoor,sunilgrover,sudheer...  \n",
       "1     kirkdouglas,marilynmaxwell,arthurkennedy,pauls...  \n",
       "2     demibanwo,adesuaetomi-wellington,tobibakre,ade...  \n",
       "3     salmankhan,ranimukerji,preityzinta,neerajvora,...  \n",
       "4     kamalhaasan,shahrukhkhan,hemamalini,ranimukerj...  \n",
       "...                                                 ...  \n",
       "5549  liamhemsworth,clarkduke,vincevaughn,johnmalkov...  \n",
       "5550  nicolascage,deborahforeman,elizabethdaily,mich...  \n",
       "5551  tomhardy,lindacardellini,mattdillon,kylemaclac...  \n",
       "5552  davidspade,laurenlapkus,candacesmith,sarahchal...  \n",
       "5553  amandaseyfried,christinahendricks,frankwelker,...  \n",
       "\n",
       "[5554 rows x 3 columns]"
      ]
     },
     "execution_count": 45,
     "metadata": {},
     "output_type": "execute_result"
    }
   ],
   "source": [
    "movies"
   ]
  },
  {
   "cell_type": "code",
   "execution_count": 46,
   "id": "d70f27c9",
   "metadata": {},
   "outputs": [
    {
     "data": {
      "text/plain": [
       "array([[1.        , 0.        , 0.        , ..., 0.00996024, 0.        ,\n",
       "        0.        ],\n",
       "       [0.        , 1.        , 0.        , ..., 0.1069045 , 0.        ,\n",
       "        0.0907592 ],\n",
       "       [0.        , 0.        , 1.        , ..., 0.        , 0.        ,\n",
       "        0.03044156],\n",
       "       ...,\n",
       "       [0.00996024, 0.1069045 , 0.        , ..., 1.        , 0.00828742,\n",
       "        0.14917696],\n",
       "       [0.        , 0.        , 0.        , ..., 0.00828742, 1.        ,\n",
       "        0.02251459],\n",
       "       [0.        , 0.0907592 , 0.03044156, ..., 0.14917696, 0.02251459,\n",
       "        1.        ]])"
      ]
     },
     "execution_count": 46,
     "metadata": {},
     "output_type": "execute_result"
    }
   ],
   "source": [
    "similarity"
   ]
  },
  {
   "cell_type": "code",
   "execution_count": null,
   "id": "3689e664",
   "metadata": {},
   "outputs": [],
   "source": []
  }
 ],
 "metadata": {
  "kernelspec": {
   "display_name": "Python 3 (ipykernel)",
   "language": "python",
   "name": "python3"
  },
  "language_info": {
   "codemirror_mode": {
    "name": "ipython",
    "version": 3
   },
   "file_extension": ".py",
   "mimetype": "text/x-python",
   "name": "python",
   "nbconvert_exporter": "python",
   "pygments_lexer": "ipython3",
   "version": "3.9.13"
  }
 },
 "nbformat": 4,
 "nbformat_minor": 5
}
