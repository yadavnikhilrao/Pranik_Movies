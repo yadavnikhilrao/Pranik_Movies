{
 "cells": [
  {
   "cell_type": "code",
   "execution_count": 1,
   "id": "835e6a93",
   "metadata": {},
   "outputs": [],
   "source": [
    "# Importing essential tools\n",
    "import pandas as pd\n",
    "import matplotlib.pyplot as plt\n",
    "import numpy as np\n",
    "import warnings\n",
    "warnings.filterwarnings(\"ignore\")"
   ]
  },
  {
   "cell_type": "code",
   "execution_count": 2,
   "id": "c6558650",
   "metadata": {},
   "outputs": [],
   "source": [
    "# Load movie dataset\n",
    "movies = pd.read_csv(\"movies_meta_data.csv\")"
   ]
  },
  {
   "cell_type": "code",
   "execution_count": 3,
   "id": "461a7cf6",
   "metadata": {},
   "outputs": [
    {
     "data": {
      "text/plain": [
       "(10449, 21)"
      ]
     },
     "execution_count": 3,
     "metadata": {},
     "output_type": "execute_result"
    }
   ],
   "source": [
    "# Check how many rows and columns \n",
    "movies.shape"
   ]
  },
  {
   "cell_type": "code",
   "execution_count": 4,
   "id": "bca251be",
   "metadata": {},
   "outputs": [
    {
     "data": {
      "text/plain": [
       "3270"
      ]
     },
     "execution_count": 4,
     "metadata": {},
     "output_type": "execute_result"
    }
   ],
   "source": [
    "movies['Trailer Link'].isna().sum()"
   ]
  },
  {
   "cell_type": "code",
   "execution_count": 5,
   "id": "231bed84",
   "metadata": {},
   "outputs": [],
   "source": [
    "movies.dropna(subset=['Trailer Link'], inplace=True)"
   ]
  },
  {
   "cell_type": "code",
   "execution_count": 6,
   "id": "b5c31b52",
   "metadata": {},
   "outputs": [
    {
     "data": {
      "text/plain": [
       "(7179, 21)"
      ]
     },
     "execution_count": 6,
     "metadata": {},
     "output_type": "execute_result"
    }
   ],
   "source": [
    "movies.shape"
   ]
  },
  {
   "cell_type": "code",
   "execution_count": 7,
   "id": "ac9ab4af",
   "metadata": {},
   "outputs": [
    {
     "data": {
      "text/plain": [
       "Title                   0\n",
       "Id                      0\n",
       "Trailer Link            0\n",
       "Director               48\n",
       "Cast                    0\n",
       "genre_ids            7179\n",
       "Genre                  68\n",
       "Budget                  0\n",
       "Revenue                 0\n",
       "Overview                5\n",
       "Homepage             3893\n",
       "Year                    1\n",
       "Runtime                 0\n",
       "Popularity              0\n",
       "Adult                   0\n",
       "Release_Date            1\n",
       "Original_Title          0\n",
       "Original_Language       0\n",
       "Tagline              1785\n",
       "Vote_Average            0\n",
       "Vote_Count              0\n",
       "dtype: int64"
      ]
     },
     "execution_count": 7,
     "metadata": {},
     "output_type": "execute_result"
    }
   ],
   "source": [
    "# Check null values\n",
    "movies.isna().sum()"
   ]
  },
  {
   "cell_type": "code",
   "execution_count": 8,
   "id": "8700c853",
   "metadata": {},
   "outputs": [],
   "source": [
    "# Select a subset of columns from the 'movies' DataFrame\n",
    "movies = movies[['Id','Title','Director','Cast','Genre','Overview']]"
   ]
  },
  {
   "cell_type": "code",
   "execution_count": 9,
   "id": "4dd54350",
   "metadata": {},
   "outputs": [
    {
     "data": {
      "text/plain": [
       "Id           0\n",
       "Title        0\n",
       "Director    48\n",
       "Cast         0\n",
       "Genre       68\n",
       "Overview     5\n",
       "dtype: int64"
      ]
     },
     "execution_count": 9,
     "metadata": {},
     "output_type": "execute_result"
    }
   ],
   "source": [
    "# Check null values\n",
    "movies.isna().sum()"
   ]
  },
  {
   "cell_type": "code",
   "execution_count": 10,
   "id": "c988a722",
   "metadata": {},
   "outputs": [
    {
     "data": {
      "text/plain": [
       "1588"
      ]
     },
     "execution_count": 10,
     "metadata": {},
     "output_type": "execute_result"
    }
   ],
   "source": [
    "# Check number of duplicated entries in the 'Title' column \n",
    "movies.duplicated(subset=['Id']).sum()"
   ]
  },
  {
   "cell_type": "code",
   "execution_count": 12,
   "id": "f9f4cb3e",
   "metadata": {},
   "outputs": [],
   "source": [
    "# Drops the duplicated rows in the 'Title' column and modifies the 'movies' dataframe in place.\n",
    "movies.drop_duplicates(subset=['Id'], inplace=True)"
   ]
  },
  {
   "cell_type": "code",
   "execution_count": 13,
   "id": "c0088fff",
   "metadata": {},
   "outputs": [
    {
     "data": {
      "text/plain": [
       "(5591, 6)"
      ]
     },
     "execution_count": 13,
     "metadata": {},
     "output_type": "execute_result"
    }
   ],
   "source": [
    "movies.shape"
   ]
  },
  {
   "cell_type": "code",
   "execution_count": 14,
   "id": "88f99fb6",
   "metadata": {},
   "outputs": [
    {
     "data": {
      "text/plain": [
       "Id           0\n",
       "Title        0\n",
       "Director    45\n",
       "Cast         0\n",
       "Genre       66\n",
       "Overview     5\n",
       "dtype: int64"
      ]
     },
     "execution_count": 14,
     "metadata": {},
     "output_type": "execute_result"
    }
   ],
   "source": [
    "# Check null values\n",
    "movies.isna().sum()"
   ]
  },
  {
   "cell_type": "code",
   "execution_count": 15,
   "id": "7ffd5d55",
   "metadata": {},
   "outputs": [],
   "source": [
    "# Reset index\n",
    "movies = movies.reset_index(drop=True)"
   ]
  },
  {
   "cell_type": "markdown",
   "id": "11d68362",
   "metadata": {},
   "source": [
    "### Collecting Reviews of 5591 movies"
   ]
  },
  {
   "cell_type": "code",
   "execution_count": 50,
   "id": "0ede7169",
   "metadata": {},
   "outputs": [],
   "source": [
    "from tmdbv3api import TMDb\n",
    "from tmdbv3api import Movie\n",
    "import requests\n",
    "\n",
    "# initialize TMDb object\n",
    "tmdb = TMDb()\n",
    "\n",
    "# enter your API key here\n",
    "tmdb.api_key = 'db47f4d8f92f5ca02c7840f594a293ad'\n",
    "\n",
    "# initialize Movie object\n",
    "tmdb_movie = Movie()\n",
    "def get_movie_info(title):\n",
    "    search_response = tmdb_movie.search(title)\n",
    "    if not search_response:\n",
    "        return None\n",
    "    movie_id = search_response[0].id\n",
    "    movie = tmdb_movie.details(movie_id)\n",
    "    # retrieve up to 10 pages of reviews\n",
    "    page = 1\n",
    "    reviews = []\n",
    "    while True:\n",
    "        response = requests.get(f'https://api.themoviedb.org/3/movie/{movie_id}/reviews?api_key={tmdb.api_key}&language=en-US&page={page}')\n",
    "        results = response.json()['results']\n",
    "        if not results:\n",
    "            break\n",
    "        reviews.extend([review['content'] for review in results])\n",
    "        if page >= 6:\n",
    "            break\n",
    "        else:\n",
    "            page += 1\n",
    "            \n",
    "    return { 'Id': movie.id, 'Reviews': ' '.join(reviews) if reviews else ''}\n",
    "\n",
    "\n",
    "# create list of movie titles\n",
    "Titles = []\n",
    "movie_names = movies['Title'].map(lambda x: Titles.append(x))\n",
    "Titles = Titles[2500:3000]\n",
    "\n",
    "\n",
    "# retrieve data for each movie and concatenate into a single DataFrame\n",
    "data_frames = [pd.DataFrame([get_movie_info(title)]) for title in Titles]"
   ]
  },
  {
   "cell_type": "code",
   "execution_count": 51,
   "id": "9a2b0c46",
   "metadata": {},
   "outputs": [],
   "source": [
    "df6 = pd.concat(data_frames, ignore_index=True)"
   ]
  },
  {
   "cell_type": "code",
   "execution_count": 54,
   "id": "4f97411c",
   "metadata": {},
   "outputs": [],
   "source": [
    "df = pd.concat([df1,df2,df3,df4,df5,df6,df7,df8,df9,df10,df11],ignore_index=True)"
   ]
  },
  {
   "cell_type": "code",
   "execution_count": 80,
   "id": "ef8048c9",
   "metadata": {},
   "outputs": [
    {
     "data": {
      "text/html": [
       "<div>\n",
       "<style scoped>\n",
       "    .dataframe tbody tr th:only-of-type {\n",
       "        vertical-align: middle;\n",
       "    }\n",
       "\n",
       "    .dataframe tbody tr th {\n",
       "        vertical-align: top;\n",
       "    }\n",
       "\n",
       "    .dataframe thead th {\n",
       "        text-align: right;\n",
       "    }\n",
       "</style>\n",
       "<table border=\"1\" class=\"dataframe\">\n",
       "  <thead>\n",
       "    <tr style=\"text-align: right;\">\n",
       "      <th></th>\n",
       "      <th>Id</th>\n",
       "      <th>Reviews</th>\n",
       "      <th>0</th>\n",
       "    </tr>\n",
       "  </thead>\n",
       "  <tbody>\n",
       "    <tr>\n",
       "      <th>0</th>\n",
       "      <td>391629.0</td>\n",
       "      <td>NaN</td>\n",
       "      <td>NaN</td>\n",
       "    </tr>\n",
       "    <tr>\n",
       "      <th>1</th>\n",
       "      <td>25918.0</td>\n",
       "      <td>NaN</td>\n",
       "      <td>NaN</td>\n",
       "    </tr>\n",
       "    <tr>\n",
       "      <th>2</th>\n",
       "      <td>1104040.0</td>\n",
       "      <td>NaN</td>\n",
       "      <td>NaN</td>\n",
       "    </tr>\n",
       "    <tr>\n",
       "      <th>3</th>\n",
       "      <td>157800.0</td>\n",
       "      <td>NaN</td>\n",
       "      <td>NaN</td>\n",
       "    </tr>\n",
       "    <tr>\n",
       "      <th>4</th>\n",
       "      <td>60579.0</td>\n",
       "      <td>NaN</td>\n",
       "      <td>NaN</td>\n",
       "    </tr>\n",
       "    <tr>\n",
       "      <th>...</th>\n",
       "      <td>...</td>\n",
       "      <td>...</td>\n",
       "      <td>...</td>\n",
       "    </tr>\n",
       "    <tr>\n",
       "      <th>5586</th>\n",
       "      <td>41515.0</td>\n",
       "      <td>NaN</td>\n",
       "      <td>NaN</td>\n",
       "    </tr>\n",
       "    <tr>\n",
       "      <th>5587</th>\n",
       "      <td>45324.0</td>\n",
       "      <td>\"The great American past-time has never been b...</td>\n",
       "      <td>NaN</td>\n",
       "    </tr>\n",
       "    <tr>\n",
       "      <th>5588</th>\n",
       "      <td>27585.0</td>\n",
       "      <td>**A frankly well-made film, but very painful t...</td>\n",
       "      <td>NaN</td>\n",
       "    </tr>\n",
       "    <tr>\n",
       "      <th>5589</th>\n",
       "      <td>39451.0</td>\n",
       "      <td>NaN</td>\n",
       "      <td>NaN</td>\n",
       "    </tr>\n",
       "    <tr>\n",
       "      <th>5590</th>\n",
       "      <td>44264.0</td>\n",
       "      <td>Over their storied career, the Coen Brothers h...</td>\n",
       "      <td>NaN</td>\n",
       "    </tr>\n",
       "  </tbody>\n",
       "</table>\n",
       "<p>5591 rows × 3 columns</p>\n",
       "</div>"
      ],
      "text/plain": [
       "             Id                                            Reviews   0\n",
       "0      391629.0                                                NaN NaN\n",
       "1       25918.0                                                NaN NaN\n",
       "2     1104040.0                                                NaN NaN\n",
       "3      157800.0                                                NaN NaN\n",
       "4       60579.0                                                NaN NaN\n",
       "...         ...                                                ...  ..\n",
       "5586    41515.0                                                NaN NaN\n",
       "5587    45324.0  \"The great American past-time has never been b... NaN\n",
       "5588    27585.0  **A frankly well-made film, but very painful t... NaN\n",
       "5589    39451.0                                                NaN NaN\n",
       "5590    44264.0  Over their storied career, the Coen Brothers h... NaN\n",
       "\n",
       "[5591 rows x 3 columns]"
      ]
     },
     "execution_count": 80,
     "metadata": {},
     "output_type": "execute_result"
    }
   ],
   "source": [
    "df"
   ]
  },
  {
   "cell_type": "code",
   "execution_count": 81,
   "id": "0e1ea8ef",
   "metadata": {},
   "outputs": [
    {
     "data": {
      "text/html": [
       "<div>\n",
       "<style scoped>\n",
       "    .dataframe tbody tr th:only-of-type {\n",
       "        vertical-align: middle;\n",
       "    }\n",
       "\n",
       "    .dataframe tbody tr th {\n",
       "        vertical-align: top;\n",
       "    }\n",
       "\n",
       "    .dataframe thead th {\n",
       "        text-align: right;\n",
       "    }\n",
       "</style>\n",
       "<table border=\"1\" class=\"dataframe\">\n",
       "  <thead>\n",
       "    <tr style=\"text-align: right;\">\n",
       "      <th></th>\n",
       "      <th>Id</th>\n",
       "      <th>Title</th>\n",
       "      <th>Director</th>\n",
       "      <th>Cast</th>\n",
       "      <th>Genre</th>\n",
       "      <th>Overview</th>\n",
       "    </tr>\n",
       "  </thead>\n",
       "  <tbody>\n",
       "    <tr>\n",
       "      <th>0</th>\n",
       "      <td>391629</td>\n",
       "      <td>Baaghi</td>\n",
       "      <td>Sabbir Khan</td>\n",
       "      <td>['Tiger Shroff', 'Shraddha Kapoor', 'Sunil Gro...</td>\n",
       "      <td>Action, Thriller, Romance</td>\n",
       "      <td>Ronny is a rebellious man, who falls in love w...</td>\n",
       "    </tr>\n",
       "    <tr>\n",
       "      <th>1</th>\n",
       "      <td>25918</td>\n",
       "      <td>Champion</td>\n",
       "      <td>Mark Robson</td>\n",
       "      <td>['Kirk Douglas', 'Marilyn Maxwell', 'Arthur Ke...</td>\n",
       "      <td>Drama</td>\n",
       "      <td>An unscrupulous boxer fights his way to the to...</td>\n",
       "    </tr>\n",
       "    <tr>\n",
       "      <th>2</th>\n",
       "      <td>1104040</td>\n",
       "      <td>Gangs of Lagos</td>\n",
       "      <td>Jadesola Osiberu</td>\n",
       "      <td>['Demi Banwo', 'Adesua Etomi-Wellington', 'Tob...</td>\n",
       "      <td>Crime</td>\n",
       "      <td>A group of friends who each have to navigate t...</td>\n",
       "    </tr>\n",
       "    <tr>\n",
       "      <th>3</th>\n",
       "      <td>157800</td>\n",
       "      <td>Har Dil Jo Pyar Karega</td>\n",
       "      <td>Raj Kanwar</td>\n",
       "      <td>['Salman Khan', 'Rani Mukerji', 'Preity Zinta'...</td>\n",
       "      <td>Comedy, Drama</td>\n",
       "      <td>Raj is a struggling singer chasing his dreams ...</td>\n",
       "    </tr>\n",
       "    <tr>\n",
       "      <th>4</th>\n",
       "      <td>60579</td>\n",
       "      <td>Hey Ram</td>\n",
       "      <td>Kamal Haasan</td>\n",
       "      <td>['Kamal Haasan', 'Shah Rukh Khan', 'Hema Malin...</td>\n",
       "      <td>History, Drama, Crime</td>\n",
       "      <td>Saketh Ram's wife is raped and killed during d...</td>\n",
       "    </tr>\n",
       "    <tr>\n",
       "      <th>...</th>\n",
       "      <td>...</td>\n",
       "      <td>...</td>\n",
       "      <td>...</td>\n",
       "      <td>...</td>\n",
       "      <td>...</td>\n",
       "      <td>...</td>\n",
       "    </tr>\n",
       "    <tr>\n",
       "      <th>5586</th>\n",
       "      <td>560204</td>\n",
       "      <td>Arkansas</td>\n",
       "      <td>Clark Duke</td>\n",
       "      <td>['Liam Hemsworth', 'Clark Duke', 'Vince Vaughn...</td>\n",
       "      <td>Crime, Thriller</td>\n",
       "      <td>Kyle and Swin live by the orders of an Arkansa...</td>\n",
       "    </tr>\n",
       "    <tr>\n",
       "      <th>5587</th>\n",
       "      <td>19053</td>\n",
       "      <td>Valley Girl</td>\n",
       "      <td>Martha Coolidge</td>\n",
       "      <td>['Nicolas Cage', 'Deborah Foreman', 'Elizabeth...</td>\n",
       "      <td>Comedy, Romance</td>\n",
       "      <td>Julie, a girl from the valley, meets Randy, a ...</td>\n",
       "    </tr>\n",
       "    <tr>\n",
       "      <th>5588</th>\n",
       "      <td>429422</td>\n",
       "      <td>Capone</td>\n",
       "      <td>Josh Trank</td>\n",
       "      <td>['Tom Hardy', 'Linda Cardellini', 'Matt Dillon...</td>\n",
       "      <td>Crime, Drama</td>\n",
       "      <td>The 47-year old Al Capone, after 10 years in p...</td>\n",
       "    </tr>\n",
       "    <tr>\n",
       "      <th>5589</th>\n",
       "      <td>582596</td>\n",
       "      <td>The Wrong Missy</td>\n",
       "      <td>Tyler Spindel</td>\n",
       "      <td>['David Spade', 'Lauren Lapkus', 'Candace Smit...</td>\n",
       "      <td>Comedy, Romance</td>\n",
       "      <td>A guy meets the woman of his dreams and invite...</td>\n",
       "    </tr>\n",
       "    <tr>\n",
       "      <th>5590</th>\n",
       "      <td>385103</td>\n",
       "      <td>Scoob!</td>\n",
       "      <td>Tony Cervone</td>\n",
       "      <td>['Amanda Seyfried', 'Christina Hendricks', 'Fr...</td>\n",
       "      <td>Animation, Comedy, Family, Mystery</td>\n",
       "      <td>In Scooby-Doo’s greatest adventure yet, see th...</td>\n",
       "    </tr>\n",
       "  </tbody>\n",
       "</table>\n",
       "<p>5591 rows × 6 columns</p>\n",
       "</div>"
      ],
      "text/plain": [
       "           Id                   Title          Director   \n",
       "0      391629                  Baaghi       Sabbir Khan  \\\n",
       "1       25918                Champion       Mark Robson   \n",
       "2     1104040          Gangs of Lagos  Jadesola Osiberu   \n",
       "3      157800  Har Dil Jo Pyar Karega        Raj Kanwar   \n",
       "4       60579                 Hey Ram      Kamal Haasan   \n",
       "...       ...                     ...               ...   \n",
       "5586   560204                Arkansas        Clark Duke   \n",
       "5587    19053             Valley Girl   Martha Coolidge   \n",
       "5588   429422                  Capone        Josh Trank   \n",
       "5589   582596         The Wrong Missy     Tyler Spindel   \n",
       "5590   385103                  Scoob!      Tony Cervone   \n",
       "\n",
       "                                                   Cast   \n",
       "0     ['Tiger Shroff', 'Shraddha Kapoor', 'Sunil Gro...  \\\n",
       "1     ['Kirk Douglas', 'Marilyn Maxwell', 'Arthur Ke...   \n",
       "2     ['Demi Banwo', 'Adesua Etomi-Wellington', 'Tob...   \n",
       "3     ['Salman Khan', 'Rani Mukerji', 'Preity Zinta'...   \n",
       "4     ['Kamal Haasan', 'Shah Rukh Khan', 'Hema Malin...   \n",
       "...                                                 ...   \n",
       "5586  ['Liam Hemsworth', 'Clark Duke', 'Vince Vaughn...   \n",
       "5587  ['Nicolas Cage', 'Deborah Foreman', 'Elizabeth...   \n",
       "5588  ['Tom Hardy', 'Linda Cardellini', 'Matt Dillon...   \n",
       "5589  ['David Spade', 'Lauren Lapkus', 'Candace Smit...   \n",
       "5590  ['Amanda Seyfried', 'Christina Hendricks', 'Fr...   \n",
       "\n",
       "                                   Genre   \n",
       "0              Action, Thriller, Romance  \\\n",
       "1                                  Drama   \n",
       "2                                  Crime   \n",
       "3                          Comedy, Drama   \n",
       "4                  History, Drama, Crime   \n",
       "...                                  ...   \n",
       "5586                     Crime, Thriller   \n",
       "5587                     Comedy, Romance   \n",
       "5588                        Crime, Drama   \n",
       "5589                     Comedy, Romance   \n",
       "5590  Animation, Comedy, Family, Mystery   \n",
       "\n",
       "                                               Overview  \n",
       "0     Ronny is a rebellious man, who falls in love w...  \n",
       "1     An unscrupulous boxer fights his way to the to...  \n",
       "2     A group of friends who each have to navigate t...  \n",
       "3     Raj is a struggling singer chasing his dreams ...  \n",
       "4     Saketh Ram's wife is raped and killed during d...  \n",
       "...                                                 ...  \n",
       "5586  Kyle and Swin live by the orders of an Arkansa...  \n",
       "5587  Julie, a girl from the valley, meets Randy, a ...  \n",
       "5588  The 47-year old Al Capone, after 10 years in p...  \n",
       "5589  A guy meets the woman of his dreams and invite...  \n",
       "5590  In Scooby-Doo’s greatest adventure yet, see th...  \n",
       "\n",
       "[5591 rows x 6 columns]"
      ]
     },
     "execution_count": 81,
     "metadata": {},
     "output_type": "execute_result"
    }
   ],
   "source": [
    "movies"
   ]
  },
  {
   "cell_type": "markdown",
   "id": "2a022dfb",
   "metadata": {},
   "source": [
    "### Concat reviews in movies dataset"
   ]
  },
  {
   "cell_type": "code",
   "execution_count": 82,
   "id": "d97152b4",
   "metadata": {},
   "outputs": [],
   "source": [
    "result = pd.merge(movies, df, on='Id', how='inner')"
   ]
  },
  {
   "cell_type": "code",
   "execution_count": 83,
   "id": "224959b5",
   "metadata": {},
   "outputs": [
    {
     "data": {
      "text/html": [
       "<div>\n",
       "<style scoped>\n",
       "    .dataframe tbody tr th:only-of-type {\n",
       "        vertical-align: middle;\n",
       "    }\n",
       "\n",
       "    .dataframe tbody tr th {\n",
       "        vertical-align: top;\n",
       "    }\n",
       "\n",
       "    .dataframe thead th {\n",
       "        text-align: right;\n",
       "    }\n",
       "</style>\n",
       "<table border=\"1\" class=\"dataframe\">\n",
       "  <thead>\n",
       "    <tr style=\"text-align: right;\">\n",
       "      <th></th>\n",
       "      <th>Id</th>\n",
       "      <th>Title</th>\n",
       "      <th>Director</th>\n",
       "      <th>Cast</th>\n",
       "      <th>Genre</th>\n",
       "      <th>Overview</th>\n",
       "      <th>Reviews</th>\n",
       "      <th>0</th>\n",
       "    </tr>\n",
       "  </thead>\n",
       "  <tbody>\n",
       "    <tr>\n",
       "      <th>0</th>\n",
       "      <td>391629</td>\n",
       "      <td>Baaghi</td>\n",
       "      <td>Sabbir Khan</td>\n",
       "      <td>['Tiger Shroff', 'Shraddha Kapoor', 'Sunil Gro...</td>\n",
       "      <td>Action, Thriller, Romance</td>\n",
       "      <td>Ronny is a rebellious man, who falls in love w...</td>\n",
       "      <td>NaN</td>\n",
       "      <td>NaN</td>\n",
       "    </tr>\n",
       "    <tr>\n",
       "      <th>1</th>\n",
       "      <td>25918</td>\n",
       "      <td>Champion</td>\n",
       "      <td>Mark Robson</td>\n",
       "      <td>['Kirk Douglas', 'Marilyn Maxwell', 'Arthur Ke...</td>\n",
       "      <td>Drama</td>\n",
       "      <td>An unscrupulous boxer fights his way to the to...</td>\n",
       "      <td>NaN</td>\n",
       "      <td>NaN</td>\n",
       "    </tr>\n",
       "    <tr>\n",
       "      <th>2</th>\n",
       "      <td>1104040</td>\n",
       "      <td>Gangs of Lagos</td>\n",
       "      <td>Jadesola Osiberu</td>\n",
       "      <td>['Demi Banwo', 'Adesua Etomi-Wellington', 'Tob...</td>\n",
       "      <td>Crime</td>\n",
       "      <td>A group of friends who each have to navigate t...</td>\n",
       "      <td>NaN</td>\n",
       "      <td>NaN</td>\n",
       "    </tr>\n",
       "    <tr>\n",
       "      <th>3</th>\n",
       "      <td>157800</td>\n",
       "      <td>Har Dil Jo Pyar Karega</td>\n",
       "      <td>Raj Kanwar</td>\n",
       "      <td>['Salman Khan', 'Rani Mukerji', 'Preity Zinta'...</td>\n",
       "      <td>Comedy, Drama</td>\n",
       "      <td>Raj is a struggling singer chasing his dreams ...</td>\n",
       "      <td>NaN</td>\n",
       "      <td>NaN</td>\n",
       "    </tr>\n",
       "    <tr>\n",
       "      <th>4</th>\n",
       "      <td>60579</td>\n",
       "      <td>Hey Ram</td>\n",
       "      <td>Kamal Haasan</td>\n",
       "      <td>['Kamal Haasan', 'Shah Rukh Khan', 'Hema Malin...</td>\n",
       "      <td>History, Drama, Crime</td>\n",
       "      <td>Saketh Ram's wife is raped and killed during d...</td>\n",
       "      <td>NaN</td>\n",
       "      <td>NaN</td>\n",
       "    </tr>\n",
       "    <tr>\n",
       "      <th>...</th>\n",
       "      <td>...</td>\n",
       "      <td>...</td>\n",
       "      <td>...</td>\n",
       "      <td>...</td>\n",
       "      <td>...</td>\n",
       "      <td>...</td>\n",
       "      <td>...</td>\n",
       "      <td>...</td>\n",
       "    </tr>\n",
       "    <tr>\n",
       "      <th>5553</th>\n",
       "      <td>560204</td>\n",
       "      <td>Arkansas</td>\n",
       "      <td>Clark Duke</td>\n",
       "      <td>['Liam Hemsworth', 'Clark Duke', 'Vince Vaughn...</td>\n",
       "      <td>Crime, Thriller</td>\n",
       "      <td>Kyle and Swin live by the orders of an Arkansa...</td>\n",
       "      <td>A good but not great film that could've been b...</td>\n",
       "      <td>NaN</td>\n",
       "    </tr>\n",
       "    <tr>\n",
       "      <th>5554</th>\n",
       "      <td>19053</td>\n",
       "      <td>Valley Girl</td>\n",
       "      <td>Martha Coolidge</td>\n",
       "      <td>['Nicolas Cage', 'Deborah Foreman', 'Elizabeth...</td>\n",
       "      <td>Comedy, Romance</td>\n",
       "      <td>Julie, a girl from the valley, meets Randy, a ...</td>\n",
       "      <td>NaN</td>\n",
       "      <td>NaN</td>\n",
       "    </tr>\n",
       "    <tr>\n",
       "      <th>5555</th>\n",
       "      <td>429422</td>\n",
       "      <td>Capone</td>\n",
       "      <td>Josh Trank</td>\n",
       "      <td>['Tom Hardy', 'Linda Cardellini', 'Matt Dillon...</td>\n",
       "      <td>Crime, Drama</td>\n",
       "      <td>The 47-year old Al Capone, after 10 years in p...</td>\n",
       "      <td>&lt;em&gt;'Capone'&lt;/em&gt; disappoints.\\r\\n\\r\\nIt's not...</td>\n",
       "      <td>NaN</td>\n",
       "    </tr>\n",
       "    <tr>\n",
       "      <th>5556</th>\n",
       "      <td>582596</td>\n",
       "      <td>The Wrong Missy</td>\n",
       "      <td>Tyler Spindel</td>\n",
       "      <td>['David Spade', 'Lauren Lapkus', 'Candace Smit...</td>\n",
       "      <td>Comedy, Romance</td>\n",
       "      <td>A guy meets the woman of his dreams and invite...</td>\n",
       "      <td>NaN</td>\n",
       "      <td>NaN</td>\n",
       "    </tr>\n",
       "    <tr>\n",
       "      <th>5557</th>\n",
       "      <td>385103</td>\n",
       "      <td>Scoob!</td>\n",
       "      <td>Tony Cervone</td>\n",
       "      <td>['Amanda Seyfried', 'Christina Hendricks', 'Fr...</td>\n",
       "      <td>Animation, Comedy, Family, Mystery</td>\n",
       "      <td>In Scooby-Doo’s greatest adventure yet, see th...</td>\n",
       "      <td>I guess I can commend Warner Bros. for attempt...</td>\n",
       "      <td>NaN</td>\n",
       "    </tr>\n",
       "  </tbody>\n",
       "</table>\n",
       "<p>5558 rows × 8 columns</p>\n",
       "</div>"
      ],
      "text/plain": [
       "           Id                   Title          Director   \n",
       "0      391629                  Baaghi       Sabbir Khan  \\\n",
       "1       25918                Champion       Mark Robson   \n",
       "2     1104040          Gangs of Lagos  Jadesola Osiberu   \n",
       "3      157800  Har Dil Jo Pyar Karega        Raj Kanwar   \n",
       "4       60579                 Hey Ram      Kamal Haasan   \n",
       "...       ...                     ...               ...   \n",
       "5553   560204                Arkansas        Clark Duke   \n",
       "5554    19053             Valley Girl   Martha Coolidge   \n",
       "5555   429422                  Capone        Josh Trank   \n",
       "5556   582596         The Wrong Missy     Tyler Spindel   \n",
       "5557   385103                  Scoob!      Tony Cervone   \n",
       "\n",
       "                                                   Cast   \n",
       "0     ['Tiger Shroff', 'Shraddha Kapoor', 'Sunil Gro...  \\\n",
       "1     ['Kirk Douglas', 'Marilyn Maxwell', 'Arthur Ke...   \n",
       "2     ['Demi Banwo', 'Adesua Etomi-Wellington', 'Tob...   \n",
       "3     ['Salman Khan', 'Rani Mukerji', 'Preity Zinta'...   \n",
       "4     ['Kamal Haasan', 'Shah Rukh Khan', 'Hema Malin...   \n",
       "...                                                 ...   \n",
       "5553  ['Liam Hemsworth', 'Clark Duke', 'Vince Vaughn...   \n",
       "5554  ['Nicolas Cage', 'Deborah Foreman', 'Elizabeth...   \n",
       "5555  ['Tom Hardy', 'Linda Cardellini', 'Matt Dillon...   \n",
       "5556  ['David Spade', 'Lauren Lapkus', 'Candace Smit...   \n",
       "5557  ['Amanda Seyfried', 'Christina Hendricks', 'Fr...   \n",
       "\n",
       "                                   Genre   \n",
       "0              Action, Thriller, Romance  \\\n",
       "1                                  Drama   \n",
       "2                                  Crime   \n",
       "3                          Comedy, Drama   \n",
       "4                  History, Drama, Crime   \n",
       "...                                  ...   \n",
       "5553                     Crime, Thriller   \n",
       "5554                     Comedy, Romance   \n",
       "5555                        Crime, Drama   \n",
       "5556                     Comedy, Romance   \n",
       "5557  Animation, Comedy, Family, Mystery   \n",
       "\n",
       "                                               Overview   \n",
       "0     Ronny is a rebellious man, who falls in love w...  \\\n",
       "1     An unscrupulous boxer fights his way to the to...   \n",
       "2     A group of friends who each have to navigate t...   \n",
       "3     Raj is a struggling singer chasing his dreams ...   \n",
       "4     Saketh Ram's wife is raped and killed during d...   \n",
       "...                                                 ...   \n",
       "5553  Kyle and Swin live by the orders of an Arkansa...   \n",
       "5554  Julie, a girl from the valley, meets Randy, a ...   \n",
       "5555  The 47-year old Al Capone, after 10 years in p...   \n",
       "5556  A guy meets the woman of his dreams and invite...   \n",
       "5557  In Scooby-Doo’s greatest adventure yet, see th...   \n",
       "\n",
       "                                                Reviews   0  \n",
       "0                                                   NaN NaN  \n",
       "1                                                   NaN NaN  \n",
       "2                                                   NaN NaN  \n",
       "3                                                   NaN NaN  \n",
       "4                                                   NaN NaN  \n",
       "...                                                 ...  ..  \n",
       "5553  A good but not great film that could've been b... NaN  \n",
       "5554                                                NaN NaN  \n",
       "5555  <em>'Capone'</em> disappoints.\\r\\n\\r\\nIt's not... NaN  \n",
       "5556                                                NaN NaN  \n",
       "5557  I guess I can commend Warner Bros. for attempt... NaN  \n",
       "\n",
       "[5558 rows x 8 columns]"
      ]
     },
     "execution_count": 83,
     "metadata": {},
     "output_type": "execute_result"
    }
   ],
   "source": [
    "result"
   ]
  },
  {
   "cell_type": "markdown",
   "id": "ed470a75",
   "metadata": {},
   "source": [
    "#### Store data in csv as filter_data"
   ]
  },
  {
   "cell_type": "code",
   "execution_count": 85,
   "id": "57d1d457",
   "metadata": {},
   "outputs": [],
   "source": [
    "result.to_csv(\"filter_data.csv\",index=False)"
   ]
  },
  {
   "cell_type": "code",
   "execution_count": null,
   "id": "41c27e9c",
   "metadata": {},
   "outputs": [],
   "source": []
  }
 ],
 "metadata": {
  "kernelspec": {
   "display_name": "Python 3 (ipykernel)",
   "language": "python",
   "name": "python3"
  },
  "language_info": {
   "codemirror_mode": {
    "name": "ipython",
    "version": 3
   },
   "file_extension": ".py",
   "mimetype": "text/x-python",
   "name": "python",
   "nbconvert_exporter": "python",
   "pygments_lexer": "ipython3",
   "version": "3.9.13"
  }
 },
 "nbformat": 4,
 "nbformat_minor": 5
}
