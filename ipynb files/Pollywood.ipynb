{
 "cells": [
  {
   "cell_type": "code",
   "execution_count": 1,
   "id": "870231dd",
   "metadata": {},
   "outputs": [],
   "source": [
    "import pandas as pd\n",
    "import numpy as np"
   ]
  },
  {
   "cell_type": "markdown",
   "id": "3514fef3",
   "metadata": {},
   "source": [
    "## Punjabi Films Data From 2000 - 2023"
   ]
  },
  {
   "cell_type": "markdown",
   "id": "3aef1521",
   "metadata": {},
   "source": [
    "--------------------------------------------------------------------------------------------"
   ]
  },
  {
   "cell_type": "markdown",
   "id": "9dd4eac9",
   "metadata": {},
   "source": [
    "### Data of 2000's Movies"
   ]
  },
  {
   "cell_type": "code",
   "execution_count": 2,
   "id": "231da99b",
   "metadata": {},
   "outputs": [],
   "source": [
    "li2000 = \"https://en.wikipedia.org/wiki/List_of_Punjabi_films_of_2000\""
   ]
  },
  {
   "cell_type": "code",
   "execution_count": 3,
   "id": "bd94a0b8",
   "metadata": {},
   "outputs": [],
   "source": [
    "df0 = pd.read_html(li2000, header=0)[1]\n",
    "df0 = df0.drop([\"Notes\",\"Release date\"],axis=1)\n",
    "df0.rename(columns= {'Cast (Subject of documentary)':'Cast'}, inplace = True)"
   ]
  },
  {
   "cell_type": "markdown",
   "id": "6dd1124e",
   "metadata": {},
   "source": [
    "### Data of 2001's Movies"
   ]
  },
  {
   "cell_type": "code",
   "execution_count": 4,
   "id": "65ad53bf",
   "metadata": {},
   "outputs": [],
   "source": [
    "li2001 = \"https://en.wikipedia.org/wiki/List_of_Punjabi_films_of_2001\""
   ]
  },
  {
   "cell_type": "code",
   "execution_count": 5,
   "id": "d116ef7b",
   "metadata": {},
   "outputs": [],
   "source": [
    "df1 = pd.read_html(li2001, header=0)[2]\n",
    "df1 = df1.drop([\"Notes\",\"Release date\"],axis=1)\n",
    "df1.rename(columns= {'Cast (Subject of documentary)':'Cast'}, inplace = True)"
   ]
  },
  {
   "cell_type": "markdown",
   "id": "61f32795",
   "metadata": {},
   "source": [
    "### Data of 2002's Movies"
   ]
  },
  {
   "cell_type": "code",
   "execution_count": 6,
   "id": "b253d1ad",
   "metadata": {},
   "outputs": [],
   "source": [
    "li2002 = \"https://en.wikipedia.org/wiki/List_of_Punjabi_films_of_2002\""
   ]
  },
  {
   "cell_type": "code",
   "execution_count": 7,
   "id": "b4cdef0d",
   "metadata": {},
   "outputs": [],
   "source": [
    "df2 = pd.read_html(li2002, header=0)[2]\n",
    "df2 = df2.drop([\"Notes\",\"Release date\"],axis=1)\n",
    "df2.rename(columns= {'Cast (Subject of documentary)':'Cast'}, inplace = True)"
   ]
  },
  {
   "cell_type": "markdown",
   "id": "f117e055",
   "metadata": {},
   "source": [
    "### Data of 2003's Movies"
   ]
  },
  {
   "cell_type": "code",
   "execution_count": 8,
   "id": "128fef11",
   "metadata": {},
   "outputs": [],
   "source": [
    "li2003 = \"https://en.wikipedia.org/wiki/List_of_Punjabi_films_of_2003\""
   ]
  },
  {
   "cell_type": "code",
   "execution_count": 9,
   "id": "74e050df",
   "metadata": {},
   "outputs": [],
   "source": [
    "df3 = pd.read_html(li2003, header=0)[2]\n",
    "df3 = df3.drop([\"Notes\",\"Release date\"],axis=1)\n",
    "df3.rename(columns= {'Cast (Subject of documentary)':'Cast'}, inplace = True)"
   ]
  },
  {
   "cell_type": "markdown",
   "id": "bb905946",
   "metadata": {},
   "source": [
    "### Data of 2004's Movies"
   ]
  },
  {
   "cell_type": "code",
   "execution_count": 10,
   "id": "e9a81ebe",
   "metadata": {},
   "outputs": [],
   "source": [
    "li2004 = \"https://en.wikipedia.org/wiki/List_of_Punjabi_films_of_2004\""
   ]
  },
  {
   "cell_type": "code",
   "execution_count": 11,
   "id": "715c34c1",
   "metadata": {},
   "outputs": [],
   "source": [
    "df4 = pd.read_html(li2004, header=0)[3]\n",
    "df4 = df4.drop([\"Notes\",\"Release date\"],axis=1)\n",
    "df4.rename(columns= {'Cast (Subject of documentary)':'Cast'}, inplace = True)"
   ]
  },
  {
   "cell_type": "markdown",
   "id": "f7a7a1a8",
   "metadata": {},
   "source": [
    "### Data of 2005's Movies"
   ]
  },
  {
   "cell_type": "code",
   "execution_count": 12,
   "id": "f13fcb48",
   "metadata": {},
   "outputs": [],
   "source": [
    "li2005 = \"https://en.wikipedia.org/wiki/List_of_Punjabi_films_of_2005\""
   ]
  },
  {
   "cell_type": "code",
   "execution_count": 13,
   "id": "51f20958",
   "metadata": {},
   "outputs": [],
   "source": [
    "df5 = pd.read_html(li2005, header=0)[2]\n",
    "df5 = df5.drop([\"Notes\",\"Release date\"],axis=1)\n",
    "df5.rename(columns= {'Cast (Subject of documentary)':'Cast'}, inplace = True)"
   ]
  },
  {
   "cell_type": "markdown",
   "id": "cc401b5d",
   "metadata": {},
   "source": [
    "### Data of 2006's Movies"
   ]
  },
  {
   "cell_type": "code",
   "execution_count": 14,
   "id": "2a5d0a0d",
   "metadata": {},
   "outputs": [],
   "source": [
    "li2006 = \"https://en.wikipedia.org/wiki/List_of_Punjabi_films_of_2006\""
   ]
  },
  {
   "cell_type": "code",
   "execution_count": 15,
   "id": "2c9162f6",
   "metadata": {},
   "outputs": [],
   "source": [
    "df6 = pd.read_html(li2005, header=0)[2]\n",
    "df6 = df6.drop([\"Notes\",\"Release date\"],axis=1)\n",
    "df6.rename(columns= {'Cast (Subject of documentary)':'Cast'}, inplace = True)"
   ]
  },
  {
   "cell_type": "markdown",
   "id": "d7829130",
   "metadata": {},
   "source": [
    "### Data of 2007's Movies"
   ]
  },
  {
   "cell_type": "code",
   "execution_count": 16,
   "id": "d06a4082",
   "metadata": {},
   "outputs": [],
   "source": [
    "li2007 = \"https://en.wikipedia.org/wiki/List_of_Punjabi_films_of_2007\""
   ]
  },
  {
   "cell_type": "code",
   "execution_count": 17,
   "id": "b7318412",
   "metadata": {},
   "outputs": [],
   "source": [
    "df7 = pd.read_html(li2005, header=0)[2]\n",
    "df7 = df7.drop([\"Notes\",\"Release date\"],axis=1)\n",
    "df7.rename(columns= {'Cast (Subject of documentary)':'Cast'}, inplace = True)"
   ]
  },
  {
   "cell_type": "markdown",
   "id": "220846f8",
   "metadata": {},
   "source": [
    "### Data of 2008's Movies"
   ]
  },
  {
   "cell_type": "code",
   "execution_count": 18,
   "id": "a10c4f8f",
   "metadata": {},
   "outputs": [],
   "source": [
    "li2008 = \"https://en.wikipedia.org/wiki/List_of_Punjabi_films_of_2008\""
   ]
  },
  {
   "cell_type": "code",
   "execution_count": 19,
   "id": "279767c2",
   "metadata": {},
   "outputs": [],
   "source": [
    "df8 = pd.read_html(li2008, header=0)[2]\n",
    "df8 = df8.drop([\"Notes\",\"Release date\"],axis=1)\n",
    "df8.rename(columns= {'Cast (Subject of documentary)':'Cast'}, inplace = True)"
   ]
  },
  {
   "cell_type": "markdown",
   "id": "60756123",
   "metadata": {},
   "source": [
    "### Data of 2009's Movies"
   ]
  },
  {
   "cell_type": "code",
   "execution_count": 20,
   "id": "a9d0e33a",
   "metadata": {},
   "outputs": [],
   "source": [
    "li2009 = \"https://en.wikipedia.org/wiki/List_of_Punjabi_films_of_2009\""
   ]
  },
  {
   "cell_type": "code",
   "execution_count": 21,
   "id": "0a38ab59",
   "metadata": {},
   "outputs": [],
   "source": [
    "df9 = pd.read_html(li2009, header=0)[2]\n",
    "df9 = df9.drop([\"Sr. No.\",\"Release Date (Tentative)\",\"Producer\",\"Ref.\"],axis=1)"
   ]
  },
  {
   "cell_type": "markdown",
   "id": "1290a94b",
   "metadata": {},
   "source": [
    "### Data of 20010's Movies"
   ]
  },
  {
   "cell_type": "code",
   "execution_count": 22,
   "id": "26b497db",
   "metadata": {},
   "outputs": [],
   "source": [
    "li2010 = \"https://en.wikipedia.org/wiki/List_of_Punjabi_films_of_2010\""
   ]
  },
  {
   "cell_type": "code",
   "execution_count": 23,
   "id": "b4c65499",
   "metadata": {},
   "outputs": [],
   "source": [
    "df10 = pd.read_html(li2010, header=0)[2]\n",
    "df10 = df10.drop([\"Notes\",\"Release date\",\"Ref.\"],axis=1)\n",
    "df10.rename(columns= {'Cast (Subject of documentary)':'Cast'}, inplace = True)"
   ]
  },
  {
   "cell_type": "markdown",
   "id": "049d4f17",
   "metadata": {},
   "source": [
    "### Data of 2011's Movies"
   ]
  },
  {
   "cell_type": "code",
   "execution_count": 24,
   "id": "f9d883bc",
   "metadata": {},
   "outputs": [],
   "source": [
    "li2011 = \"https://en.wikipedia.org/wiki/List_of_Punjabi_films_of_2011\""
   ]
  },
  {
   "cell_type": "code",
   "execution_count": 25,
   "id": "23212d16",
   "metadata": {},
   "outputs": [],
   "source": [
    "df11 = pd.read_html(li2011, header=0)[2]\n",
    "df11 = df11.drop([\"Sr. No.\",\"Release Date (Tentative)\",\"Producer\",\"Ref.\"],axis=1)"
   ]
  },
  {
   "cell_type": "markdown",
   "id": "f550edd6",
   "metadata": {},
   "source": [
    "### Data of 2012's Movies"
   ]
  },
  {
   "cell_type": "code",
   "execution_count": 26,
   "id": "b87b4927",
   "metadata": {},
   "outputs": [],
   "source": [
    "li2012 = \"https://en.wikipedia.org/wiki/List_of_Punjabi_films_of_2012\""
   ]
  },
  {
   "cell_type": "code",
   "execution_count": 27,
   "id": "ad687b9c",
   "metadata": {},
   "outputs": [],
   "source": [
    "df12 = pd.read_html(li2012, header=0)[2]\n",
    "df12 = df12.drop([\"Sr. No.\",\"Release Date (Tentative)\",\"Producer\",\"Ref.\"],axis=1)"
   ]
  },
  {
   "cell_type": "markdown",
   "id": "988e876d",
   "metadata": {},
   "source": [
    "### Data of 2013's Movies"
   ]
  },
  {
   "cell_type": "code",
   "execution_count": 28,
   "id": "12191221",
   "metadata": {},
   "outputs": [],
   "source": [
    "li2013 = \"https://en.wikipedia.org/wiki/List_of_Punjabi_films_of_2013\""
   ]
  },
  {
   "cell_type": "code",
   "execution_count": 29,
   "id": "7f5e96c2",
   "metadata": {},
   "outputs": [],
   "source": [
    "df13 = pd.read_html(li2013, header=0)[2]\n",
    "df13 = df13.drop([\"Sr. No.\",\"Release Date\",\"Producer\",\"Ref.\",\"Audio/Video Released by\"],axis=1)"
   ]
  },
  {
   "cell_type": "markdown",
   "id": "283a6275",
   "metadata": {},
   "source": [
    "### Data of 2014's Movies"
   ]
  },
  {
   "cell_type": "code",
   "execution_count": 30,
   "id": "e71e9f25",
   "metadata": {},
   "outputs": [],
   "source": [
    "li2014 = \"https://en.wikipedia.org/wiki/List_of_Punjabi_films_of_2014\""
   ]
  },
  {
   "cell_type": "code",
   "execution_count": 31,
   "id": "318989a6",
   "metadata": {},
   "outputs": [],
   "source": [
    "df14 = pd.read_html(li2014, header=0)[2]\n",
    "df14 = df14.drop([\"Sr. No.\",\"Release date\",\"Producer\",\"Ref.\"],axis=1)"
   ]
  },
  {
   "cell_type": "markdown",
   "id": "902fea04",
   "metadata": {},
   "source": [
    "### Data of 2015's Movies"
   ]
  },
  {
   "cell_type": "code",
   "execution_count": 32,
   "id": "20f2002d",
   "metadata": {},
   "outputs": [],
   "source": [
    "li2015 = \"https://en.wikipedia.org/wiki/List_of_Punjabi_films_of_2015\""
   ]
  },
  {
   "cell_type": "code",
   "execution_count": 33,
   "id": "6ddf4a46",
   "metadata": {},
   "outputs": [],
   "source": [
    "df15 = pd.read_html(li2015, header=0)[2]\n",
    "df15 = df15.drop([\"Sr. No.\",\"Release date\",\"Producer\",\"Ref.\"],axis=1)"
   ]
  },
  {
   "cell_type": "markdown",
   "id": "5597efcd",
   "metadata": {},
   "source": [
    "### Data of 2016's Movies"
   ]
  },
  {
   "cell_type": "code",
   "execution_count": 34,
   "id": "926363cc",
   "metadata": {},
   "outputs": [],
   "source": [
    "li2016 = \"https://en.wikipedia.org/wiki/List_of_Punjabi_films_of_2016\""
   ]
  },
  {
   "cell_type": "code",
   "execution_count": 35,
   "id": "24b78b03",
   "metadata": {},
   "outputs": [],
   "source": [
    "df16 = pd.read_html(li2016, header=0)[2]\n",
    "df16 = df16.drop([\"Sr. No.\",\"Release date\",\"Producer\",\"Ref.\"],axis=1)"
   ]
  },
  {
   "cell_type": "markdown",
   "id": "6a91641a",
   "metadata": {},
   "source": [
    "### Data of 2017's Movies"
   ]
  },
  {
   "cell_type": "code",
   "execution_count": 36,
   "id": "1bf07d77",
   "metadata": {},
   "outputs": [],
   "source": [
    "li2017 = \"https://en.wikipedia.org/wiki/List_of_Punjabi_films_of_2017\""
   ]
  },
  {
   "cell_type": "code",
   "execution_count": 37,
   "id": "4e857e83",
   "metadata": {},
   "outputs": [],
   "source": [
    "df17 = pd.read_html(li2017, header=0)[3]\n",
    "df17 = df17.drop([\"Sr. No.\",\"Opening\",\"Opening.1\",\"Producer\",\"Ref\"],axis=1)"
   ]
  },
  {
   "cell_type": "markdown",
   "id": "b0d2d967",
   "metadata": {},
   "source": [
    "### Data of 2018's Movies"
   ]
  },
  {
   "cell_type": "code",
   "execution_count": 38,
   "id": "990a7fdb",
   "metadata": {},
   "outputs": [],
   "source": [
    "li2018 = \"https://en.wikipedia.org/wiki/List_of_Punjabi_films_of_2018\""
   ]
  },
  {
   "cell_type": "code",
   "execution_count": 39,
   "id": "a9bb219b",
   "metadata": {},
   "outputs": [],
   "source": [
    "df18 = pd.read_html(li2018, header=0)[2]\n",
    "df18 = df18.drop([\"Sr. No.\",\"Opening\",\"Opening.1\",\"Producer\",\"Ref\"],axis=1)"
   ]
  },
  {
   "cell_type": "markdown",
   "id": "9b1e76da",
   "metadata": {},
   "source": [
    "### Data of 2019's Movies"
   ]
  },
  {
   "cell_type": "code",
   "execution_count": 40,
   "id": "248594c0",
   "metadata": {},
   "outputs": [],
   "source": [
    "li2019 = \"https://en.wikipedia.org/wiki/List_of_Punjabi_films_of_2019\""
   ]
  },
  {
   "cell_type": "code",
   "execution_count": 41,
   "id": "72e6496f",
   "metadata": {},
   "outputs": [],
   "source": [
    "df19 = pd.read_html(li2019, header=0)[2]\n",
    "df19 = df19.drop([\"Opening\",\"Opening.1\",\"Producer\",\"Ref\"],axis=1)"
   ]
  },
  {
   "cell_type": "markdown",
   "id": "84f7b942",
   "metadata": {},
   "source": [
    "### Data of 2020's Movies"
   ]
  },
  {
   "cell_type": "code",
   "execution_count": 42,
   "id": "9573f6d5",
   "metadata": {},
   "outputs": [],
   "source": [
    "li2020 = \"https://en.wikipedia.org/wiki/List_of_Punjabi_films_of_2020\""
   ]
  },
  {
   "cell_type": "code",
   "execution_count": 43,
   "id": "dcdef583",
   "metadata": {},
   "outputs": [],
   "source": [
    "df20 = pd.read_html(li2020, header=0)[2]\n",
    "df20 = df20.drop([\"Opening\",\"Opening.1\",\"Studio (production house)\",\"Ref.\"],axis=1)"
   ]
  },
  {
   "cell_type": "markdown",
   "id": "3b6d284a",
   "metadata": {},
   "source": [
    "### Data of 2021's Movies"
   ]
  },
  {
   "cell_type": "code",
   "execution_count": 44,
   "id": "e7ea7c2a",
   "metadata": {},
   "outputs": [],
   "source": [
    "li2021 = \"https://en.wikipedia.org/wiki/List_of_Punjabi_films_of_2021\""
   ]
  },
  {
   "cell_type": "code",
   "execution_count": 45,
   "id": "477f0604",
   "metadata": {},
   "outputs": [],
   "source": [
    "df21 = pd.read_html(li2021, header=0)[2]\n",
    "df21 = df21.drop([\"Opening\",\"Opening.1\",\"Studio (production house)\",\"Ref.\"],axis=1)"
   ]
  },
  {
   "cell_type": "markdown",
   "id": "418a4934",
   "metadata": {},
   "source": [
    "### Data of 2022's Movies"
   ]
  },
  {
   "cell_type": "code",
   "execution_count": 46,
   "id": "1a503299",
   "metadata": {},
   "outputs": [],
   "source": [
    "li2022 = \"https://en.wikipedia.org/wiki/List_of_Punjabi_films_of_2022\""
   ]
  },
  {
   "cell_type": "code",
   "execution_count": 47,
   "id": "8af86fdc",
   "metadata": {},
   "outputs": [],
   "source": [
    "df22 = pd.read_html(li2022, header=0)[1]\n",
    "df22 = df22.drop([\"Opening\",\"Opening.1\",\"Studio/ Production house\",\"Ref.\"],axis=1)"
   ]
  },
  {
   "cell_type": "markdown",
   "id": "13e96c33",
   "metadata": {},
   "source": [
    "### Data of 2023's Movies"
   ]
  },
  {
   "cell_type": "code",
   "execution_count": 48,
   "id": "b9d243a7",
   "metadata": {},
   "outputs": [],
   "source": [
    "li2023 = \"https://en.wikipedia.org/wiki/List_of_Punjabi_films_of_2023\""
   ]
  },
  {
   "cell_type": "code",
   "execution_count": 49,
   "id": "6fb73c5d",
   "metadata": {},
   "outputs": [],
   "source": [
    "df231 = pd.read_html(li2023, header=0)[3]\n",
    "df232 = pd.read_html(li2023, header=0)[4]\n",
    "df23 = pd.concat([df231,df232], ignore_index=True)\n",
    "df23 = df23.drop([\"Opening\",\"Opening.1\",\".mw-parser-output .tooltip-dotted{border-bottom:1px dotted;cursor:help}Ref.\",\"Ref.\"],axis=1)"
   ]
  },
  {
   "cell_type": "code",
   "execution_count": 50,
   "id": "202e6131",
   "metadata": {},
   "outputs": [],
   "source": [
    "data = pd.concat(\n",
    "    [df0,df1,df2,df3,df4,df5,df6,df7,df8,df9,df10,df11,df12,df13,df14,df15,df16,df17,df18,df19,df20,df21,df22,df23],\n",
    "    ignore_index=True)"
   ]
  },
  {
   "cell_type": "code",
   "execution_count": 51,
   "id": "db621762",
   "metadata": {},
   "outputs": [
    {
     "data": {
      "text/html": [
       "<div>\n",
       "<style scoped>\n",
       "    .dataframe tbody tr th:only-of-type {\n",
       "        vertical-align: middle;\n",
       "    }\n",
       "\n",
       "    .dataframe tbody tr th {\n",
       "        vertical-align: top;\n",
       "    }\n",
       "\n",
       "    .dataframe thead th {\n",
       "        text-align: right;\n",
       "    }\n",
       "</style>\n",
       "<table border=\"1\" class=\"dataframe\">\n",
       "  <thead>\n",
       "    <tr style=\"text-align: right;\">\n",
       "      <th></th>\n",
       "      <th>Title</th>\n",
       "      <th>Director</th>\n",
       "      <th>Cast</th>\n",
       "      <th>Genre</th>\n",
       "    </tr>\n",
       "  </thead>\n",
       "  <tbody>\n",
       "    <tr>\n",
       "      <th>0</th>\n",
       "      <td>Bali Jatti</td>\n",
       "      <td>NaN</td>\n",
       "      <td>Saima, Shaan, Moammar Rana</td>\n",
       "      <td>NaN</td>\n",
       "    </tr>\n",
       "    <tr>\n",
       "      <th>1</th>\n",
       "      <td>Charda Suraj</td>\n",
       "      <td>NaN</td>\n",
       "      <td>Shavinder Mahal, Suman Dutta, Shivani</td>\n",
       "      <td>NaN</td>\n",
       "    </tr>\n",
       "    <tr>\n",
       "      <th>2</th>\n",
       "      <td>Dard Pardesaan Dey</td>\n",
       "      <td>Chander Mohan Nillay</td>\n",
       "      <td>Avinash Wadhawan, Upasna Singh, Paramvir, Deep...</td>\n",
       "      <td>NaN</td>\n",
       "    </tr>\n",
       "    <tr>\n",
       "      <th>3</th>\n",
       "      <td>Ghabroo Punjab Da</td>\n",
       "      <td>NaN</td>\n",
       "      <td>Nazo, Shafqat Cheema</td>\n",
       "      <td>NaN</td>\n",
       "    </tr>\n",
       "    <tr>\n",
       "      <th>4</th>\n",
       "      <td>Ishq Na Puche Jaat</td>\n",
       "      <td>NaN</td>\n",
       "      <td>Vishal Singh, Sheetal Bedi, Gurkirtan, B.N. Sh...</td>\n",
       "      <td>NaN</td>\n",
       "    </tr>\n",
       "    <tr>\n",
       "      <th>...</th>\n",
       "      <td>...</td>\n",
       "      <td>...</td>\n",
       "      <td>...</td>\n",
       "      <td>...</td>\n",
       "    </tr>\n",
       "    <tr>\n",
       "      <th>589</th>\n",
       "      <td>Blackia 2</td>\n",
       "      <td>Navaniat Singh</td>\n",
       "      <td>Dev Kharoud, Japji Khaira</td>\n",
       "      <td>NaN</td>\n",
       "    </tr>\n",
       "    <tr>\n",
       "      <th>590</th>\n",
       "      <td>Maujaan Hi Maujaan</td>\n",
       "      <td>Smeep Kang</td>\n",
       "      <td>Binnu Dhillon, Gippy Grewal, Karamjit Anmol</td>\n",
       "      <td>NaN</td>\n",
       "    </tr>\n",
       "    <tr>\n",
       "      <th>591</th>\n",
       "      <td>Boohey Bariyan</td>\n",
       "      <td>Uday Pratap Singh</td>\n",
       "      <td>Neeru Bajwa, Nirmal Rishi, Rubina Bajwa</td>\n",
       "      <td>NaN</td>\n",
       "    </tr>\n",
       "    <tr>\n",
       "      <th>592</th>\n",
       "      <td>Jatt Nuu Chudail Takri</td>\n",
       "      <td>Vikas Vashisht</td>\n",
       "      <td>Gippy Grewal, Sargun Mehta</td>\n",
       "      <td>NaN</td>\n",
       "    </tr>\n",
       "    <tr>\n",
       "      <th>593</th>\n",
       "      <td>Warning 2</td>\n",
       "      <td>Amar Hundal</td>\n",
       "      <td>Prince Kanwaljit Singh, Gippy Grewal, Jasmin B...</td>\n",
       "      <td>NaN</td>\n",
       "    </tr>\n",
       "  </tbody>\n",
       "</table>\n",
       "<p>594 rows × 4 columns</p>\n",
       "</div>"
      ],
      "text/plain": [
       "                      Title              Director   \n",
       "0                Bali Jatti                   NaN  \\\n",
       "1              Charda Suraj                   NaN   \n",
       "2        Dard Pardesaan Dey  Chander Mohan Nillay   \n",
       "3         Ghabroo Punjab Da                   NaN   \n",
       "4        Ishq Na Puche Jaat                   NaN   \n",
       "..                      ...                   ...   \n",
       "589               Blackia 2        Navaniat Singh   \n",
       "590      Maujaan Hi Maujaan            Smeep Kang   \n",
       "591          Boohey Bariyan     Uday Pratap Singh   \n",
       "592  Jatt Nuu Chudail Takri        Vikas Vashisht   \n",
       "593               Warning 2           Amar Hundal   \n",
       "\n",
       "                                                  Cast Genre  \n",
       "0                           Saima, Shaan, Moammar Rana   NaN  \n",
       "1                Shavinder Mahal, Suman Dutta, Shivani   NaN  \n",
       "2    Avinash Wadhawan, Upasna Singh, Paramvir, Deep...   NaN  \n",
       "3                                 Nazo, Shafqat Cheema   NaN  \n",
       "4    Vishal Singh, Sheetal Bedi, Gurkirtan, B.N. Sh...   NaN  \n",
       "..                                                 ...   ...  \n",
       "589                          Dev Kharoud, Japji Khaira   NaN  \n",
       "590        Binnu Dhillon, Gippy Grewal, Karamjit Anmol   NaN  \n",
       "591            Neeru Bajwa, Nirmal Rishi, Rubina Bajwa   NaN  \n",
       "592                         Gippy Grewal, Sargun Mehta   NaN  \n",
       "593  Prince Kanwaljit Singh, Gippy Grewal, Jasmin B...   NaN  \n",
       "\n",
       "[594 rows x 4 columns]"
      ]
     },
     "execution_count": 51,
     "metadata": {},
     "output_type": "execute_result"
    }
   ],
   "source": [
    "data"
   ]
  },
  {
   "cell_type": "code",
   "execution_count": 52,
   "id": "31bf5424",
   "metadata": {},
   "outputs": [
    {
     "data": {
      "text/plain": [
       "Title         1\n",
       "Director    126\n",
       "Cast          7\n",
       "Genre       312\n",
       "dtype: int64"
      ]
     },
     "execution_count": 52,
     "metadata": {},
     "output_type": "execute_result"
    }
   ],
   "source": [
    "data.isnull().sum()"
   ]
  },
  {
   "cell_type": "code",
   "execution_count": 53,
   "id": "e36c1859",
   "metadata": {},
   "outputs": [],
   "source": [
    "# Drop null title \n",
    "null_data = data[data[\"Title\"].isnull()]\n",
    "data = data.drop(null_data.index)"
   ]
  },
  {
   "cell_type": "code",
   "execution_count": 54,
   "id": "97a0813b",
   "metadata": {},
   "outputs": [],
   "source": [
    "data.to_csv(\"Pollywood.csv\",index=False)"
   ]
  },
  {
   "cell_type": "markdown",
   "id": "07f731ed",
   "metadata": {},
   "source": [
    "--------------------------------------------------------------------------------------------------------------"
   ]
  },
  {
   "cell_type": "code",
   "execution_count": 56,
   "id": "29589a4d",
   "metadata": {},
   "outputs": [],
   "source": [
    "import pandas as pd\n",
    "data = pd.read_csv(\"Pollywood.csv\")"
   ]
  },
  {
   "cell_type": "code",
   "execution_count": 57,
   "id": "f96e5d78",
   "metadata": {},
   "outputs": [
    {
     "data": {
      "text/plain": [
       "(593, 4)"
      ]
     },
     "execution_count": 57,
     "metadata": {},
     "output_type": "execute_result"
    }
   ],
   "source": [
    "data.shape"
   ]
  },
  {
   "cell_type": "code",
   "execution_count": 73,
   "id": "ff497e55",
   "metadata": {},
   "outputs": [],
   "source": [
    "# Importing essential tools for data extraction\n",
    "import pandas as pd\n",
    "from tmdbv3api import TMDb, Movie\n",
    "import json\n",
    "import requests\n",
    "tmdb = TMDb()\n",
    "tmdb_movie = Movie()\n",
    "\n",
    "# set up TMDb API\n",
    "tmdb.api_key = 'db47f4d8f92f5ca02c7840f594a293ad'\n",
    "\n",
    "# define get_genre function\n",
    "def get_genre(movie_id):\n",
    "    response = requests.get(f'https://api.themoviedb.org/3/movie/{movie_id}?api_key={tmdb.api_key}')\n",
    "    data_json = response.json()\n",
    "    if data_json['genres']:\n",
    "        genres = [genre['name'] for genre in data_json['genres']]\n",
    "        return ', '.join(genres)\n",
    "    else:\n",
    "        return None\n",
    "    \n",
    "def get_movie_info(title):\n",
    "    response = search.movie(query=title)\n",
    "    movie_id = response['results'][0]['id']\n",
    "    movie = tmdb.Movies(movie_id)\n",
    "    info = movie.info()\n",
    "    credits = movie.credits()\n",
    "    cast_list = []\n",
    "    for cast in credits['cast']:\n",
    "        cast_list.append(cast['name'])\n",
    "    director = \"\"\n",
    "    for crew in credits['crew']:\n",
    "        if crew['job'] == 'Director':\n",
    "            director = crew['name']\n",
    "            break\n",
    "    return {'title': info['title'], 'cast': cast_list, 'director': director}\n",
    "\n",
    "def get_movie_data(title):\n",
    "    search = tmdb_movie.search(title)\n",
    "    if search:\n",
    "        rec = search[0]\n",
    "        movie_id = rec['id']\n",
    "        \n",
    "        videos = tmdb_movie.videos(movie_id)\n",
    "        trailer_key = None\n",
    "        if videos:\n",
    "            for video in videos:\n",
    "                if video.type == 'Trailer':\n",
    "                    trailer_key = video.key\n",
    "                    break\n",
    "        \n",
    "        rec = tmdb_movie.details(rec['id'])\n",
    "        credits = tmdb_movie.credits(rec['id'])\n",
    "        cast_list = []\n",
    "        for cast in credits['cast']:\n",
    "            cast_list.append(cast['name'])\n",
    "        director = \"\"\n",
    "        for crew in credits['crew']:\n",
    "            if crew['job'] == 'Director':\n",
    "                director = crew['name']\n",
    "                break\n",
    "        \n",
    "        data = {'Title': rec['title'],'Id': rec['id'],'Trailer Link': f'https://www.youtube.com/watch?v={trailer_key}' if trailer_key else None,\n",
    "                'Director': director,'Cast': cast_list,'genre_ids': rec['genre_ids'] if 'genre_ids' in rec else None,'Genre': get_genre(rec['id']),\n",
    "                'Budget': rec['budget'] if 'budget' in rec else None,'Revenue': rec['revenue'] if 'revenue' in rec else None,'Overview': rec['overview'],'Homepage': rec['homepage'],\n",
    "                'Year': rec['release_date'][:4],'Runtime': rec['runtime'],'Popularity': rec['popularity'],'Adult': rec['adult'],'Release_Date': rec['release_date'],'Original_Title': rec['original_title'],\n",
    "                'Original_Language': rec['original_language'],'Tagline': rec['tagline'],'Vote_Average': rec['vote_average'],'Vote_Count': rec['vote_count']}\n",
    "        \n",
    "        \n",
    "        return pd.DataFrame.from_dict([data])\n",
    "    else:\n",
    "        return None\n",
    "\n",
    "\n",
    "# create list of movie titles\n",
    "Titles = []\n",
    "movie_names = data['Title'].map(lambda x: Titles.append(x))\n",
    "# Titles = Titles[:593]\n",
    "\n",
    "\n",
    "# retrieve data for each movie and concatenate into a single DataFrame\n",
    "data_frames = [get_movie_data(title) for title in Titles]\n",
    "dfp1 = pd.concat(data_frames, ignore_index=True)\n"
   ]
  },
  {
   "cell_type": "code",
   "execution_count": 76,
   "id": "2c66a1cf",
   "metadata": {},
   "outputs": [],
   "source": [
    "dfp1.to_csv(\"Pollywood_Movies.csv\",index=False)"
   ]
  },
  {
   "cell_type": "code",
   "execution_count": 82,
   "id": "903c9c3d",
   "metadata": {},
   "outputs": [
    {
     "data": {
      "text/plain": [
       "(406, 21)"
      ]
     },
     "execution_count": 82,
     "metadata": {},
     "output_type": "execute_result"
    }
   ],
   "source": [
    "dfp1.shape"
   ]
  },
  {
   "cell_type": "code",
   "execution_count": 81,
   "id": "93649395",
   "metadata": {},
   "outputs": [],
   "source": [
    "# pd.read_csv(\"Pollywood_Movies.csv\")"
   ]
  },
  {
   "cell_type": "code",
   "execution_count": null,
   "id": "272bcaf6",
   "metadata": {},
   "outputs": [],
   "source": []
  }
 ],
 "metadata": {
  "kernelspec": {
   "display_name": "Python 3 (ipykernel)",
   "language": "python",
   "name": "python3"
  },
  "language_info": {
   "codemirror_mode": {
    "name": "ipython",
    "version": 3
   },
   "file_extension": ".py",
   "mimetype": "text/x-python",
   "name": "python",
   "nbconvert_exporter": "python",
   "pygments_lexer": "ipython3",
   "version": "3.9.13"
  }
 },
 "nbformat": 4,
 "nbformat_minor": 5
}
