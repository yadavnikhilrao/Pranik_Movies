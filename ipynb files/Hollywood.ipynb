{
 "cells": [
  {
   "cell_type": "code",
   "execution_count": 2,
   "id": "870231dd",
   "metadata": {},
   "outputs": [],
   "source": [
    "import pandas as pd\n",
    "import numpy as np"
   ]
  },
  {
   "cell_type": "markdown",
   "id": "3514fef3",
   "metadata": {},
   "source": [
    "## American Films Data From 2000 - 2023"
   ]
  },
  {
   "cell_type": "markdown",
   "id": "3aef1521",
   "metadata": {},
   "source": [
    "--------------------------------------------------------------------------------------------"
   ]
  },
  {
   "cell_type": "markdown",
   "id": "9dd4eac9",
   "metadata": {},
   "source": [
    "### Data of 2000's Movies"
   ]
  },
  {
   "cell_type": "code",
   "execution_count": 3,
   "id": "231da99b",
   "metadata": {},
   "outputs": [],
   "source": [
    "li2000 = \"https://en.wikipedia.org/wiki/List_of_American_films_of_2000\""
   ]
  },
  {
   "cell_type": "code",
   "execution_count": 4,
   "id": "bd94a0b8",
   "metadata": {},
   "outputs": [],
   "source": [
    "df0 = pd.read_html(li2000, header=0)[2]\n",
    "df0 = df0.drop(\"Notes\",axis=1)"
   ]
  },
  {
   "cell_type": "markdown",
   "id": "6dd1124e",
   "metadata": {},
   "source": [
    "### Data of 2001's Movies"
   ]
  },
  {
   "cell_type": "code",
   "execution_count": 5,
   "id": "65ad53bf",
   "metadata": {},
   "outputs": [],
   "source": [
    "li2001 = \"https://en.wikipedia.org/wiki/List_of_American_films_of_2001\""
   ]
  },
  {
   "cell_type": "code",
   "execution_count": 6,
   "id": "d116ef7b",
   "metadata": {},
   "outputs": [],
   "source": [
    "df1 = pd.read_html(li2001, header=0)[3]\n",
    "df1 = df1.drop(\"Notes\",axis=1)\n",
    "df1.rename(columns= {'Cast(Subject of documentary)':'Cast'}, inplace = True)"
   ]
  },
  {
   "cell_type": "markdown",
   "id": "61f32795",
   "metadata": {},
   "source": [
    "### Data of 2002's Movies"
   ]
  },
  {
   "cell_type": "code",
   "execution_count": 7,
   "id": "b253d1ad",
   "metadata": {},
   "outputs": [],
   "source": [
    "li2002 = \"https://en.wikipedia.org/wiki/List_of_American_films_of_2002\""
   ]
  },
  {
   "cell_type": "code",
   "execution_count": 8,
   "id": "b4cdef0d",
   "metadata": {},
   "outputs": [],
   "source": [
    "df2 = pd.read_html(li2002, header=0)[3]\n",
    "df2 = df2.drop(\"Notes\",axis=1)\n",
    "df2.rename(columns= {'Cast (Subject of documentary)':'Cast'}, inplace = True)"
   ]
  },
  {
   "cell_type": "markdown",
   "id": "f117e055",
   "metadata": {},
   "source": [
    "### Data of 2003's Movies"
   ]
  },
  {
   "cell_type": "code",
   "execution_count": 9,
   "id": "128fef11",
   "metadata": {},
   "outputs": [],
   "source": [
    "li2003 = \"https://en.wikipedia.org/wiki/List_of_American_films_of_2003\""
   ]
  },
  {
   "cell_type": "code",
   "execution_count": 10,
   "id": "74e050df",
   "metadata": {},
   "outputs": [],
   "source": [
    "df31 = pd.read_html(li2003, header=0)[5]\n",
    "df32 = pd.read_html(li2003, header=0)[6]\n",
    "df33 = pd.read_html(li2003, header=0)[7]\n",
    "df34 = pd.read_html(li2003, header=0)[8]\n",
    "df3 = pd.concat([df31,df32,df33,df34], ignore_index=True)\n",
    "df3 = df3.drop([\"Notes\",\"Medium\",\"Opening\",\"Opening.1\",\"Studio\"],axis=1)"
   ]
  },
  {
   "cell_type": "code",
   "execution_count": null,
   "id": "ed5aab6d",
   "metadata": {},
   "outputs": [],
   "source": []
  },
  {
   "cell_type": "code",
   "execution_count": 11,
   "id": "45ae0e8a",
   "metadata": {},
   "outputs": [],
   "source": [
    "def get_director(x):\n",
    "    if \" (director)\" in x:\n",
    "        return x.split(\" (director)\")[0]\n",
    "    elif \" (directors)\" in x:\n",
    "        return x.split(\" (directors)\")[0]\n",
    "    else:\n",
    "        return x.split(\" (director/screenplay)\")[0]"
   ]
  },
  {
   "cell_type": "code",
   "execution_count": 12,
   "id": "aab54b93",
   "metadata": {},
   "outputs": [],
   "source": [
    "df3['Director'] = df3['Cast and crew'].map(lambda x: get_director(str(x)))\n",
    "df3.rename(columns= {'Cast and crew':'Cast'}, inplace = True)"
   ]
  },
  {
   "cell_type": "markdown",
   "id": "bb905946",
   "metadata": {},
   "source": [
    "### Data of 2004's Movies"
   ]
  },
  {
   "cell_type": "code",
   "execution_count": 13,
   "id": "e9a81ebe",
   "metadata": {},
   "outputs": [],
   "source": [
    "li2004 = \"https://en.wikipedia.org/wiki/List_of_American_films_of_2004\""
   ]
  },
  {
   "cell_type": "code",
   "execution_count": 14,
   "id": "715c34c1",
   "metadata": {},
   "outputs": [],
   "source": [
    "df41 = pd.read_html(li2004, header=0)[2]\n",
    "df42 = pd.read_html(li2004, header=0)[3]\n",
    "df43 = pd.read_html(li2004, header=0)[4]\n",
    "df44 = pd.read_html(li2004, header=0)[5]\n",
    "df4 = pd.concat([df41,df42,df43,df44], ignore_index=True)\n",
    "df4 = df4.drop([\"Production company\",\"Ref.\",\"Opening\",\"Opening.1\"],axis=1)"
   ]
  },
  {
   "cell_type": "code",
   "execution_count": 15,
   "id": "4cf2c8df",
   "metadata": {},
   "outputs": [],
   "source": [
    "df4['Director'] = df4['Cast and crew'].map(lambda x: get_director(str(x)))\n",
    "df4.rename(columns= {'Cast and crew':'Cast'}, inplace = True)"
   ]
  },
  {
   "cell_type": "markdown",
   "id": "f7a7a1a8",
   "metadata": {},
   "source": [
    "### Data of 2005's Movies"
   ]
  },
  {
   "cell_type": "code",
   "execution_count": 16,
   "id": "f13fcb48",
   "metadata": {},
   "outputs": [],
   "source": [
    "li2005 = \"https://en.wikipedia.org/wiki/List_of_American_films_of_2005\""
   ]
  },
  {
   "cell_type": "code",
   "execution_count": 17,
   "id": "51f20958",
   "metadata": {},
   "outputs": [],
   "source": [
    "df51 = pd.read_html(li2005, header=0)[2]\n",
    "df52 = pd.read_html(li2005, header=0)[3]\n",
    "df53 = pd.read_html(li2005, header=0)[4]\n",
    "df54 = pd.read_html(li2005, header=0)[5]\n",
    "df5 = pd.concat([df51,df52,df53,df54], ignore_index=True)\n",
    "df5 = df5.drop([\"Production company\",\"Ref.\",\"Opening\",\"Opening.1\"],axis=1)"
   ]
  },
  {
   "cell_type": "code",
   "execution_count": 18,
   "id": "69c2777e",
   "metadata": {},
   "outputs": [],
   "source": [
    "df5['Director'] = df5['Cast and crew'].map(lambda x: get_director(str(x)))\n",
    "df5.rename(columns= {'Cast and crew':'Cast'}, inplace = True)"
   ]
  },
  {
   "cell_type": "markdown",
   "id": "cc401b5d",
   "metadata": {},
   "source": [
    "### Data of 2006's Movies"
   ]
  },
  {
   "cell_type": "code",
   "execution_count": 19,
   "id": "2a5d0a0d",
   "metadata": {},
   "outputs": [],
   "source": [
    "li2006 = \"https://en.wikipedia.org/wiki/List_of_American_films_of_2006\""
   ]
  },
  {
   "cell_type": "code",
   "execution_count": 20,
   "id": "2c9162f6",
   "metadata": {},
   "outputs": [],
   "source": [
    "df61 = pd.read_html(li2005, header=0)[2]\n",
    "df62 = pd.read_html(li2005, header=0)[3]\n",
    "df63 = pd.read_html(li2005, header=0)[4]\n",
    "df64 = pd.read_html(li2005, header=0)[5]\n",
    "df6 = pd.concat([df51,df52,df53,df54], ignore_index=True)\n",
    "df6 = df6.drop([\"Production company\",\"Opening\",\"Opening.1\",\"Ref.\"],axis=1)"
   ]
  },
  {
   "cell_type": "code",
   "execution_count": 21,
   "id": "117c9df4",
   "metadata": {},
   "outputs": [],
   "source": [
    "df6['Director'] = df6['Cast and crew'].map(lambda x: get_director(str(x)))\n",
    "df6.rename(columns= {'Cast and crew':'Cast'}, inplace = True)"
   ]
  },
  {
   "cell_type": "markdown",
   "id": "d7829130",
   "metadata": {},
   "source": [
    "### Data of 2007's Movies"
   ]
  },
  {
   "cell_type": "code",
   "execution_count": 22,
   "id": "d06a4082",
   "metadata": {},
   "outputs": [],
   "source": [
    "li2007 = \"https://en.wikipedia.org/wiki/List_of_American_films_of_2007\""
   ]
  },
  {
   "cell_type": "code",
   "execution_count": 23,
   "id": "b7318412",
   "metadata": {},
   "outputs": [],
   "source": [
    "df71 = pd.read_html(li2005, header=0)[2]\n",
    "df72 = pd.read_html(li2005, header=0)[3]\n",
    "df73 = pd.read_html(li2005, header=0)[4]\n",
    "df74 = pd.read_html(li2005, header=0)[5]\n",
    "df7 = pd.concat([df51,df52,df53,df54], ignore_index=True)\n",
    "df7 = df7.drop([\"Production company\",\"Opening\",\"Opening.1\",\"Ref.\"],axis=1)"
   ]
  },
  {
   "cell_type": "code",
   "execution_count": 24,
   "id": "1428a9fb",
   "metadata": {
    "scrolled": true
   },
   "outputs": [],
   "source": [
    "df7['Director'] = df7['Cast and crew'].map(lambda x: get_director(str(x)))\n",
    "df7.rename(columns= {'Cast and crew':'Cast'}, inplace = True)"
   ]
  },
  {
   "cell_type": "markdown",
   "id": "220846f8",
   "metadata": {},
   "source": [
    "### Data of 2008's Movies"
   ]
  },
  {
   "cell_type": "code",
   "execution_count": 25,
   "id": "a10c4f8f",
   "metadata": {},
   "outputs": [],
   "source": [
    "li2008 = \"https://en.wikipedia.org/wiki/List_of_American_films_of_2008\""
   ]
  },
  {
   "cell_type": "code",
   "execution_count": 26,
   "id": "279767c2",
   "metadata": {},
   "outputs": [],
   "source": [
    "df81 = pd.read_html(li2008, header=0)[2]\n",
    "df82 = pd.read_html(li2008, header=0)[3]\n",
    "df83 = pd.read_html(li2008, header=0)[4]\n",
    "df84 = pd.read_html(li2008, header=0)[5]\n",
    "df8 = pd.concat([df81,df82,df83,df84], ignore_index=True)\n",
    "df8 = df8.drop([\"Production company\",\"Opening\",\"Opening.1\"],axis=1)"
   ]
  },
  {
   "cell_type": "code",
   "execution_count": 27,
   "id": "f9e0d68f",
   "metadata": {},
   "outputs": [
    {
     "data": {
      "text/html": [
       "<div>\n",
       "<style scoped>\n",
       "    .dataframe tbody tr th:only-of-type {\n",
       "        vertical-align: middle;\n",
       "    }\n",
       "\n",
       "    .dataframe tbody tr th {\n",
       "        vertical-align: top;\n",
       "    }\n",
       "\n",
       "    .dataframe thead th {\n",
       "        text-align: right;\n",
       "    }\n",
       "</style>\n",
       "<table border=\"1\" class=\"dataframe\">\n",
       "  <thead>\n",
       "    <tr style=\"text-align: right;\">\n",
       "      <th></th>\n",
       "      <th>Title</th>\n",
       "      <th>Cast and crew</th>\n",
       "    </tr>\n",
       "  </thead>\n",
       "  <tbody>\n",
       "    <tr>\n",
       "      <th>0</th>\n",
       "      <td>The Killing of John Lennon</td>\n",
       "      <td>Andrew Piddington (director/screenplay); Jonas...</td>\n",
       "    </tr>\n",
       "    <tr>\n",
       "      <th>1</th>\n",
       "      <td>One Missed Call</td>\n",
       "      <td>Eric Valette (director); Andrew Klavan (screen...</td>\n",
       "    </tr>\n",
       "    <tr>\n",
       "      <th>2</th>\n",
       "      <td>A Bloody Aria</td>\n",
       "      <td>Won Shin-yun (director/screenplay); Han Suk-ky...</td>\n",
       "    </tr>\n",
       "    <tr>\n",
       "      <th>3</th>\n",
       "      <td>The Business of Being Born</td>\n",
       "      <td>Abby Epstein (director)</td>\n",
       "    </tr>\n",
       "    <tr>\n",
       "      <th>4</th>\n",
       "      <td>First Sunday</td>\n",
       "      <td>David E. Talbert (director/screenplay); Ice Cu...</td>\n",
       "    </tr>\n",
       "    <tr>\n",
       "      <th>...</th>\n",
       "      <td>...</td>\n",
       "      <td>...</td>\n",
       "    </tr>\n",
       "    <tr>\n",
       "      <th>276</th>\n",
       "      <td>The Spirit</td>\n",
       "      <td>Frank Miller (director/screenplay); Gabriel Ma...</td>\n",
       "    </tr>\n",
       "    <tr>\n",
       "      <th>277</th>\n",
       "      <td>Valkyrie</td>\n",
       "      <td>Bryan Singer (director); Christopher McQuarrie...</td>\n",
       "    </tr>\n",
       "    <tr>\n",
       "      <th>278</th>\n",
       "      <td>Waltz with Bashir</td>\n",
       "      <td>Ari Folman (director/screenplay); Ari Folman, ...</td>\n",
       "    </tr>\n",
       "    <tr>\n",
       "      <th>279</th>\n",
       "      <td>Revolutionary Road</td>\n",
       "      <td>Sam Mendes (director); Justin Haythe (screenpl...</td>\n",
       "    </tr>\n",
       "    <tr>\n",
       "      <th>280</th>\n",
       "      <td>Defiance</td>\n",
       "      <td>Edward Zwick (director/screenplay); Clayton Fr...</td>\n",
       "    </tr>\n",
       "  </tbody>\n",
       "</table>\n",
       "<p>281 rows × 2 columns</p>\n",
       "</div>"
      ],
      "text/plain": [
       "                          Title   \n",
       "0    The Killing of John Lennon  \\\n",
       "1               One Missed Call   \n",
       "2                 A Bloody Aria   \n",
       "3    The Business of Being Born   \n",
       "4                  First Sunday   \n",
       "..                          ...   \n",
       "276                  The Spirit   \n",
       "277                    Valkyrie   \n",
       "278           Waltz with Bashir   \n",
       "279          Revolutionary Road   \n",
       "280                    Defiance   \n",
       "\n",
       "                                         Cast and crew  \n",
       "0    Andrew Piddington (director/screenplay); Jonas...  \n",
       "1    Eric Valette (director); Andrew Klavan (screen...  \n",
       "2    Won Shin-yun (director/screenplay); Han Suk-ky...  \n",
       "3                              Abby Epstein (director)  \n",
       "4    David E. Talbert (director/screenplay); Ice Cu...  \n",
       "..                                                 ...  \n",
       "276  Frank Miller (director/screenplay); Gabriel Ma...  \n",
       "277  Bryan Singer (director); Christopher McQuarrie...  \n",
       "278  Ari Folman (director/screenplay); Ari Folman, ...  \n",
       "279  Sam Mendes (director); Justin Haythe (screenpl...  \n",
       "280  Edward Zwick (director/screenplay); Clayton Fr...  \n",
       "\n",
       "[281 rows x 2 columns]"
      ]
     },
     "execution_count": 27,
     "metadata": {},
     "output_type": "execute_result"
    }
   ],
   "source": [
    "df8"
   ]
  },
  {
   "cell_type": "markdown",
   "id": "60756123",
   "metadata": {},
   "source": [
    "### Data of 2009's Movies"
   ]
  },
  {
   "cell_type": "code",
   "execution_count": 28,
   "id": "a9d0e33a",
   "metadata": {},
   "outputs": [],
   "source": [
    "li2009 = \"https://en.wikipedia.org/wiki/List_of_American_films_of_2009\""
   ]
  },
  {
   "cell_type": "code",
   "execution_count": 29,
   "id": "0a38ab59",
   "metadata": {},
   "outputs": [],
   "source": [
    "df91 = pd.read_html(li2009, header=0)[2]\n",
    "df92 = pd.read_html(li2009, header=0)[3]\n",
    "df93 = pd.read_html(li2009, header=0)[4]\n",
    "df94 = pd.read_html(li2009, header=0)[5]\n",
    "df9 = pd.concat([df91,df92,df93,df94], ignore_index=True)\n",
    "df9 = df9.drop([\"Opening\",\"Opening.1\",\"Production company\"],axis=1)"
   ]
  },
  {
   "cell_type": "markdown",
   "id": "1290a94b",
   "metadata": {},
   "source": [
    "### Data of 20010's Movies"
   ]
  },
  {
   "cell_type": "code",
   "execution_count": 30,
   "id": "26b497db",
   "metadata": {},
   "outputs": [],
   "source": [
    "li2010 = \"https://en.wikipedia.org/wiki/List_of_American_films_of_2010\""
   ]
  },
  {
   "cell_type": "code",
   "execution_count": 31,
   "id": "b4c65499",
   "metadata": {},
   "outputs": [],
   "source": [
    "df101 = pd.read_html(li2010, header=0)[2]\n",
    "df102 = pd.read_html(li2010, header=0)[3]\n",
    "df103 = pd.read_html(li2010, header=0)[4]\n",
    "df104 = pd.read_html(li2010, header=0)[5]\n",
    "df10 = pd.concat([df101,df102,df103,df104], ignore_index=True)\n",
    "df10 = df10.drop([\"Opening\",\"Opening.1\",\"Production Company\"],axis=1)"
   ]
  },
  {
   "cell_type": "markdown",
   "id": "049d4f17",
   "metadata": {},
   "source": [
    "### Data of 2011's Movies"
   ]
  },
  {
   "cell_type": "code",
   "execution_count": 32,
   "id": "f9d883bc",
   "metadata": {},
   "outputs": [],
   "source": [
    "li2011 = \"https://en.wikipedia.org/wiki/List_of_American_films_of_2011\""
   ]
  },
  {
   "cell_type": "code",
   "execution_count": 33,
   "id": "23212d16",
   "metadata": {},
   "outputs": [],
   "source": [
    "df111 = pd.read_html(li2011, header=0)[2]\n",
    "df112 = pd.read_html(li2011, header=0)[3]\n",
    "df113 = pd.read_html(li2011, header=0)[4]\n",
    "df114 = pd.read_html(li2011, header=0)[5]\n",
    "df11 = pd.concat([df111,df112,df113,df114], ignore_index=True)\n",
    "df11 = df11.drop([\"Opening\",\"Opening.1\",\"Production company\",\".mw-parser-output .tooltip-dotted{border-bottom:1px dotted;cursor:help}Ref.\",\"Ref.\"],axis=1)"
   ]
  },
  {
   "cell_type": "markdown",
   "id": "f550edd6",
   "metadata": {},
   "source": [
    "### Data of 2012's Movies"
   ]
  },
  {
   "cell_type": "code",
   "execution_count": 34,
   "id": "b87b4927",
   "metadata": {},
   "outputs": [],
   "source": [
    "li2012 = \"https://en.wikipedia.org/wiki/List_of_American_films_of_2012\""
   ]
  },
  {
   "cell_type": "code",
   "execution_count": 35,
   "id": "ad687b9c",
   "metadata": {},
   "outputs": [],
   "source": [
    "df121 = pd.read_html(li2012, header=0)[2]\n",
    "df122 = pd.read_html(li2012, header=0)[3]\n",
    "df123 = pd.read_html(li2012, header=0)[4]\n",
    "df124 = pd.read_html(li2012, header=0)[5]\n",
    "df12 = pd.concat([df121,df122,df123,df124], ignore_index=True)\n",
    "df12 = df12.drop([\"Opening\",\"Opening.1\",\"Production Company\",\".mw-parser-output .tooltip-dotted{border-bottom:1px dotted;cursor:help}Ref.\",\"Ref.\"],axis=1)"
   ]
  },
  {
   "cell_type": "markdown",
   "id": "988e876d",
   "metadata": {},
   "source": [
    "### Data of 2013's Movies"
   ]
  },
  {
   "cell_type": "code",
   "execution_count": 36,
   "id": "12191221",
   "metadata": {},
   "outputs": [],
   "source": [
    "li2013 = \"https://en.wikipedia.org/wiki/List_of_American_films_of_2013\""
   ]
  },
  {
   "cell_type": "code",
   "execution_count": 37,
   "id": "7f5e96c2",
   "metadata": {},
   "outputs": [],
   "source": [
    "df131 = pd.read_html(li2013, header=0)[2]\n",
    "df132 = pd.read_html(li2013, header=0)[3]\n",
    "df133 = pd.read_html(li2013, header=0)[4]\n",
    "df134 = pd.read_html(li2013, header=0)[5]\n",
    "df13 = pd.concat([df131,df132,df133,df134], ignore_index=True)\n",
    "df13 = df13.drop([\"Opening\",\"Opening.1\",\"Production company\",\".mw-parser-output .tooltip-dotted{border-bottom:1px dotted;cursor:help}Ref.\",\"Ref.\"],axis=1)"
   ]
  },
  {
   "cell_type": "markdown",
   "id": "283a6275",
   "metadata": {},
   "source": [
    "### Data of 2014's Movies"
   ]
  },
  {
   "cell_type": "code",
   "execution_count": 38,
   "id": "e71e9f25",
   "metadata": {},
   "outputs": [],
   "source": [
    "li2014 = \"https://en.wikipedia.org/wiki/List_of_American_films_of_2014\""
   ]
  },
  {
   "cell_type": "code",
   "execution_count": 39,
   "id": "318989a6",
   "metadata": {},
   "outputs": [],
   "source": [
    "df141 = pd.read_html(li2014, header=0)[2]\n",
    "df142 = pd.read_html(li2014, header=0)[3]\n",
    "df143 = pd.read_html(li2014, header=0)[4]\n",
    "df144 = pd.read_html(li2014, header=0)[5]\n",
    "df14 = pd.concat([df141,df142,df143,df144], ignore_index=True)\n",
    "df14 = df14.drop([\"Opening\",\"Opening.1\",\"Production company\",\".mw-parser-output .tooltip-dotted{border-bottom:1px dotted;cursor:help}Ref.\",\"Ref.\"],axis=1)"
   ]
  },
  {
   "cell_type": "markdown",
   "id": "902fea04",
   "metadata": {},
   "source": [
    "### Data of 2015's Movies"
   ]
  },
  {
   "cell_type": "code",
   "execution_count": 40,
   "id": "20f2002d",
   "metadata": {},
   "outputs": [],
   "source": [
    "li2015 = \"https://en.wikipedia.org/wiki/List_of_American_films_of_2015\""
   ]
  },
  {
   "cell_type": "code",
   "execution_count": 41,
   "id": "6ddf4a46",
   "metadata": {},
   "outputs": [],
   "source": [
    "df151 = pd.read_html(li2015, header=0)[2]\n",
    "df152 = pd.read_html(li2015, header=0)[3]\n",
    "df153 = pd.read_html(li2015, header=0)[4]\n",
    "df154 = pd.read_html(li2015, header=0)[5]\n",
    "df15 = pd.concat([df151,df152,df153,df154], ignore_index=True)\n",
    "df15 = df15.drop([\"Opening\",\"Opening.1\",\"Production company\",\".mw-parser-output .tooltip-dotted{border-bottom:1px dotted;cursor:help}Ref.\",\"Ref.\"],axis=1)"
   ]
  },
  {
   "cell_type": "markdown",
   "id": "5597efcd",
   "metadata": {},
   "source": [
    "### Data of 2016's Movies"
   ]
  },
  {
   "cell_type": "code",
   "execution_count": 42,
   "id": "926363cc",
   "metadata": {},
   "outputs": [],
   "source": [
    "li2016 = \"https://en.wikipedia.org/wiki/List_of_American_films_of_2016\""
   ]
  },
  {
   "cell_type": "code",
   "execution_count": 43,
   "id": "24b78b03",
   "metadata": {},
   "outputs": [],
   "source": [
    "df161 = pd.read_html(li2016, header=0)[2]\n",
    "df162 = pd.read_html(li2016, header=0)[3]\n",
    "df163 = pd.read_html(li2016, header=0)[4]\n",
    "df164 = pd.read_html(li2016, header=0)[5]\n",
    "df16 = pd.concat([df161,df162,df163,df164], ignore_index=True)\n",
    "df16 = df16.drop([\"Opening\",\"Opening.1\",\"Production Company\",\"Production company\",\".mw-parser-output .tooltip-dotted{border-bottom:1px dotted;cursor:help}Ref.\",\"Ref.\"],axis=1)"
   ]
  },
  {
   "cell_type": "markdown",
   "id": "6a91641a",
   "metadata": {},
   "source": [
    "### Data of 2017's Movies"
   ]
  },
  {
   "cell_type": "code",
   "execution_count": 44,
   "id": "1bf07d77",
   "metadata": {},
   "outputs": [],
   "source": [
    "li2017 = \"https://en.wikipedia.org/wiki/List_of_American_films_of_2017\""
   ]
  },
  {
   "cell_type": "code",
   "execution_count": 45,
   "id": "4e857e83",
   "metadata": {},
   "outputs": [],
   "source": [
    "df171 = pd.read_html(li2017, header=0)[2]\n",
    "df172 = pd.read_html(li2017, header=0)[3]\n",
    "df173 = pd.read_html(li2017, header=0)[4]\n",
    "df174 = pd.read_html(li2017, header=0)[5]\n",
    "df17 = pd.concat([df171,df172,df173,df174], ignore_index=True)\n",
    "df17 = df17.drop([\"Opening\",\"Opening.1\",\"Production company\",\".mw-parser-output .tooltip-dotted{border-bottom:1px dotted;cursor:help}Ref.\",\"Ref.\"],axis=1)"
   ]
  },
  {
   "cell_type": "markdown",
   "id": "b0d2d967",
   "metadata": {},
   "source": [
    "### Data of 2018's Movies"
   ]
  },
  {
   "cell_type": "code",
   "execution_count": 46,
   "id": "990a7fdb",
   "metadata": {},
   "outputs": [],
   "source": [
    "li2018 = \"https://en.wikipedia.org/wiki/List_of_American_films_of_2018\""
   ]
  },
  {
   "cell_type": "code",
   "execution_count": 47,
   "id": "a9bb219b",
   "metadata": {},
   "outputs": [],
   "source": [
    "df181 = pd.read_html(li2018, header=0)[2]\n",
    "df182 = pd.read_html(li2018, header=0)[3]\n",
    "df183 = pd.read_html(li2018, header=0)[4]\n",
    "df184 = pd.read_html(li2018, header=0)[5]\n",
    "df18 = pd.concat([df181,df182,df183,df184], ignore_index=True)\n",
    "df18 = df18.drop([\"Opening\",\"Opening.1\",\"Production company\",\".mw-parser-output .tooltip-dotted{border-bottom:1px dotted;cursor:help}Ref.\",\"Ref.\"],axis=1)"
   ]
  },
  {
   "cell_type": "markdown",
   "id": "9b1e76da",
   "metadata": {},
   "source": [
    "### Data of 2019's Movies"
   ]
  },
  {
   "cell_type": "code",
   "execution_count": 48,
   "id": "248594c0",
   "metadata": {},
   "outputs": [],
   "source": [
    "li2019 = \"https://en.wikipedia.org/wiki/List_of_American_films_of_2019\""
   ]
  },
  {
   "cell_type": "code",
   "execution_count": 49,
   "id": "72e6496f",
   "metadata": {},
   "outputs": [],
   "source": [
    "df191 = pd.read_html(li2019, header=0)[2]\n",
    "df192 = pd.read_html(li2019, header=0)[3]\n",
    "df193 = pd.read_html(li2019, header=0)[4]\n",
    "df194 = pd.read_html(li2019, header=0)[5]\n",
    "df19 = pd.concat([df191,df192,df193,df194], ignore_index=True)\n",
    "df19 = df19.drop([\"Opening\",\"Opening.1\",\"Production company\",\"Ref.\"],axis=1)"
   ]
  },
  {
   "cell_type": "markdown",
   "id": "84f7b942",
   "metadata": {},
   "source": [
    "### Data of 2020's Movies"
   ]
  },
  {
   "cell_type": "code",
   "execution_count": 50,
   "id": "9573f6d5",
   "metadata": {},
   "outputs": [],
   "source": [
    "li2020 = \"https://en.wikipedia.org/wiki/List_of_American_films_of_2020\""
   ]
  },
  {
   "cell_type": "code",
   "execution_count": 51,
   "id": "dcdef583",
   "metadata": {},
   "outputs": [],
   "source": [
    "df201 = pd.read_html(li2020, header=0)[2]\n",
    "df202 = pd.read_html(li2020, header=0)[3]\n",
    "df203 = pd.read_html(li2020, header=0)[4]\n",
    "df204 = pd.read_html(li2020, header=0)[5]\n",
    "df20 = pd.concat([df201,df202,df203,df204], ignore_index=True)\n",
    "df20 = df20.drop([\"Opening\",\"Opening.1\",\"Production company\",\".mw-parser-output .tooltip-dotted{border-bottom:1px dotted;cursor:help}Ref.\",\"Ref.\"],axis=1)"
   ]
  },
  {
   "cell_type": "markdown",
   "id": "3b6d284a",
   "metadata": {},
   "source": [
    "### Data of 2021's Movies"
   ]
  },
  {
   "cell_type": "code",
   "execution_count": 52,
   "id": "e7ea7c2a",
   "metadata": {},
   "outputs": [],
   "source": [
    "li2021 = \"https://en.wikipedia.org/wiki/List_of_American_films_of_2021\""
   ]
  },
  {
   "cell_type": "code",
   "execution_count": 53,
   "id": "477f0604",
   "metadata": {},
   "outputs": [],
   "source": [
    "df211 = pd.read_html(li2021, header=0)[2]\n",
    "df212 = pd.read_html(li2021, header=0)[3]\n",
    "df213 = pd.read_html(li2021, header=0)[4]\n",
    "df214 = pd.read_html(li2021, header=0)[5]\n",
    "df21 = pd.concat([df211,df212,df213,df214], ignore_index=True)\n",
    "df21 = df21.drop([\"Opening\",\"Opening.1\",\"Production company\",\".mw-parser-output .tooltip-dotted{border-bottom:1px dotted;cursor:help}Ref.\",\"Ref.\"],axis=1)"
   ]
  },
  {
   "cell_type": "markdown",
   "id": "418a4934",
   "metadata": {},
   "source": [
    "### Data of 2022's Movies"
   ]
  },
  {
   "cell_type": "code",
   "execution_count": 54,
   "id": "1a503299",
   "metadata": {},
   "outputs": [],
   "source": [
    "li2022 = \"https://en.wikipedia.org/wiki/List_of_American_films_of_2022\""
   ]
  },
  {
   "cell_type": "code",
   "execution_count": 55,
   "id": "8af86fdc",
   "metadata": {},
   "outputs": [],
   "source": [
    "df221 = pd.read_html(li2022, header=0)[3]\n",
    "df222 = pd.read_html(li2022, header=0)[4]\n",
    "df223 = pd.read_html(li2022, header=0)[5]\n",
    "df224 = pd.read_html(li2022, header=0)[6]\n",
    "df22 = pd.concat([df221,df222,df223,df224], ignore_index=True)\n",
    "df22 = df22.drop([\"Opening\",\"Opening.1\",\"Production company\",\".mw-parser-output .tooltip-dotted{border-bottom:1px dotted;cursor:help}Ref.\",\"Ref.\"],axis=1)"
   ]
  },
  {
   "cell_type": "markdown",
   "id": "13e96c33",
   "metadata": {},
   "source": [
    "### Data of 2023's Movies"
   ]
  },
  {
   "cell_type": "code",
   "execution_count": 56,
   "id": "b9d243a7",
   "metadata": {},
   "outputs": [],
   "source": [
    "li2023 = \"https://en.wikipedia.org/wiki/List_of_American_films_of_2023\""
   ]
  },
  {
   "cell_type": "code",
   "execution_count": 57,
   "id": "6fb73c5d",
   "metadata": {},
   "outputs": [],
   "source": [
    "df231 = pd.read_html(li2023, header=0)[3]\n",
    "df232 = pd.read_html(li2023, header=0)[4]\n",
    "df233 = pd.read_html(li2023, header=0)[5]\n",
    "df234 = pd.read_html(li2023, header=0)[6]\n",
    "df23 = pd.concat([df231,df232,df233,df234], ignore_index=True)\n",
    "df23 = df23.drop([\"Opening\",\"Opening.1\",\"Production company\",\"Ref.\"],axis=1)"
   ]
  },
  {
   "cell_type": "code",
   "execution_count": 58,
   "id": "202e6131",
   "metadata": {},
   "outputs": [],
   "source": [
    "data1 = pd.concat([df0,df1,df2,df3,df4,df5,df6,df7,df8,df9,df10,df11,df12,df13,df14,df15,df16,df17],ignore_index=True)\n",
    "data2 = pd.concat([df18,df19,df20,df21,df22,df23],ignore_index=True)"
   ]
  },
  {
   "cell_type": "code",
   "execution_count": 59,
   "id": "417f49bd",
   "metadata": {},
   "outputs": [],
   "source": [
    "data2['Director'] = data2['Cast and crew'].map(lambda x: get_director(str(x)))\n",
    "data2.rename(columns= {'Cast and crew':'Cast'}, inplace = True)"
   ]
  },
  {
   "cell_type": "code",
   "execution_count": 60,
   "id": "6c9cf9ef",
   "metadata": {},
   "outputs": [],
   "source": [
    "data = pd.concat([data1,data2],ignore_index=True)"
   ]
  },
  {
   "cell_type": "code",
   "execution_count": 61,
   "id": "8c080bc2",
   "metadata": {},
   "outputs": [
    {
     "data": {
      "text/plain": [
       "Title              37\n",
       "Director         2696\n",
       "Cast             2725\n",
       "Genre            4407\n",
       "Cast and crew    3437\n",
       "dtype: int64"
      ]
     },
     "execution_count": 61,
     "metadata": {},
     "output_type": "execute_result"
    }
   ],
   "source": [
    "data.isnull().sum()"
   ]
  },
  {
   "cell_type": "code",
   "execution_count": 62,
   "id": "987e4b5d",
   "metadata": {},
   "outputs": [],
   "source": [
    "# Drop null title \n",
    "null_data = data[data[\"Title\"].isnull()]\n",
    "data = data.drop(null_data.index)"
   ]
  },
  {
   "cell_type": "code",
   "execution_count": 63,
   "id": "50527483",
   "metadata": {},
   "outputs": [],
   "source": [
    "data.to_csv(\"Hollywood.csv\",index=False)"
   ]
  },
  {
   "cell_type": "markdown",
   "id": "959a5e64",
   "metadata": {},
   "source": [
    "----------------------------------------------------------------------------------------------------------------"
   ]
  },
  {
   "cell_type": "code",
   "execution_count": 118,
   "id": "89afb89a",
   "metadata": {},
   "outputs": [],
   "source": [
    "import pandas as pd\n",
    "data = pd.read_csv(\"Hollywood.csv\")"
   ]
  },
  {
   "cell_type": "code",
   "execution_count": 119,
   "id": "aa033943",
   "metadata": {},
   "outputs": [
    {
     "data": {
      "text/plain": [
       "(6084, 5)"
      ]
     },
     "execution_count": 119,
     "metadata": {},
     "output_type": "execute_result"
    }
   ],
   "source": [
    "data.shape"
   ]
  },
  {
   "cell_type": "code",
   "execution_count": 141,
   "id": "07771030",
   "metadata": {},
   "outputs": [],
   "source": [
    "# Importing essential tools for data extraction\n",
    "import pandas as pd\n",
    "from tmdbv3api import TMDb, Movie\n",
    "import json\n",
    "import requests\n",
    "tmdb = TMDb()\n",
    "tmdb_movie = Movie()\n",
    "\n",
    "# set up TMDb API\n",
    "tmdb.api_key = 'db47f4d8f92f5ca02c7840f594a293ad'\n",
    "\n",
    "# define get_genre function\n",
    "def get_genre(movie_id):\n",
    "    response = requests.get(f'https://api.themoviedb.org/3/movie/{movie_id}?api_key={tmdb.api_key}')\n",
    "    data_json = response.json()\n",
    "    if data_json['genres']:\n",
    "        genres = [genre['name'] for genre in data_json['genres']]\n",
    "        return ', '.join(genres)\n",
    "    else:\n",
    "        return None\n",
    "    \n",
    "def get_movie_info(title):\n",
    "    response = search.movie(query=title)\n",
    "    movie_id = response['results'][0]['id']\n",
    "    movie = tmdb.Movies(movie_id)\n",
    "    info = movie.info()\n",
    "    credits = movie.credits()\n",
    "    cast_list = []\n",
    "    for cast in credits['cast']:\n",
    "        cast_list.append(cast['name'])\n",
    "    director = \"\"\n",
    "    for crew in credits['crew']:\n",
    "        if crew['job'] == 'Director':\n",
    "            director = crew['name']\n",
    "            break\n",
    "    return {'title': info['title'], 'cast': cast_list, 'director': director}\n",
    "\n",
    "def get_movie_data(title):\n",
    "    search = tmdb_movie.search(title)\n",
    "    if search:\n",
    "        rec = search[0]\n",
    "        movie_id = rec['id']\n",
    "        \n",
    "        videos = tmdb_movie.videos(movie_id)\n",
    "        trailer_key = None\n",
    "        if videos:\n",
    "            for video in videos:\n",
    "                if video.type == 'Trailer':\n",
    "                    trailer_key = video.key\n",
    "                    break\n",
    "        \n",
    "        rec = tmdb_movie.details(rec['id'])\n",
    "        credits = tmdb_movie.credits(rec['id'])\n",
    "        cast_list = []\n",
    "        for cast in credits['cast']:\n",
    "            cast_list.append(cast['name'])\n",
    "        director = \"\"\n",
    "        for crew in credits['crew']:\n",
    "            if crew['job'] == 'Director':\n",
    "                director = crew['name']\n",
    "                break\n",
    "        \n",
    "        data = {'Title': rec['title'],'Id': rec['id'],'Trailer Link': f'https://www.youtube.com/watch?v={trailer_key}' if trailer_key else None,\n",
    "                'Director': director,'Cast': cast_list,'genre_ids': rec['genre_ids'] if 'genre_ids' in rec else None,'Genre': get_genre(rec['id']),\n",
    "                'Budget': rec['budget'] if 'budget' in rec else None,'Revenue': rec['revenue'] if 'revenue' in rec else None,'Overview': rec['overview'],'Homepage': rec['homepage'],\n",
    "                'Year': rec['release_date'][:4],'Runtime': rec['runtime'],'Popularity': rec['popularity'],'Adult': rec['adult'],'Release_Date': rec['release_date'],'Original_Title': rec['original_title'],\n",
    "                'Original_Language': rec['original_language'],'Tagline': rec['tagline'],'Vote_Average': rec['vote_average'],'Vote_Count': rec['vote_count']}\n",
    "        \n",
    "        \n",
    "        return pd.DataFrame.from_dict([data])\n",
    "    else:\n",
    "        return None\n",
    "\n",
    "\n",
    "# create list of movie titles\n",
    "Titles = []\n",
    "movie_names = data['Title'].map(lambda x: Titles.append(x))\n",
    "# Storing movies data by dividing in some parts\n",
    "Titles = Titles[3000:4000]\n",
    "\n",
    "\n",
    "# retrieve data for each movie and concatenate into a single DataFrame\n",
    "data_frames = [get_movie_data(title) for title in Titles]\n",
    "dfh4 = pd.concat(data_frames, ignore_index=True)\n"
   ]
  },
  {
   "cell_type": "code",
   "execution_count": 145,
   "id": "54895ee3",
   "metadata": {},
   "outputs": [],
   "source": [
    "dfh4.to_csv(\"dfh4.csv\",index=False)"
   ]
  },
  {
   "cell_type": "code",
   "execution_count": 143,
   "id": "8c763897",
   "metadata": {},
   "outputs": [],
   "source": [
    "# dfh1, dfh2, dfh3"
   ]
  },
  {
   "cell_type": "code",
   "execution_count": 144,
   "id": "e37396e9",
   "metadata": {},
   "outputs": [
    {
     "data": {
      "text/html": [
       "<div>\n",
       "<style scoped>\n",
       "    .dataframe tbody tr th:only-of-type {\n",
       "        vertical-align: middle;\n",
       "    }\n",
       "\n",
       "    .dataframe tbody tr th {\n",
       "        vertical-align: top;\n",
       "    }\n",
       "\n",
       "    .dataframe thead th {\n",
       "        text-align: right;\n",
       "    }\n",
       "</style>\n",
       "<table border=\"1\" class=\"dataframe\">\n",
       "  <thead>\n",
       "    <tr style=\"text-align: right;\">\n",
       "      <th></th>\n",
       "      <th>Title</th>\n",
       "      <th>Id</th>\n",
       "      <th>Trailer Link</th>\n",
       "      <th>Director</th>\n",
       "      <th>Cast</th>\n",
       "      <th>genre_ids</th>\n",
       "      <th>Genre</th>\n",
       "      <th>Budget</th>\n",
       "      <th>Revenue</th>\n",
       "      <th>Overview</th>\n",
       "      <th>...</th>\n",
       "      <th>Year</th>\n",
       "      <th>Runtime</th>\n",
       "      <th>Popularity</th>\n",
       "      <th>Adult</th>\n",
       "      <th>Release_Date</th>\n",
       "      <th>Original_Title</th>\n",
       "      <th>Original_Language</th>\n",
       "      <th>Tagline</th>\n",
       "      <th>Vote_Average</th>\n",
       "      <th>Vote_Count</th>\n",
       "    </tr>\n",
       "  </thead>\n",
       "  <tbody>\n",
       "    <tr>\n",
       "      <th>0</th>\n",
       "      <td>The Secret World of Arrietty</td>\n",
       "      <td>51739</td>\n",
       "      <td>https://www.youtube.com/watch?v=VlMe7PavaRQ</td>\n",
       "      <td>Hiromasa Yonebayashi</td>\n",
       "      <td>[Mirai Shida, Ryunosuke Kamiki, Tomokazu Miura...</td>\n",
       "      <td>None</td>\n",
       "      <td>Fantasy, Animation, Family</td>\n",
       "      <td>23000000</td>\n",
       "      <td>149480483</td>\n",
       "      <td>14-year-old Arrietty and the rest of the Clock...</td>\n",
       "      <td>...</td>\n",
       "      <td>2010</td>\n",
       "      <td>94</td>\n",
       "      <td>34.596</td>\n",
       "      <td>False</td>\n",
       "      <td>2010-07-16</td>\n",
       "      <td>借りぐらしのアリエッティ</td>\n",
       "      <td>ja</td>\n",
       "      <td>Do not be seen by humans. That's been the law ...</td>\n",
       "      <td>7.637</td>\n",
       "      <td>2441</td>\n",
       "    </tr>\n",
       "    <tr>\n",
       "      <th>1</th>\n",
       "      <td>Ghost Rider: Spirit of Vengeance</td>\n",
       "      <td>71676</td>\n",
       "      <td>https://www.youtube.com/watch?v=ibZPd9MX0zg</td>\n",
       "      <td>Brian Taylor</td>\n",
       "      <td>[Nicolas Cage, Violante Placido, Ciarán Hinds,...</td>\n",
       "      <td>None</td>\n",
       "      <td>Action, Fantasy, Thriller</td>\n",
       "      <td>57000000</td>\n",
       "      <td>132563930</td>\n",
       "      <td>When the devil resurfaces with aims to take ov...</td>\n",
       "      <td>...</td>\n",
       "      <td>2011</td>\n",
       "      <td>96</td>\n",
       "      <td>55.316</td>\n",
       "      <td>False</td>\n",
       "      <td>2011-12-10</td>\n",
       "      <td>Ghost Rider: Spirit of Vengeance</td>\n",
       "      <td>en</td>\n",
       "      <td>He rides again.</td>\n",
       "      <td>5.001</td>\n",
       "      <td>3421</td>\n",
       "    </tr>\n",
       "    <tr>\n",
       "      <th>2</th>\n",
       "      <td>This Means War</td>\n",
       "      <td>59962</td>\n",
       "      <td>https://www.youtube.com/watch?v=oleuD8479uM</td>\n",
       "      <td>McG</td>\n",
       "      <td>[Reese Witherspoon, Chris Pine, Tom Hardy, Lau...</td>\n",
       "      <td>None</td>\n",
       "      <td>Action, Comedy, Romance</td>\n",
       "      <td>65000000</td>\n",
       "      <td>156974557</td>\n",
       "      <td>Two top CIA operatives wage an epic battle aga...</td>\n",
       "      <td>...</td>\n",
       "      <td>2012</td>\n",
       "      <td>98</td>\n",
       "      <td>14.499</td>\n",
       "      <td>False</td>\n",
       "      <td>2012-02-14</td>\n",
       "      <td>This Means War</td>\n",
       "      <td>en</td>\n",
       "      <td>It's SPY Against SPY</td>\n",
       "      <td>6.148</td>\n",
       "      <td>3088</td>\n",
       "    </tr>\n",
       "    <tr>\n",
       "      <th>3</th>\n",
       "      <td>Act of Valor</td>\n",
       "      <td>75674</td>\n",
       "      <td>https://www.youtube.com/watch?v=35b_UqGYZgw</td>\n",
       "      <td>Mike McCoy</td>\n",
       "      <td>[Roselyn Sánchez, Emilio Rivera, Gonzalo Menen...</td>\n",
       "      <td>None</td>\n",
       "      <td>Action, Thriller, War</td>\n",
       "      <td>12000000</td>\n",
       "      <td>82499399</td>\n",
       "      <td>When a covert mission to rescue a kidnapped CI...</td>\n",
       "      <td>...</td>\n",
       "      <td>2012</td>\n",
       "      <td>110</td>\n",
       "      <td>18.263</td>\n",
       "      <td>False</td>\n",
       "      <td>2012-02-24</td>\n",
       "      <td>Act of Valor</td>\n",
       "      <td>en</td>\n",
       "      <td>The only easy day was yesterday.</td>\n",
       "      <td>6.467</td>\n",
       "      <td>1006</td>\n",
       "    </tr>\n",
       "    <tr>\n",
       "      <th>4</th>\n",
       "      <td>Gone</td>\n",
       "      <td>79548</td>\n",
       "      <td>https://www.youtube.com/watch?v=giRMhrOdVzg</td>\n",
       "      <td>Heitor Dhalia</td>\n",
       "      <td>[Amanda Seyfried, Daniel Sunjata, Wes Bentley,...</td>\n",
       "      <td>None</td>\n",
       "      <td>Thriller</td>\n",
       "      <td>0</td>\n",
       "      <td>18100189</td>\n",
       "      <td>Jill Conway is trying to rebuild her life afte...</td>\n",
       "      <td>...</td>\n",
       "      <td>2012</td>\n",
       "      <td>94</td>\n",
       "      <td>13.079</td>\n",
       "      <td>False</td>\n",
       "      <td>2012-02-23</td>\n",
       "      <td>Gone</td>\n",
       "      <td>en</td>\n",
       "      <td>No one believes her. Nothing will stop her.</td>\n",
       "      <td>6.186</td>\n",
       "      <td>1032</td>\n",
       "    </tr>\n",
       "    <tr>\n",
       "      <th>...</th>\n",
       "      <td>...</td>\n",
       "      <td>...</td>\n",
       "      <td>...</td>\n",
       "      <td>...</td>\n",
       "      <td>...</td>\n",
       "      <td>...</td>\n",
       "      <td>...</td>\n",
       "      <td>...</td>\n",
       "      <td>...</td>\n",
       "      <td>...</td>\n",
       "      <td>...</td>\n",
       "      <td>...</td>\n",
       "      <td>...</td>\n",
       "      <td>...</td>\n",
       "      <td>...</td>\n",
       "      <td>...</td>\n",
       "      <td>...</td>\n",
       "      <td>...</td>\n",
       "      <td>...</td>\n",
       "      <td>...</td>\n",
       "      <td>...</td>\n",
       "    </tr>\n",
       "    <tr>\n",
       "      <th>988</th>\n",
       "      <td>Race</td>\n",
       "      <td>323677</td>\n",
       "      <td>https://www.youtube.com/watch?v=UZTexap1KtU</td>\n",
       "      <td>Stephen Hopkins</td>\n",
       "      <td>[Stephan James, Jason Sudeikis, Carice van Hou...</td>\n",
       "      <td>None</td>\n",
       "      <td>Drama, History</td>\n",
       "      <td>5000000</td>\n",
       "      <td>24804129</td>\n",
       "      <td>Based on the story of Jesse Owens, the athlete...</td>\n",
       "      <td>...</td>\n",
       "      <td>2016</td>\n",
       "      <td>134</td>\n",
       "      <td>18.111</td>\n",
       "      <td>False</td>\n",
       "      <td>2016-02-19</td>\n",
       "      <td>Race</td>\n",
       "      <td>en</td>\n",
       "      <td>The incredible true story of gold medal champi...</td>\n",
       "      <td>7.258</td>\n",
       "      <td>1413</td>\n",
       "    </tr>\n",
       "    <tr>\n",
       "      <th>989</th>\n",
       "      <td>Crouching Tiger, Hidden Dragon: Sword of Destiny</td>\n",
       "      <td>263341</td>\n",
       "      <td>https://www.youtube.com/watch?v=WdhvxJZDqzU</td>\n",
       "      <td>Yuen Woo-ping</td>\n",
       "      <td>[Michelle Yeoh, Donnie Yen, Jason Scott Lee, N...</td>\n",
       "      <td>None</td>\n",
       "      <td>Action, Adventure, Drama</td>\n",
       "      <td>20000000</td>\n",
       "      <td>0</td>\n",
       "      <td>A story of lost love, young love, a legendary ...</td>\n",
       "      <td>...</td>\n",
       "      <td>2016</td>\n",
       "      <td>103</td>\n",
       "      <td>24.733</td>\n",
       "      <td>False</td>\n",
       "      <td>2016-02-18</td>\n",
       "      <td>Crouching Tiger, Hidden Dragon: Sword of Destiny</td>\n",
       "      <td>en</td>\n",
       "      <td>The past returns with a vengeance.</td>\n",
       "      <td>6.117</td>\n",
       "      <td>569</td>\n",
       "    </tr>\n",
       "    <tr>\n",
       "      <th>990</th>\n",
       "      <td>Gods of Egypt</td>\n",
       "      <td>205584</td>\n",
       "      <td>https://www.youtube.com/watch?v=tuVg_6UaQsU</td>\n",
       "      <td>Alex Proyas</td>\n",
       "      <td>[Nikolaj Coster-Waldau, Brenton Thwaites, Gera...</td>\n",
       "      <td>None</td>\n",
       "      <td>Action, Adventure, Fantasy</td>\n",
       "      <td>140000000</td>\n",
       "      <td>150680864</td>\n",
       "      <td>A common thief joins a mythical god on a quest...</td>\n",
       "      <td>...</td>\n",
       "      <td>2016</td>\n",
       "      <td>127</td>\n",
       "      <td>51.936</td>\n",
       "      <td>False</td>\n",
       "      <td>2016-02-25</td>\n",
       "      <td>Gods of Egypt</td>\n",
       "      <td>en</td>\n",
       "      <td>The battle for eternity begins</td>\n",
       "      <td>5.618</td>\n",
       "      <td>3715</td>\n",
       "    </tr>\n",
       "    <tr>\n",
       "      <th>991</th>\n",
       "      <td>Triple 9</td>\n",
       "      <td>146198</td>\n",
       "      <td>https://www.youtube.com/watch?v=vEa7iTdH_Z4</td>\n",
       "      <td>John Hillcoat</td>\n",
       "      <td>[Casey Affleck, Chiwetel Ejiofor, Anthony Mack...</td>\n",
       "      <td>None</td>\n",
       "      <td>Action, Crime, Adventure, Thriller</td>\n",
       "      <td>20000000</td>\n",
       "      <td>12639297</td>\n",
       "      <td>A gang of criminals and corrupt cops plan the ...</td>\n",
       "      <td>...</td>\n",
       "      <td>2016</td>\n",
       "      <td>115</td>\n",
       "      <td>14.656</td>\n",
       "      <td>False</td>\n",
       "      <td>2016-02-19</td>\n",
       "      <td>Triple 9</td>\n",
       "      <td>en</td>\n",
       "      <td>The Code on the Street is Never Black &amp; White</td>\n",
       "      <td>5.949</td>\n",
       "      <td>1915</td>\n",
       "    </tr>\n",
       "    <tr>\n",
       "      <th>992</th>\n",
       "      <td>Eddie the Eagle</td>\n",
       "      <td>319888</td>\n",
       "      <td>https://www.youtube.com/watch?v=hyzQjVUmIxk</td>\n",
       "      <td>Dexter Fletcher</td>\n",
       "      <td>[Taron Egerton, Hugh Jackman, Christopher Walk...</td>\n",
       "      <td>None</td>\n",
       "      <td>Comedy, Drama, History, Adventure</td>\n",
       "      <td>23000000</td>\n",
       "      <td>46152411</td>\n",
       "      <td>The feel-good story of Michael 'Eddie' Edwards...</td>\n",
       "      <td>...</td>\n",
       "      <td>2016</td>\n",
       "      <td>106</td>\n",
       "      <td>12.494</td>\n",
       "      <td>False</td>\n",
       "      <td>2016-02-25</td>\n",
       "      <td>Eddie the Eagle</td>\n",
       "      <td>en</td>\n",
       "      <td>Win or lose, always aim high.</td>\n",
       "      <td>7.181</td>\n",
       "      <td>1927</td>\n",
       "    </tr>\n",
       "  </tbody>\n",
       "</table>\n",
       "<p>993 rows × 21 columns</p>\n",
       "</div>"
      ],
      "text/plain": [
       "                                                Title      Id   \n",
       "0                        The Secret World of Arrietty   51739  \\\n",
       "1                    Ghost Rider: Spirit of Vengeance   71676   \n",
       "2                                      This Means War   59962   \n",
       "3                                        Act of Valor   75674   \n",
       "4                                                Gone   79548   \n",
       "..                                                ...     ...   \n",
       "988                                              Race  323677   \n",
       "989  Crouching Tiger, Hidden Dragon: Sword of Destiny  263341   \n",
       "990                                     Gods of Egypt  205584   \n",
       "991                                          Triple 9  146198   \n",
       "992                                   Eddie the Eagle  319888   \n",
       "\n",
       "                                    Trailer Link              Director   \n",
       "0    https://www.youtube.com/watch?v=VlMe7PavaRQ  Hiromasa Yonebayashi  \\\n",
       "1    https://www.youtube.com/watch?v=ibZPd9MX0zg          Brian Taylor   \n",
       "2    https://www.youtube.com/watch?v=oleuD8479uM                   McG   \n",
       "3    https://www.youtube.com/watch?v=35b_UqGYZgw            Mike McCoy   \n",
       "4    https://www.youtube.com/watch?v=giRMhrOdVzg         Heitor Dhalia   \n",
       "..                                           ...                   ...   \n",
       "988  https://www.youtube.com/watch?v=UZTexap1KtU       Stephen Hopkins   \n",
       "989  https://www.youtube.com/watch?v=WdhvxJZDqzU         Yuen Woo-ping   \n",
       "990  https://www.youtube.com/watch?v=tuVg_6UaQsU           Alex Proyas   \n",
       "991  https://www.youtube.com/watch?v=vEa7iTdH_Z4         John Hillcoat   \n",
       "992  https://www.youtube.com/watch?v=hyzQjVUmIxk       Dexter Fletcher   \n",
       "\n",
       "                                                  Cast genre_ids   \n",
       "0    [Mirai Shida, Ryunosuke Kamiki, Tomokazu Miura...      None  \\\n",
       "1    [Nicolas Cage, Violante Placido, Ciarán Hinds,...      None   \n",
       "2    [Reese Witherspoon, Chris Pine, Tom Hardy, Lau...      None   \n",
       "3    [Roselyn Sánchez, Emilio Rivera, Gonzalo Menen...      None   \n",
       "4    [Amanda Seyfried, Daniel Sunjata, Wes Bentley,...      None   \n",
       "..                                                 ...       ...   \n",
       "988  [Stephan James, Jason Sudeikis, Carice van Hou...      None   \n",
       "989  [Michelle Yeoh, Donnie Yen, Jason Scott Lee, N...      None   \n",
       "990  [Nikolaj Coster-Waldau, Brenton Thwaites, Gera...      None   \n",
       "991  [Casey Affleck, Chiwetel Ejiofor, Anthony Mack...      None   \n",
       "992  [Taron Egerton, Hugh Jackman, Christopher Walk...      None   \n",
       "\n",
       "                                  Genre     Budget    Revenue   \n",
       "0            Fantasy, Animation, Family   23000000  149480483  \\\n",
       "1             Action, Fantasy, Thriller   57000000  132563930   \n",
       "2               Action, Comedy, Romance   65000000  156974557   \n",
       "3                 Action, Thriller, War   12000000   82499399   \n",
       "4                              Thriller          0   18100189   \n",
       "..                                  ...        ...        ...   \n",
       "988                      Drama, History    5000000   24804129   \n",
       "989            Action, Adventure, Drama   20000000          0   \n",
       "990          Action, Adventure, Fantasy  140000000  150680864   \n",
       "991  Action, Crime, Adventure, Thriller   20000000   12639297   \n",
       "992   Comedy, Drama, History, Adventure   23000000   46152411   \n",
       "\n",
       "                                              Overview  ...  Year Runtime   \n",
       "0    14-year-old Arrietty and the rest of the Clock...  ...  2010      94  \\\n",
       "1    When the devil resurfaces with aims to take ov...  ...  2011      96   \n",
       "2    Two top CIA operatives wage an epic battle aga...  ...  2012      98   \n",
       "3    When a covert mission to rescue a kidnapped CI...  ...  2012     110   \n",
       "4    Jill Conway is trying to rebuild her life afte...  ...  2012      94   \n",
       "..                                                 ...  ...   ...     ...   \n",
       "988  Based on the story of Jesse Owens, the athlete...  ...  2016     134   \n",
       "989  A story of lost love, young love, a legendary ...  ...  2016     103   \n",
       "990  A common thief joins a mythical god on a quest...  ...  2016     127   \n",
       "991  A gang of criminals and corrupt cops plan the ...  ...  2016     115   \n",
       "992  The feel-good story of Michael 'Eddie' Edwards...  ...  2016     106   \n",
       "\n",
       "     Popularity  Adult  Release_Date   \n",
       "0        34.596  False    2010-07-16  \\\n",
       "1        55.316  False    2011-12-10   \n",
       "2        14.499  False    2012-02-14   \n",
       "3        18.263  False    2012-02-24   \n",
       "4        13.079  False    2012-02-23   \n",
       "..          ...    ...           ...   \n",
       "988      18.111  False    2016-02-19   \n",
       "989      24.733  False    2016-02-18   \n",
       "990      51.936  False    2016-02-25   \n",
       "991      14.656  False    2016-02-19   \n",
       "992      12.494  False    2016-02-25   \n",
       "\n",
       "                                       Original_Title Original_Language   \n",
       "0                                        借りぐらしのアリエッティ                ja  \\\n",
       "1                    Ghost Rider: Spirit of Vengeance                en   \n",
       "2                                      This Means War                en   \n",
       "3                                        Act of Valor                en   \n",
       "4                                                Gone                en   \n",
       "..                                                ...               ...   \n",
       "988                                              Race                en   \n",
       "989  Crouching Tiger, Hidden Dragon: Sword of Destiny                en   \n",
       "990                                     Gods of Egypt                en   \n",
       "991                                          Triple 9                en   \n",
       "992                                   Eddie the Eagle                en   \n",
       "\n",
       "                                               Tagline Vote_Average   \n",
       "0    Do not be seen by humans. That's been the law ...        7.637  \\\n",
       "1                                      He rides again.        5.001   \n",
       "2                                 It's SPY Against SPY        6.148   \n",
       "3                     The only easy day was yesterday.        6.467   \n",
       "4          No one believes her. Nothing will stop her.        6.186   \n",
       "..                                                 ...          ...   \n",
       "988  The incredible true story of gold medal champi...        7.258   \n",
       "989                 The past returns with a vengeance.        6.117   \n",
       "990                     The battle for eternity begins        5.618   \n",
       "991      The Code on the Street is Never Black & White        5.949   \n",
       "992                      Win or lose, always aim high.        7.181   \n",
       "\n",
       "     Vote_Count  \n",
       "0          2441  \n",
       "1          3421  \n",
       "2          3088  \n",
       "3          1006  \n",
       "4          1032  \n",
       "..          ...  \n",
       "988        1413  \n",
       "989         569  \n",
       "990        3715  \n",
       "991        1915  \n",
       "992        1927  \n",
       "\n",
       "[993 rows x 21 columns]"
      ]
     },
     "execution_count": 144,
     "metadata": {},
     "output_type": "execute_result"
    }
   ],
   "source": [
    "dfh4"
   ]
  },
  {
   "cell_type": "code",
   "execution_count": 153,
   "id": "6e6a1650",
   "metadata": {},
   "outputs": [],
   "source": [
    "Hollywood_movies = pd.concat([dfh1,dfh2,dfh3,dfh4,dfh5,dfh6],ignore_index=True)"
   ]
  },
  {
   "cell_type": "code",
   "execution_count": 152,
   "id": "13cf72f4",
   "metadata": {},
   "outputs": [],
   "source": [
    "Hollywood_movies.to_csv(\"Hollywood_Movies.csv\",index=False)"
   ]
  },
  {
   "cell_type": "code",
   "execution_count": 151,
   "id": "4417ec76",
   "metadata": {},
   "outputs": [
    {
     "data": {
      "text/html": [
       "<div>\n",
       "<style scoped>\n",
       "    .dataframe tbody tr th:only-of-type {\n",
       "        vertical-align: middle;\n",
       "    }\n",
       "\n",
       "    .dataframe tbody tr th {\n",
       "        vertical-align: top;\n",
       "    }\n",
       "\n",
       "    .dataframe thead th {\n",
       "        text-align: right;\n",
       "    }\n",
       "</style>\n",
       "<table border=\"1\" class=\"dataframe\">\n",
       "  <thead>\n",
       "    <tr style=\"text-align: right;\">\n",
       "      <th></th>\n",
       "      <th>Title</th>\n",
       "      <th>Id</th>\n",
       "      <th>Trailer Link</th>\n",
       "      <th>Director</th>\n",
       "      <th>Cast</th>\n",
       "      <th>genre_ids</th>\n",
       "      <th>Genre</th>\n",
       "      <th>Budget</th>\n",
       "      <th>Revenue</th>\n",
       "      <th>Overview</th>\n",
       "      <th>...</th>\n",
       "      <th>Year</th>\n",
       "      <th>Runtime</th>\n",
       "      <th>Popularity</th>\n",
       "      <th>Adult</th>\n",
       "      <th>Release_Date</th>\n",
       "      <th>Original_Title</th>\n",
       "      <th>Original_Language</th>\n",
       "      <th>Tagline</th>\n",
       "      <th>Vote_Average</th>\n",
       "      <th>Vote_Count</th>\n",
       "    </tr>\n",
       "  </thead>\n",
       "  <tbody>\n",
       "    <tr>\n",
       "      <th>0</th>\n",
       "      <td>102 Dalmatians</td>\n",
       "      <td>10481</td>\n",
       "      <td>https://www.youtube.com/watch?v=7wOwplmoZlg</td>\n",
       "      <td>Kevin Lima</td>\n",
       "      <td>[Glenn Close, Ioan Gruffudd, Alice Evans, Tim ...</td>\n",
       "      <td>None</td>\n",
       "      <td>Family, Comedy</td>\n",
       "      <td>85000000</td>\n",
       "      <td>183611771</td>\n",
       "      <td>Get ready for a howling good time as an all ne...</td>\n",
       "      <td>...</td>\n",
       "      <td>2000</td>\n",
       "      <td>100</td>\n",
       "      <td>19.761</td>\n",
       "      <td>False</td>\n",
       "      <td>2000-11-21</td>\n",
       "      <td>102 Dalmatians</td>\n",
       "      <td>en</td>\n",
       "      <td>Meet Two Unlikely Heroes With A Bone To Pick.</td>\n",
       "      <td>5.500</td>\n",
       "      <td>1207</td>\n",
       "    </tr>\n",
       "    <tr>\n",
       "      <th>1</th>\n",
       "      <td>28 Days</td>\n",
       "      <td>10468</td>\n",
       "      <td>None</td>\n",
       "      <td>Betty Thomas</td>\n",
       "      <td>[Sandra Bullock, Viggo Mortensen, Dominic West...</td>\n",
       "      <td>None</td>\n",
       "      <td>Comedy, Drama</td>\n",
       "      <td>43000000</td>\n",
       "      <td>6219894</td>\n",
       "      <td>After getting into a car accident while drunk ...</td>\n",
       "      <td>...</td>\n",
       "      <td>2000</td>\n",
       "      <td>103</td>\n",
       "      <td>11.812</td>\n",
       "      <td>False</td>\n",
       "      <td>2000-04-06</td>\n",
       "      <td>28 Days</td>\n",
       "      <td>en</td>\n",
       "      <td>The Life of the Party... before she got a life.</td>\n",
       "      <td>6.142</td>\n",
       "      <td>854</td>\n",
       "    </tr>\n",
       "    <tr>\n",
       "      <th>2</th>\n",
       "      <td>3 Strikes</td>\n",
       "      <td>47816</td>\n",
       "      <td>https://www.youtube.com/watch?v=GDFqdXToYxE</td>\n",
       "      <td>DJ Pooh</td>\n",
       "      <td>[Brian Hooks, N'Bushe Wright, Faizon Love, E-4...</td>\n",
       "      <td>None</td>\n",
       "      <td>Action, Comedy, Romance</td>\n",
       "      <td>6000000</td>\n",
       "      <td>9000000</td>\n",
       "      <td>Brian Hooks plays a character who is just rele...</td>\n",
       "      <td>...</td>\n",
       "      <td>2000</td>\n",
       "      <td>82</td>\n",
       "      <td>5.014</td>\n",
       "      <td>False</td>\n",
       "      <td>2000-03-01</td>\n",
       "      <td>3 Strikes</td>\n",
       "      <td>en</td>\n",
       "      <td>the few, the proud, the paroled.</td>\n",
       "      <td>5.670</td>\n",
       "      <td>47</td>\n",
       "    </tr>\n",
       "    <tr>\n",
       "      <th>3</th>\n",
       "      <td>The 6th Day</td>\n",
       "      <td>8452</td>\n",
       "      <td>https://www.youtube.com/watch?v=LABR3ikwfdc</td>\n",
       "      <td>Roger Spottiswoode</td>\n",
       "      <td>[Arnold Schwarzenegger, Michael Rapaport, Tony...</td>\n",
       "      <td>None</td>\n",
       "      <td>Science Fiction, Action, Mystery</td>\n",
       "      <td>82000000</td>\n",
       "      <td>96085477</td>\n",
       "      <td>A world of the very near future in which cattl...</td>\n",
       "      <td>...</td>\n",
       "      <td>2000</td>\n",
       "      <td>123</td>\n",
       "      <td>15.855</td>\n",
       "      <td>False</td>\n",
       "      <td>2000-11-17</td>\n",
       "      <td>The 6th Day</td>\n",
       "      <td>en</td>\n",
       "      <td>They picked the wrong man to clone.</td>\n",
       "      <td>5.950</td>\n",
       "      <td>1759</td>\n",
       "    </tr>\n",
       "    <tr>\n",
       "      <th>4</th>\n",
       "      <td>Across the Line</td>\n",
       "      <td>356301</td>\n",
       "      <td>https://www.youtube.com/watch?v=pwBs7Ji1CuI</td>\n",
       "      <td>Director X.</td>\n",
       "      <td>[Stephan James, Sarah Jeffery, Shamier Anderso...</td>\n",
       "      <td>None</td>\n",
       "      <td>Drama</td>\n",
       "      <td>0</td>\n",
       "      <td>0</td>\n",
       "      <td>Out of the approximately 600 players in the Na...</td>\n",
       "      <td>...</td>\n",
       "      <td>2016</td>\n",
       "      <td>88</td>\n",
       "      <td>2.208</td>\n",
       "      <td>False</td>\n",
       "      <td>2016-04-08</td>\n",
       "      <td>Across the Line</td>\n",
       "      <td>en</td>\n",
       "      <td></td>\n",
       "      <td>5.000</td>\n",
       "      <td>11</td>\n",
       "    </tr>\n",
       "    <tr>\n",
       "      <th>...</th>\n",
       "      <td>...</td>\n",
       "      <td>...</td>\n",
       "      <td>...</td>\n",
       "      <td>...</td>\n",
       "      <td>...</td>\n",
       "      <td>...</td>\n",
       "      <td>...</td>\n",
       "      <td>...</td>\n",
       "      <td>...</td>\n",
       "      <td>...</td>\n",
       "      <td>...</td>\n",
       "      <td>...</td>\n",
       "      <td>...</td>\n",
       "      <td>...</td>\n",
       "      <td>...</td>\n",
       "      <td>...</td>\n",
       "      <td>...</td>\n",
       "      <td>...</td>\n",
       "      <td>...</td>\n",
       "      <td>...</td>\n",
       "      <td>...</td>\n",
       "    </tr>\n",
       "    <tr>\n",
       "      <th>5962</th>\n",
       "      <td>Arkansas</td>\n",
       "      <td>560204</td>\n",
       "      <td>https://www.youtube.com/watch?v=2oDRSS67Ohw</td>\n",
       "      <td>Clark Duke</td>\n",
       "      <td>[Liam Hemsworth, Clark Duke, Vince Vaughn, Joh...</td>\n",
       "      <td>None</td>\n",
       "      <td>Crime, Thriller</td>\n",
       "      <td>0</td>\n",
       "      <td>0</td>\n",
       "      <td>Kyle and Swin live by the orders of an Arkansa...</td>\n",
       "      <td>...</td>\n",
       "      <td>2020</td>\n",
       "      <td>115</td>\n",
       "      <td>11.248</td>\n",
       "      <td>False</td>\n",
       "      <td>2020-05-05</td>\n",
       "      <td>Arkansas</td>\n",
       "      <td>en</td>\n",
       "      <td>Crime knows no borders.</td>\n",
       "      <td>5.720</td>\n",
       "      <td>241</td>\n",
       "    </tr>\n",
       "    <tr>\n",
       "      <th>5963</th>\n",
       "      <td>Valley Girl</td>\n",
       "      <td>19053</td>\n",
       "      <td>https://www.youtube.com/watch?v=GJU88bssElo</td>\n",
       "      <td>Martha Coolidge</td>\n",
       "      <td>[Nicolas Cage, Deborah Foreman, Elizabeth Dail...</td>\n",
       "      <td>None</td>\n",
       "      <td>Comedy, Romance</td>\n",
       "      <td>350000</td>\n",
       "      <td>17343596</td>\n",
       "      <td>Julie, a girl from the valley, meets Randy, a ...</td>\n",
       "      <td>...</td>\n",
       "      <td>1983</td>\n",
       "      <td>99</td>\n",
       "      <td>11.128</td>\n",
       "      <td>False</td>\n",
       "      <td>1983-04-08</td>\n",
       "      <td>Valley Girl</td>\n",
       "      <td>en</td>\n",
       "      <td>She's cool. He's hot. She's from the Valley. H...</td>\n",
       "      <td>5.936</td>\n",
       "      <td>181</td>\n",
       "    </tr>\n",
       "    <tr>\n",
       "      <th>5964</th>\n",
       "      <td>Capone</td>\n",
       "      <td>429422</td>\n",
       "      <td>https://www.youtube.com/watch?v=LHYlKQSc7rA</td>\n",
       "      <td>Josh Trank</td>\n",
       "      <td>[Tom Hardy, Linda Cardellini, Matt Dillon, Kyl...</td>\n",
       "      <td>None</td>\n",
       "      <td>Crime, Drama</td>\n",
       "      <td>20600000</td>\n",
       "      <td>858281</td>\n",
       "      <td>The 47-year old Al Capone, after 10 years in p...</td>\n",
       "      <td>...</td>\n",
       "      <td>2020</td>\n",
       "      <td>103</td>\n",
       "      <td>13.270</td>\n",
       "      <td>False</td>\n",
       "      <td>2020-06-26</td>\n",
       "      <td>Capone</td>\n",
       "      <td>en</td>\n",
       "      <td>We all pay for our crimes in the end.</td>\n",
       "      <td>5.015</td>\n",
       "      <td>302</td>\n",
       "    </tr>\n",
       "    <tr>\n",
       "      <th>5965</th>\n",
       "      <td>The Wrong Missy</td>\n",
       "      <td>582596</td>\n",
       "      <td>https://www.youtube.com/watch?v=2Cwaneq2w-4</td>\n",
       "      <td>Tyler Spindel</td>\n",
       "      <td>[David Spade, Lauren Lapkus, Candace Smith, Sa...</td>\n",
       "      <td>None</td>\n",
       "      <td>Comedy, Romance</td>\n",
       "      <td>0</td>\n",
       "      <td>0</td>\n",
       "      <td>A guy meets the woman of his dreams and invite...</td>\n",
       "      <td>...</td>\n",
       "      <td>2020</td>\n",
       "      <td>90</td>\n",
       "      <td>27.793</td>\n",
       "      <td>False</td>\n",
       "      <td>2020-05-13</td>\n",
       "      <td>The Wrong Missy</td>\n",
       "      <td>en</td>\n",
       "      <td>There’s no untexting her now.</td>\n",
       "      <td>6.161</td>\n",
       "      <td>1037</td>\n",
       "    </tr>\n",
       "    <tr>\n",
       "      <th>5966</th>\n",
       "      <td>Scoob!</td>\n",
       "      <td>385103</td>\n",
       "      <td>https://www.youtube.com/watch?v=GzlEnS7MmUo</td>\n",
       "      <td>Tony Cervone</td>\n",
       "      <td>[Amanda Seyfried, Christina Hendricks, Frank W...</td>\n",
       "      <td>None</td>\n",
       "      <td>Animation, Comedy, Family, Mystery</td>\n",
       "      <td>90000000</td>\n",
       "      <td>28588425</td>\n",
       "      <td>In Scooby-Doo’s greatest adventure yet, see th...</td>\n",
       "      <td>...</td>\n",
       "      <td>2020</td>\n",
       "      <td>93</td>\n",
       "      <td>30.939</td>\n",
       "      <td>False</td>\n",
       "      <td>2020-07-08</td>\n",
       "      <td>Scoob!</td>\n",
       "      <td>en</td>\n",
       "      <td>Mystery loves company.</td>\n",
       "      <td>7.137</td>\n",
       "      <td>1520</td>\n",
       "    </tr>\n",
       "  </tbody>\n",
       "</table>\n",
       "<p>5967 rows × 21 columns</p>\n",
       "</div>"
      ],
      "text/plain": [
       "                Title      Id                                 Trailer Link   \n",
       "0      102 Dalmatians   10481  https://www.youtube.com/watch?v=7wOwplmoZlg  \\\n",
       "1             28 Days   10468                                         None   \n",
       "2           3 Strikes   47816  https://www.youtube.com/watch?v=GDFqdXToYxE   \n",
       "3         The 6th Day    8452  https://www.youtube.com/watch?v=LABR3ikwfdc   \n",
       "4     Across the Line  356301  https://www.youtube.com/watch?v=pwBs7Ji1CuI   \n",
       "...               ...     ...                                          ...   \n",
       "5962         Arkansas  560204  https://www.youtube.com/watch?v=2oDRSS67Ohw   \n",
       "5963      Valley Girl   19053  https://www.youtube.com/watch?v=GJU88bssElo   \n",
       "5964           Capone  429422  https://www.youtube.com/watch?v=LHYlKQSc7rA   \n",
       "5965  The Wrong Missy  582596  https://www.youtube.com/watch?v=2Cwaneq2w-4   \n",
       "5966           Scoob!  385103  https://www.youtube.com/watch?v=GzlEnS7MmUo   \n",
       "\n",
       "                Director                                               Cast   \n",
       "0             Kevin Lima  [Glenn Close, Ioan Gruffudd, Alice Evans, Tim ...  \\\n",
       "1           Betty Thomas  [Sandra Bullock, Viggo Mortensen, Dominic West...   \n",
       "2                DJ Pooh  [Brian Hooks, N'Bushe Wright, Faizon Love, E-4...   \n",
       "3     Roger Spottiswoode  [Arnold Schwarzenegger, Michael Rapaport, Tony...   \n",
       "4            Director X.  [Stephan James, Sarah Jeffery, Shamier Anderso...   \n",
       "...                  ...                                                ...   \n",
       "5962          Clark Duke  [Liam Hemsworth, Clark Duke, Vince Vaughn, Joh...   \n",
       "5963     Martha Coolidge  [Nicolas Cage, Deborah Foreman, Elizabeth Dail...   \n",
       "5964          Josh Trank  [Tom Hardy, Linda Cardellini, Matt Dillon, Kyl...   \n",
       "5965       Tyler Spindel  [David Spade, Lauren Lapkus, Candace Smith, Sa...   \n",
       "5966        Tony Cervone  [Amanda Seyfried, Christina Hendricks, Frank W...   \n",
       "\n",
       "     genre_ids                               Genre    Budget    Revenue   \n",
       "0         None                      Family, Comedy  85000000  183611771  \\\n",
       "1         None                       Comedy, Drama  43000000    6219894   \n",
       "2         None             Action, Comedy, Romance   6000000    9000000   \n",
       "3         None    Science Fiction, Action, Mystery  82000000   96085477   \n",
       "4         None                               Drama         0          0   \n",
       "...        ...                                 ...       ...        ...   \n",
       "5962      None                     Crime, Thriller         0          0   \n",
       "5963      None                     Comedy, Romance    350000   17343596   \n",
       "5964      None                        Crime, Drama  20600000     858281   \n",
       "5965      None                     Comedy, Romance         0          0   \n",
       "5966      None  Animation, Comedy, Family, Mystery  90000000   28588425   \n",
       "\n",
       "                                               Overview  ...  Year Runtime   \n",
       "0     Get ready for a howling good time as an all ne...  ...  2000     100  \\\n",
       "1     After getting into a car accident while drunk ...  ...  2000     103   \n",
       "2     Brian Hooks plays a character who is just rele...  ...  2000      82   \n",
       "3     A world of the very near future in which cattl...  ...  2000     123   \n",
       "4     Out of the approximately 600 players in the Na...  ...  2016      88   \n",
       "...                                                 ...  ...   ...     ...   \n",
       "5962  Kyle and Swin live by the orders of an Arkansa...  ...  2020     115   \n",
       "5963  Julie, a girl from the valley, meets Randy, a ...  ...  1983      99   \n",
       "5964  The 47-year old Al Capone, after 10 years in p...  ...  2020     103   \n",
       "5965  A guy meets the woman of his dreams and invite...  ...  2020      90   \n",
       "5966  In Scooby-Doo’s greatest adventure yet, see th...  ...  2020      93   \n",
       "\n",
       "      Popularity  Adult  Release_Date   Original_Title Original_Language   \n",
       "0         19.761  False    2000-11-21   102 Dalmatians                en  \\\n",
       "1         11.812  False    2000-04-06          28 Days                en   \n",
       "2          5.014  False    2000-03-01        3 Strikes                en   \n",
       "3         15.855  False    2000-11-17      The 6th Day                en   \n",
       "4          2.208  False    2016-04-08  Across the Line                en   \n",
       "...          ...    ...           ...              ...               ...   \n",
       "5962      11.248  False    2020-05-05         Arkansas                en   \n",
       "5963      11.128  False    1983-04-08      Valley Girl                en   \n",
       "5964      13.270  False    2020-06-26           Capone                en   \n",
       "5965      27.793  False    2020-05-13  The Wrong Missy                en   \n",
       "5966      30.939  False    2020-07-08           Scoob!                en   \n",
       "\n",
       "                                                Tagline Vote_Average   \n",
       "0         Meet Two Unlikely Heroes With A Bone To Pick.        5.500  \\\n",
       "1       The Life of the Party... before she got a life.        6.142   \n",
       "2                      the few, the proud, the paroled.        5.670   \n",
       "3                   They picked the wrong man to clone.        5.950   \n",
       "4                                                              5.000   \n",
       "...                                                 ...          ...   \n",
       "5962                            Crime knows no borders.        5.720   \n",
       "5963  She's cool. He's hot. She's from the Valley. H...        5.936   \n",
       "5964              We all pay for our crimes in the end.        5.015   \n",
       "5965                      There’s no untexting her now.        6.161   \n",
       "5966                             Mystery loves company.        7.137   \n",
       "\n",
       "      Vote_Count  \n",
       "0           1207  \n",
       "1            854  \n",
       "2             47  \n",
       "3           1759  \n",
       "4             11  \n",
       "...          ...  \n",
       "5962         241  \n",
       "5963         181  \n",
       "5964         302  \n",
       "5965        1037  \n",
       "5966        1520  \n",
       "\n",
       "[5967 rows x 21 columns]"
      ]
     },
     "execution_count": 151,
     "metadata": {},
     "output_type": "execute_result"
    }
   ],
   "source": [
    "Hollywood_movies"
   ]
  },
  {
   "cell_type": "code",
   "execution_count": null,
   "id": "5cc30269",
   "metadata": {},
   "outputs": [],
   "source": []
  }
 ],
 "metadata": {
  "kernelspec": {
   "display_name": "Python 3 (ipykernel)",
   "language": "python",
   "name": "python3"
  },
  "language_info": {
   "codemirror_mode": {
    "name": "ipython",
    "version": 3
   },
   "file_extension": ".py",
   "mimetype": "text/x-python",
   "name": "python",
   "nbconvert_exporter": "python",
   "pygments_lexer": "ipython3",
   "version": "3.9.13"
  }
 },
 "nbformat": 4,
 "nbformat_minor": 5
}
