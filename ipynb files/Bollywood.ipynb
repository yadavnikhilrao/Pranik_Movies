{
 "cells": [
  {
   "cell_type": "code",
   "execution_count": 1,
   "id": "870231dd",
   "metadata": {},
   "outputs": [],
   "source": [
    "import pandas as pd\n",
    "import numpy as np"
   ]
  },
  {
   "cell_type": "markdown",
   "id": "3514fef3",
   "metadata": {},
   "source": [
    "## Hindi Films Data From 2000 - 2023"
   ]
  },
  {
   "cell_type": "markdown",
   "id": "3aef1521",
   "metadata": {},
   "source": [
    "--------------------------------------------------------------------------------------------"
   ]
  },
  {
   "cell_type": "markdown",
   "id": "9dd4eac9",
   "metadata": {},
   "source": [
    "### Data of 2000's Movies"
   ]
  },
  {
   "cell_type": "code",
   "execution_count": 2,
   "id": "231da99b",
   "metadata": {},
   "outputs": [],
   "source": [
    "li2000 = 'https://en.wikipedia.org/wiki/List_of_Hindi_films_of_2000'"
   ]
  },
  {
   "cell_type": "code",
   "execution_count": 3,
   "id": "bd94a0b8",
   "metadata": {},
   "outputs": [],
   "source": [
    "df0 = pd.read_html(li2000, header=0)[4]\n",
    "df0 = df0.drop(\"Music director\",axis=1)"
   ]
  },
  {
   "cell_type": "markdown",
   "id": "6dd1124e",
   "metadata": {},
   "source": [
    "### Data of 2001's Movies"
   ]
  },
  {
   "cell_type": "code",
   "execution_count": 4,
   "id": "65ad53bf",
   "metadata": {},
   "outputs": [],
   "source": [
    "li2001 = 'https://en.wikipedia.org/wiki/List_of_Hindi_films_of_2001'"
   ]
  },
  {
   "cell_type": "code",
   "execution_count": 5,
   "id": "d116ef7b",
   "metadata": {},
   "outputs": [],
   "source": [
    "df1 = pd.read_html(li2001, header=0)[4]\n",
    "df1 = df1.drop(\"Unnamed: 4\",axis=1)"
   ]
  },
  {
   "cell_type": "markdown",
   "id": "61f32795",
   "metadata": {},
   "source": [
    "### Data of 2002's Movies"
   ]
  },
  {
   "cell_type": "code",
   "execution_count": 6,
   "id": "b253d1ad",
   "metadata": {},
   "outputs": [],
   "source": [
    "li2002 = 'https://en.wikipedia.org/wiki/List_of_Hindi_films_of_2002'"
   ]
  },
  {
   "cell_type": "code",
   "execution_count": 7,
   "id": "b4cdef0d",
   "metadata": {},
   "outputs": [],
   "source": [
    "df2 = pd.read_html(li2002, header=0)[3]"
   ]
  },
  {
   "cell_type": "markdown",
   "id": "f117e055",
   "metadata": {},
   "source": [
    "### Data of 2003's Movies"
   ]
  },
  {
   "cell_type": "code",
   "execution_count": 8,
   "id": "128fef11",
   "metadata": {},
   "outputs": [],
   "source": [
    "li2003 = 'https://en.wikipedia.org/wiki/List_of_Hindi_films_of_2003'"
   ]
  },
  {
   "cell_type": "code",
   "execution_count": 9,
   "id": "74e050df",
   "metadata": {},
   "outputs": [],
   "source": [
    "df3 = pd.read_html(li2003, header=0)[4]"
   ]
  },
  {
   "cell_type": "markdown",
   "id": "bb905946",
   "metadata": {},
   "source": [
    "### Data of 2004's Movies"
   ]
  },
  {
   "cell_type": "code",
   "execution_count": 10,
   "id": "e9a81ebe",
   "metadata": {},
   "outputs": [],
   "source": [
    "li2004 = 'https://en.wikipedia.org/wiki/List_of_Hindi_films_of_2004'"
   ]
  },
  {
   "cell_type": "code",
   "execution_count": 11,
   "id": "715c34c1",
   "metadata": {},
   "outputs": [],
   "source": [
    "df4 = pd.read_html(li2004, header=0)[4]"
   ]
  },
  {
   "cell_type": "markdown",
   "id": "f7a7a1a8",
   "metadata": {},
   "source": [
    "### Data of 2005's Movies"
   ]
  },
  {
   "cell_type": "code",
   "execution_count": 12,
   "id": "f13fcb48",
   "metadata": {},
   "outputs": [],
   "source": [
    "li2005 = 'https://en.wikipedia.org/wiki/List_of_Hindi_films_of_2005'"
   ]
  },
  {
   "cell_type": "code",
   "execution_count": 13,
   "id": "51f20958",
   "metadata": {},
   "outputs": [],
   "source": [
    "df5 = pd.read_html(li2005, header=0)[4]"
   ]
  },
  {
   "cell_type": "markdown",
   "id": "cc401b5d",
   "metadata": {},
   "source": [
    "### Data of 2006's Movies"
   ]
  },
  {
   "cell_type": "code",
   "execution_count": 14,
   "id": "2a5d0a0d",
   "metadata": {},
   "outputs": [],
   "source": [
    "li2006 = 'https://en.wikipedia.org/wiki/List_of_Hindi_films_of_2006'"
   ]
  },
  {
   "cell_type": "code",
   "execution_count": 15,
   "id": "2c9162f6",
   "metadata": {},
   "outputs": [],
   "source": [
    "df6 = pd.read_html(li2006, header=0)[3]\n",
    "df6 = df6.drop(\"Sources\",axis=1)"
   ]
  },
  {
   "cell_type": "markdown",
   "id": "d7829130",
   "metadata": {},
   "source": [
    "### Data of 2007's Movies"
   ]
  },
  {
   "cell_type": "code",
   "execution_count": 16,
   "id": "d06a4082",
   "metadata": {},
   "outputs": [],
   "source": [
    "li2007 = 'https://en.wikipedia.org/wiki/List_of_Hindi_films_of_2007'"
   ]
  },
  {
   "cell_type": "code",
   "execution_count": 17,
   "id": "b7318412",
   "metadata": {},
   "outputs": [],
   "source": [
    "df7 = pd.read_html(li2007, header=0)[2]"
   ]
  },
  {
   "cell_type": "markdown",
   "id": "220846f8",
   "metadata": {},
   "source": [
    "### Data of 2008's Movies"
   ]
  },
  {
   "cell_type": "code",
   "execution_count": 18,
   "id": "a10c4f8f",
   "metadata": {},
   "outputs": [],
   "source": [
    "li2008 = 'https://en.wikipedia.org/wiki/List_of_Hindi_films_of_2008'"
   ]
  },
  {
   "cell_type": "code",
   "execution_count": 19,
   "id": "279767c2",
   "metadata": {},
   "outputs": [],
   "source": [
    "df81 = pd.read_html(li2008, header=0)[3]\n",
    "df82 = pd.read_html(li2008, header=0)[4]\n",
    "df83 = pd.read_html(li2008, header=0)[5]\n",
    "df84 = pd.read_html(li2008, header=0)[6]\n",
    "df8 = pd.concat([df81,df82,df83,df84], ignore_index=True)"
   ]
  },
  {
   "cell_type": "code",
   "execution_count": 20,
   "id": "513c9d18",
   "metadata": {},
   "outputs": [],
   "source": [
    "df8 = df8.drop([\"Opening\",\"Opening.1\"],axis=1)"
   ]
  },
  {
   "cell_type": "markdown",
   "id": "60756123",
   "metadata": {},
   "source": [
    "### Data of 2009's Movies"
   ]
  },
  {
   "cell_type": "code",
   "execution_count": 21,
   "id": "a9d0e33a",
   "metadata": {},
   "outputs": [],
   "source": [
    "li2009 = 'https://en.wikipedia.org/wiki/List_of_Hindi_films_of_2009'"
   ]
  },
  {
   "cell_type": "code",
   "execution_count": 22,
   "id": "0a38ab59",
   "metadata": {},
   "outputs": [],
   "source": [
    "df91 = pd.read_html(li2009, header=0)[3]\n",
    "df92 = pd.read_html(li2009, header=0)[4]\n",
    "df93 = pd.read_html(li2009, header=0)[5]\n",
    "df94 = pd.read_html(li2009, header=0)[6]\n",
    "df9 = pd.concat([df91,df92,df93,df94], ignore_index=True)\n",
    "df9 = df9.drop([\"Opening\",\"Opening.1\"],axis=1)"
   ]
  },
  {
   "cell_type": "markdown",
   "id": "1290a94b",
   "metadata": {},
   "source": [
    "### Data of 20010's Movies"
   ]
  },
  {
   "cell_type": "code",
   "execution_count": 23,
   "id": "26b497db",
   "metadata": {},
   "outputs": [],
   "source": [
    "li2010 = 'https://en.wikipedia.org/wiki/List_of_Hindi_films_of_2010'"
   ]
  },
  {
   "cell_type": "code",
   "execution_count": 24,
   "id": "b4c65499",
   "metadata": {},
   "outputs": [],
   "source": [
    "df101 = pd.read_html(li2010, header=0)[4]\n",
    "df102 = pd.read_html(li2010, header=0)[5]\n",
    "df103 = pd.read_html(li2010, header=0)[6]\n",
    "df104 = pd.read_html(li2010, header=0)[7]\n",
    "df10 = pd.concat([df101,df102,df103,df104], ignore_index=True)\n",
    "df10 = df10.drop([\"Opening\",\"Opening.1\"],axis=1)"
   ]
  },
  {
   "cell_type": "markdown",
   "id": "049d4f17",
   "metadata": {},
   "source": [
    "### Data of 2011's Movies"
   ]
  },
  {
   "cell_type": "code",
   "execution_count": 25,
   "id": "f9d883bc",
   "metadata": {},
   "outputs": [],
   "source": [
    "li2011 = 'https://en.wikipedia.org/wiki/List_of_Hindi_films_of_2011'"
   ]
  },
  {
   "cell_type": "code",
   "execution_count": 26,
   "id": "23212d16",
   "metadata": {},
   "outputs": [],
   "source": [
    "df111 = pd.read_html(li2011, header=0)[2]\n",
    "df112 = pd.read_html(li2011, header=0)[3]\n",
    "df113 = pd.read_html(li2011, header=0)[4]\n",
    "df114 = pd.read_html(li2011, header=0)[5]\n",
    "df11 = pd.concat([df111,df112,df113,df114], ignore_index=True)\n",
    "df11 = df11.drop([\"Opening\",\"Opening.1\",\"Ref\"],axis=1)"
   ]
  },
  {
   "cell_type": "markdown",
   "id": "f550edd6",
   "metadata": {},
   "source": [
    "### Data of 2012's Movies"
   ]
  },
  {
   "cell_type": "code",
   "execution_count": 27,
   "id": "b87b4927",
   "metadata": {},
   "outputs": [],
   "source": [
    "li2012 = 'https://en.wikipedia.org/wiki/List_of_Hindi_films_of_2012'"
   ]
  },
  {
   "cell_type": "code",
   "execution_count": 28,
   "id": "ad687b9c",
   "metadata": {},
   "outputs": [],
   "source": [
    "df121 = pd.read_html(li2012, header=0)[3]\n",
    "df122 = pd.read_html(li2012, header=0)[4]\n",
    "df123 = pd.read_html(li2012, header=0)[5]\n",
    "df124 = pd.read_html(li2012, header=0)[6]\n",
    "df12 = pd.concat([df121,df122,df123,df124], ignore_index=True)\n",
    "df12 = df12.drop([\"Opening\",\"Opening.1\"],axis=1)"
   ]
  },
  {
   "cell_type": "markdown",
   "id": "988e876d",
   "metadata": {},
   "source": [
    "### Data of 2013's Movies"
   ]
  },
  {
   "cell_type": "code",
   "execution_count": 29,
   "id": "12191221",
   "metadata": {},
   "outputs": [],
   "source": [
    "li2013 = 'https://en.wikipedia.org/wiki/List_of_Hindi_films_of_2013'"
   ]
  },
  {
   "cell_type": "code",
   "execution_count": 30,
   "id": "7f5e96c2",
   "metadata": {},
   "outputs": [],
   "source": [
    "df131 = pd.read_html(li2013, header=0)[2]\n",
    "df132 = pd.read_html(li2013, header=0)[3]\n",
    "df133 = pd.read_html(li2013, header=0)[4]\n",
    "df134 = pd.read_html(li2013, header=0)[5]\n",
    "df13 = pd.concat([df131,df132,df133,df134], ignore_index=True)\n",
    "df13 = df13.drop([\"Opening\",\"Opening.1\",\"Source\"],axis=1)"
   ]
  },
  {
   "cell_type": "markdown",
   "id": "283a6275",
   "metadata": {},
   "source": [
    "### Data of 2014's Movies"
   ]
  },
  {
   "cell_type": "code",
   "execution_count": 31,
   "id": "e71e9f25",
   "metadata": {},
   "outputs": [],
   "source": [
    "li2014 = 'https://en.wikipedia.org/wiki/List_of_Hindi_films_of_2014'"
   ]
  },
  {
   "cell_type": "code",
   "execution_count": 32,
   "id": "318989a6",
   "metadata": {},
   "outputs": [],
   "source": [
    "df141 = pd.read_html(li2014, header=0)[2]\n",
    "df142 = pd.read_html(li2014, header=0)[3]\n",
    "df143 = pd.read_html(li2014, header=0)[4]\n",
    "df144 = pd.read_html(li2014, header=0)[5]\n",
    "df14 = pd.concat([df141,df142,df143,df144], ignore_index=True)\n",
    "df14 = df14.drop([\"Opening\",\"Opening.1\",\"Source\"],axis=1)"
   ]
  },
  {
   "cell_type": "markdown",
   "id": "902fea04",
   "metadata": {},
   "source": [
    "### Data of 2015's Movies"
   ]
  },
  {
   "cell_type": "code",
   "execution_count": 33,
   "id": "20f2002d",
   "metadata": {},
   "outputs": [],
   "source": [
    "li2015 = 'https://en.wikipedia.org/wiki/List_of_Hindi_films_of_2015'"
   ]
  },
  {
   "cell_type": "code",
   "execution_count": 34,
   "id": "6ddf4a46",
   "metadata": {},
   "outputs": [],
   "source": [
    "df151 = pd.read_html(li2015, header=0)[2]\n",
    "df152 = pd.read_html(li2015, header=0)[3]\n",
    "df153 = pd.read_html(li2015, header=0)[4]\n",
    "df154 = pd.read_html(li2015, header=0)[5]\n",
    "df15 = pd.concat([df151,df152,df153,df154], ignore_index=True)\n",
    "df15 = df15.drop([\"Opening\",\"Opening.1\",\"Source\",\"Unnamed: 7\"],axis=1)"
   ]
  },
  {
   "cell_type": "markdown",
   "id": "5597efcd",
   "metadata": {},
   "source": [
    "### Data of 2016's Movies"
   ]
  },
  {
   "cell_type": "code",
   "execution_count": 35,
   "id": "926363cc",
   "metadata": {},
   "outputs": [],
   "source": [
    "li2016 = 'https://en.wikipedia.org/wiki/List_of_Hindi_films_of_2016'"
   ]
  },
  {
   "cell_type": "code",
   "execution_count": 36,
   "id": "24b78b03",
   "metadata": {},
   "outputs": [],
   "source": [
    "df161 = pd.read_html(li2016, header=0)[2]\n",
    "df162 = pd.read_html(li2016, header=0)[3]\n",
    "df163 = pd.read_html(li2016, header=0)[4]\n",
    "df164 = pd.read_html(li2016, header=0)[5]\n",
    "df16 = pd.concat([df161,df162,df163,df164], ignore_index=True)\n",
    "df16 = df16.drop([\"Opening\",\"Opening.1\",\"Studio\",\"Ref.\"],axis=1)"
   ]
  },
  {
   "cell_type": "markdown",
   "id": "6a91641a",
   "metadata": {},
   "source": [
    "### Data of 2017's Movies"
   ]
  },
  {
   "cell_type": "code",
   "execution_count": 37,
   "id": "1bf07d77",
   "metadata": {},
   "outputs": [],
   "source": [
    "li2017 = 'https://en.wikipedia.org/wiki/List_of_Hindi_films_of_2017'"
   ]
  },
  {
   "cell_type": "code",
   "execution_count": 38,
   "id": "4e857e83",
   "metadata": {},
   "outputs": [],
   "source": [
    "df171 = pd.read_html(li2017, header=0)[2]\n",
    "df172 = pd.read_html(li2017, header=0)[3]\n",
    "df173 = pd.read_html(li2017, header=0)[4]\n",
    "df174 = pd.read_html(li2017, header=0)[5]\n",
    "df17 = pd.concat([df171,df172,df173,df174], ignore_index=True)\n",
    "df17 = df17.drop([\"Opening\",\"Opening.1\",\"Studio\",\"Ref.\"],axis=1)"
   ]
  },
  {
   "cell_type": "markdown",
   "id": "b0d2d967",
   "metadata": {},
   "source": [
    "### Data of 2018's Movies"
   ]
  },
  {
   "cell_type": "code",
   "execution_count": 39,
   "id": "990a7fdb",
   "metadata": {},
   "outputs": [],
   "source": [
    "li2018 = 'https://en.wikipedia.org/wiki/List_of_Hindi_films_of_2018'"
   ]
  },
  {
   "cell_type": "code",
   "execution_count": 40,
   "id": "a9bb219b",
   "metadata": {},
   "outputs": [],
   "source": [
    "df181 = pd.read_html(li2018, header=0)[2]\n",
    "df182 = pd.read_html(li2018, header=0)[3]\n",
    "df183 = pd.read_html(li2018, header=0)[4]\n",
    "df184 = pd.read_html(li2018, header=0)[5]\n",
    "df18 = pd.concat([df181,df182,df183,df184], ignore_index=True)\n",
    "df18 = df18.drop([\"Opening\",\"Opening.1\",\"Production house\",\"Ref.\"],axis=1)"
   ]
  },
  {
   "cell_type": "markdown",
   "id": "9b1e76da",
   "metadata": {},
   "source": [
    "### Data of 2019's Movies"
   ]
  },
  {
   "cell_type": "code",
   "execution_count": 41,
   "id": "248594c0",
   "metadata": {},
   "outputs": [],
   "source": [
    "li2019 = 'https://en.wikipedia.org/wiki/List_of_Hindi_films_of_2019'"
   ]
  },
  {
   "cell_type": "code",
   "execution_count": 42,
   "id": "72e6496f",
   "metadata": {},
   "outputs": [],
   "source": [
    "df191 = pd.read_html(li2019, header=0)[3]\n",
    "df192 = pd.read_html(li2019, header=0)[4]\n",
    "df193 = pd.read_html(li2019, header=0)[5]\n",
    "df194 = pd.read_html(li2019, header=0)[6]\n",
    "df19 = pd.concat([df191,df192,df193,df194], ignore_index=True)\n",
    "df19 = df19.drop([\"Opening\",\"Opening.1\",\"Studio (production house)\",\"Ref.\"],axis=1)"
   ]
  },
  {
   "cell_type": "markdown",
   "id": "84f7b942",
   "metadata": {},
   "source": [
    "### Data of 2020's Movies"
   ]
  },
  {
   "cell_type": "code",
   "execution_count": 43,
   "id": "9573f6d5",
   "metadata": {},
   "outputs": [],
   "source": [
    "li2020 = 'https://en.wikipedia.org/wiki/List_of_Hindi_films_of_2020'"
   ]
  },
  {
   "cell_type": "code",
   "execution_count": 44,
   "id": "dcdef583",
   "metadata": {},
   "outputs": [],
   "source": [
    "df201 = pd.read_html(li2020, header=0)[2]\n",
    "df202 = pd.read_html(li2020, header=0)[3]\n",
    "df203 = pd.read_html(li2020, header=0)[4]\n",
    "df204 = pd.read_html(li2020, header=0)[5]\n",
    "df20 = pd.concat([df201,df202,df203,df204], ignore_index=True)\n",
    "df20 = df20.drop([\"Opening\",\"Opening.1\",\"Studio (production house)\",\"Ref.\"],axis=1)"
   ]
  },
  {
   "cell_type": "markdown",
   "id": "3b6d284a",
   "metadata": {},
   "source": [
    "### Data of 2021's Movies"
   ]
  },
  {
   "cell_type": "code",
   "execution_count": 45,
   "id": "e7ea7c2a",
   "metadata": {},
   "outputs": [],
   "source": [
    "li2021 = 'https://en.wikipedia.org/wiki/List_of_Hindi_films_of_2021'"
   ]
  },
  {
   "cell_type": "code",
   "execution_count": 46,
   "id": "477f0604",
   "metadata": {},
   "outputs": [],
   "source": [
    "df211 = pd.read_html(li2021, header=0)[2]\n",
    "df212 = pd.read_html(li2021, header=0)[3]\n",
    "df213 = pd.read_html(li2021, header=0)[4]\n",
    "df214 = pd.read_html(li2021, header=0)[5]\n",
    "df21 = pd.concat([df211,df212,df213,df214], ignore_index=True)\n",
    "df21 = df21.drop([\"Opening\",\"Opening.1\",\"Studio (production house)\",\"Ref.\"],axis=1)"
   ]
  },
  {
   "cell_type": "markdown",
   "id": "418a4934",
   "metadata": {},
   "source": [
    "### Data of 2022's Movies"
   ]
  },
  {
   "cell_type": "code",
   "execution_count": 47,
   "id": "1a503299",
   "metadata": {},
   "outputs": [],
   "source": [
    "li2022 = 'https://en.wikipedia.org/wiki/List_of_Hindi_films_of_2022'"
   ]
  },
  {
   "cell_type": "code",
   "execution_count": 48,
   "id": "8af86fdc",
   "metadata": {},
   "outputs": [],
   "source": [
    "df221 = pd.read_html(li2022, header=0)[3]\n",
    "df222 = pd.read_html(li2022, header=0)[4]\n",
    "df223 = pd.read_html(li2022, header=0)[5]\n",
    "df224 = pd.read_html(li2022, header=0)[6]\n",
    "df22 = pd.concat([df221,df222,df223,df224], ignore_index=True)\n",
    "df22 = df22.drop([\"Opening\",\"Opening.1\",\"Studio (production house)\",\"Ref.\"],axis=1)"
   ]
  },
  {
   "cell_type": "markdown",
   "id": "13e96c33",
   "metadata": {},
   "source": [
    "### Data of 2023's Movies"
   ]
  },
  {
   "cell_type": "code",
   "execution_count": 49,
   "id": "b9d243a7",
   "metadata": {},
   "outputs": [],
   "source": [
    "li2023 = 'https://en.wikipedia.org/wiki/List_of_Hindi_films_of_2023'"
   ]
  },
  {
   "cell_type": "code",
   "execution_count": 50,
   "id": "6fb73c5d",
   "metadata": {},
   "outputs": [],
   "source": [
    "df231 = pd.read_html(li2023, header=0)[3]\n",
    "df232 = pd.read_html(li2023, header=0)[4]\n",
    "df233 = pd.read_html(li2023, header=0)[5]\n",
    "df234 = pd.read_html(li2023, header=0)[6]\n",
    "df23 = pd.concat([df231,df232,df233,df234], ignore_index=True)\n",
    "df23 = df23.drop([\"Opening\",\"Opening.1\",\"Studio (production house)\",\"Ref.\"],axis=1)"
   ]
  },
  {
   "cell_type": "code",
   "execution_count": 51,
   "id": "202e6131",
   "metadata": {},
   "outputs": [],
   "source": [
    "data = pd.concat(\n",
    "    [df0,df1,df2,df3,df4,df5,df6,df7,df8,df9,df10,df11,df12,df13,df14,df15,df16,df17,df18,df19,df20,df21,df22,df23],\n",
    "    ignore_index=True)"
   ]
  },
  {
   "cell_type": "code",
   "execution_count": 52,
   "id": "8fb026ab",
   "metadata": {},
   "outputs": [
    {
     "data": {
      "text/plain": [
       "(2526, 4)"
      ]
     },
     "execution_count": 52,
     "metadata": {},
     "output_type": "execute_result"
    }
   ],
   "source": [
    "data.shape"
   ]
  },
  {
   "cell_type": "code",
   "execution_count": 53,
   "id": "c41e673e",
   "metadata": {},
   "outputs": [
    {
     "data": {
      "text/plain": [
       "Title        36\n",
       "Director     58\n",
       "Cast         61\n",
       "Genre       699\n",
       "dtype: int64"
      ]
     },
     "execution_count": 53,
     "metadata": {},
     "output_type": "execute_result"
    }
   ],
   "source": [
    "data.isnull().sum()"
   ]
  },
  {
   "cell_type": "code",
   "execution_count": 54,
   "id": "66851b76",
   "metadata": {},
   "outputs": [],
   "source": [
    "# Drop null title \n",
    "null_data = data[data[\"Title\"].isnull()]\n",
    "data = data.drop(null_data.index)"
   ]
  },
  {
   "cell_type": "code",
   "execution_count": 55,
   "id": "26304bfd",
   "metadata": {},
   "outputs": [],
   "source": [
    "data.to_csv(\"Bollywood.csv\",index=False)"
   ]
  },
  {
   "cell_type": "markdown",
   "id": "5fc5bee4",
   "metadata": {},
   "source": [
    "-----------------------------------------------------------------------------------------"
   ]
  },
  {
   "cell_type": "code",
   "execution_count": 64,
   "id": "28f1a2e5",
   "metadata": {},
   "outputs": [],
   "source": [
    "import pandas as pd\n",
    "data = pd.read_csv(\"Bollywood.csv\")"
   ]
  },
  {
   "cell_type": "code",
   "execution_count": 65,
   "id": "8efc878d",
   "metadata": {},
   "outputs": [
    {
     "data": {
      "text/plain": [
       "(2490, 4)"
      ]
     },
     "execution_count": 65,
     "metadata": {},
     "output_type": "execute_result"
    }
   ],
   "source": [
    "data.shape"
   ]
  },
  {
   "cell_type": "code",
   "execution_count": 82,
   "id": "2db2fe36",
   "metadata": {},
   "outputs": [],
   "source": [
    "# Importing essential tools for data extraction\n",
    "import pandas as pd\n",
    "from tmdbv3api import TMDb, Movie\n",
    "import json\n",
    "import requests\n",
    "tmdb = TMDb()\n",
    "tmdb_movie = Movie()\n",
    "\n",
    "# set up TMDb API\n",
    "tmdb.api_key = 'db47f4d8f92f5ca02c7840f594a293ad'\n",
    "\n",
    "# define get_genre function\n",
    "def get_genre(movie_id):\n",
    "    response = requests.get(f'https://api.themoviedb.org/3/movie/{movie_id}?api_key={tmdb.api_key}')\n",
    "    data_json = response.json()\n",
    "    if data_json['genres']:\n",
    "        genres = [genre['name'] for genre in data_json['genres']]\n",
    "        return ', '.join(genres)\n",
    "    else:\n",
    "        return None\n",
    "    \n",
    "def get_movie_info(title):\n",
    "    response = search.movie(query=title)\n",
    "    movie_id = response['results'][0]['id']\n",
    "    movie = tmdb.Movies(movie_id)\n",
    "    info = movie.info()\n",
    "    credits = movie.credits()\n",
    "    cast_list = []\n",
    "    for cast in credits['cast']:\n",
    "        cast_list.append(cast['name'])\n",
    "    director = \"\"\n",
    "    for crew in credits['crew']:\n",
    "        if crew['job'] == 'Director':\n",
    "            director = crew['name']\n",
    "            break\n",
    "    return {'title': info['title'], 'cast': cast_list, 'director': director}\n",
    "\n",
    "def get_movie_data(title):\n",
    "    search = tmdb_movie.search(title)\n",
    "    if search:\n",
    "        rec = search[0]\n",
    "        movie_id = rec['id']\n",
    "        \n",
    "        videos = tmdb_movie.videos(movie_id)\n",
    "        trailer_key = None\n",
    "        if videos:\n",
    "            for video in videos:\n",
    "                if video.type == 'Trailer':\n",
    "                    trailer_key = video.key\n",
    "                    break\n",
    "        \n",
    "        rec = tmdb_movie.details(rec['id'])\n",
    "        credits = tmdb_movie.credits(rec['id'])\n",
    "        cast_list = []\n",
    "        for cast in credits['cast']:\n",
    "            cast_list.append(cast['name'])\n",
    "        director = \"\"\n",
    "        for crew in credits['crew']:\n",
    "            if crew['job'] == 'Director':\n",
    "                director = crew['name']\n",
    "                break\n",
    "        \n",
    "        data = {'Title': rec['title'],'Id': rec['id'],'Trailer Link': f'https://www.youtube.com/watch?v={trailer_key}' if trailer_key else None,\n",
    "                'Director': director,'Cast': cast_list,'genre_ids': rec['genre_ids'] if 'genre_ids' in rec else None,'Genre': get_genre(rec['id']),\n",
    "                'Budget': rec['budget'] if 'budget' in rec else None,'Revenue': rec['revenue'] if 'revenue' in rec else None,'Overview': rec['overview'],'Homepage': rec['homepage'],\n",
    "                'Year': rec['release_date'][:4],'Runtime': rec['runtime'],'Popularity': rec['popularity'],'Adult': rec['adult'],'Release_Date': rec['release_date'],'Original_Title': rec['original_title'],\n",
    "                'Original_Language': rec['original_language'],'Tagline': rec['tagline'],'Vote_Average': rec['vote_average'],'Vote_Count': rec['vote_count']}\n",
    "        \n",
    "        \n",
    "        return pd.DataFrame.from_dict([data])\n",
    "    else:\n",
    "        return None\n",
    "\n",
    "\n",
    "# create list of movie titles\n",
    "Titles = []\n",
    "movie_names = data['Title'].map(lambda x: Titles.append(x))\n",
    "Titles = Titles[2000:2490]\n",
    "\n",
    "\n",
    "# retrieve data for each movie and concatenate into a single DataFrame\n",
    "data_frames = [get_movie_data(title) for title in Titles]\n",
    "dfb3 = pd.concat(data_frames, ignore_index=True)\n"
   ]
  },
  {
   "cell_type": "code",
   "execution_count": 83,
   "id": "3d95e765",
   "metadata": {},
   "outputs": [],
   "source": [
    "dfb3.to_csv(\"dfb3.csv\",index=False)"
   ]
  },
  {
   "cell_type": "code",
   "execution_count": 86,
   "id": "59c2c389",
   "metadata": {},
   "outputs": [],
   "source": [
    "# dfb1, dfb2, dfb3"
   ]
  },
  {
   "cell_type": "code",
   "execution_count": 87,
   "id": "6fcfc54a",
   "metadata": {},
   "outputs": [],
   "source": [
    "Bollywood_movies = pd.concat([dfb1,dfb2,dfb3],ignore_index=True)"
   ]
  },
  {
   "cell_type": "code",
   "execution_count": 89,
   "id": "2306c74a",
   "metadata": {},
   "outputs": [
    {
     "data": {
      "text/plain": [
       "(2317, 21)"
      ]
     },
     "execution_count": 89,
     "metadata": {},
     "output_type": "execute_result"
    }
   ],
   "source": [
    "Bollywood_movies.shape"
   ]
  },
  {
   "cell_type": "code",
   "execution_count": 90,
   "id": "47660352",
   "metadata": {},
   "outputs": [],
   "source": [
    "Bollywood_movies.to_csv(\"Bollywood_Movies.csv\",index=False)"
   ]
  },
  {
   "cell_type": "code",
   "execution_count": 94,
   "id": "76f390fd",
   "metadata": {},
   "outputs": [],
   "source": [
    "# pd.read_csv(\"Bollywood_Movies.csv\")"
   ]
  },
  {
   "cell_type": "code",
   "execution_count": null,
   "id": "52441183",
   "metadata": {},
   "outputs": [],
   "source": []
  }
 ],
 "metadata": {
  "kernelspec": {
   "display_name": "Python 3 (ipykernel)",
   "language": "python",
   "name": "python3"
  },
  "language_info": {
   "codemirror_mode": {
    "name": "ipython",
    "version": 3
   },
   "file_extension": ".py",
   "mimetype": "text/x-python",
   "name": "python",
   "nbconvert_exporter": "python",
   "pygments_lexer": "ipython3",
   "version": "3.9.13"
  }
 },
 "nbformat": 4,
 "nbformat_minor": 5
}
