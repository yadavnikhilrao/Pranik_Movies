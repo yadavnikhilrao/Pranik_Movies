{
 "cells": [
  {
   "cell_type": "code",
   "execution_count": 1,
   "id": "870231dd",
   "metadata": {},
   "outputs": [],
   "source": [
    "import pandas as pd\n",
    "import numpy as np"
   ]
  },
  {
   "cell_type": "markdown",
   "id": "3514fef3",
   "metadata": {},
   "source": [
    "## Telugu Films Data From 2000 - 2023"
   ]
  },
  {
   "cell_type": "markdown",
   "id": "3aef1521",
   "metadata": {},
   "source": [
    "--------------------------------------------------------------------------------------------"
   ]
  },
  {
   "cell_type": "markdown",
   "id": "9dd4eac9",
   "metadata": {},
   "source": [
    "### Data of 2000's Movies"
   ]
  },
  {
   "cell_type": "code",
   "execution_count": 2,
   "id": "231da99b",
   "metadata": {},
   "outputs": [],
   "source": [
    "li2000 = \"https://en.wikipedia.org/wiki/List_of_Telugu_films_of_2000\""
   ]
  },
  {
   "cell_type": "code",
   "execution_count": 3,
   "id": "bd94a0b8",
   "metadata": {},
   "outputs": [],
   "source": [
    "df01 = pd.read_html(li2000, header=0)[2]\n",
    "df02 = pd.read_html(li2000, header=0)[3]\n",
    "df0 = pd.concat([df01,df02], ignore_index=True)\n",
    "df0 = df0.drop([\"Source\",\"Opening\",\"Opening.1\"],axis=1)"
   ]
  },
  {
   "cell_type": "markdown",
   "id": "6dd1124e",
   "metadata": {},
   "source": [
    "### Data of 2001's Movies"
   ]
  },
  {
   "cell_type": "code",
   "execution_count": 4,
   "id": "65ad53bf",
   "metadata": {},
   "outputs": [],
   "source": [
    "li2001 = \"https://en.wikipedia.org/wiki/List_of_Telugu_films_of_2001\""
   ]
  },
  {
   "cell_type": "code",
   "execution_count": 5,
   "id": "d116ef7b",
   "metadata": {},
   "outputs": [],
   "source": [
    "df11 = pd.read_html(li2001, header=0)[2]\n",
    "df12 = pd.read_html(li2001, header=0)[3]\n",
    "df1 = pd.concat([df11,df12], ignore_index=True)\n",
    "df1 = df1.drop([\"Notes\",\"Opening\",\"Opening.1\"],axis=1)"
   ]
  },
  {
   "cell_type": "markdown",
   "id": "61f32795",
   "metadata": {},
   "source": [
    "### Data of 2002's Movies"
   ]
  },
  {
   "cell_type": "code",
   "execution_count": 6,
   "id": "b253d1ad",
   "metadata": {},
   "outputs": [],
   "source": [
    "li2002 = \"https://en.wikipedia.org/wiki/List_of_Telugu_films_of_2002\""
   ]
  },
  {
   "cell_type": "code",
   "execution_count": 7,
   "id": "b4cdef0d",
   "metadata": {},
   "outputs": [],
   "source": [
    "df21 = pd.read_html(li2002, header=0)[3]\n",
    "df22 = pd.read_html(li2002, header=0)[4]\n",
    "df2 = pd.concat([df21,df22], ignore_index=True)\n",
    "df2 = df2.drop([\"Sources\",\"Opening\",\"Opening.1\"],axis=1)"
   ]
  },
  {
   "cell_type": "markdown",
   "id": "f117e055",
   "metadata": {},
   "source": [
    "### Data of 2003's Movies"
   ]
  },
  {
   "cell_type": "code",
   "execution_count": 8,
   "id": "128fef11",
   "metadata": {},
   "outputs": [],
   "source": [
    "li2003 = \"https://en.wikipedia.org/wiki/List_of_Telugu_films_of_2003\""
   ]
  },
  {
   "cell_type": "code",
   "execution_count": 9,
   "id": "74e050df",
   "metadata": {},
   "outputs": [],
   "source": [
    "df31 = pd.read_html(li2003, header=0)[3]\n",
    "df32 = pd.read_html(li2003, header=0)[4]\n",
    "df3 = pd.concat([df31,df32], ignore_index=True)\n",
    "df3 = df3.drop([\"Notes\",\"Opening\",\"Opening.1\"],axis=1)"
   ]
  },
  {
   "cell_type": "markdown",
   "id": "bb905946",
   "metadata": {},
   "source": [
    "### Data of 2004's Movies"
   ]
  },
  {
   "cell_type": "code",
   "execution_count": 10,
   "id": "e9a81ebe",
   "metadata": {},
   "outputs": [],
   "source": [
    "li2004 = \"https://en.wikipedia.org/wiki/List_of_Telugu_films_of_2004\""
   ]
  },
  {
   "cell_type": "code",
   "execution_count": 11,
   "id": "715c34c1",
   "metadata": {},
   "outputs": [],
   "source": [
    "df41 = pd.read_html(li2004, header=0)[2]\n",
    "df42 = pd.read_html(li2004, header=0)[3]\n",
    "df4 = pd.concat([df41,df42], ignore_index=True)\n",
    "df4 = df4.drop([\"Sources\",\"Opening\",\"Opening.1\"],axis=1)"
   ]
  },
  {
   "cell_type": "markdown",
   "id": "f7a7a1a8",
   "metadata": {},
   "source": [
    "### Data of 2005's Movies"
   ]
  },
  {
   "cell_type": "code",
   "execution_count": 12,
   "id": "f13fcb48",
   "metadata": {},
   "outputs": [],
   "source": [
    "li2005 = \"https://en.wikipedia.org/wiki/List_of_Telugu_films_of_2005\""
   ]
  },
  {
   "cell_type": "code",
   "execution_count": 13,
   "id": "51f20958",
   "metadata": {},
   "outputs": [],
   "source": [
    "df51 = pd.read_html(li2005, header=0)[4]\n",
    "df52 = pd.read_html(li2005, header=0)[5]\n",
    "df5 = pd.concat([df51,df52], ignore_index=True)\n",
    "df5 = df5.drop([\"Sources\",\"Opening\",\"Opening.1\"],axis=1)"
   ]
  },
  {
   "cell_type": "markdown",
   "id": "cc401b5d",
   "metadata": {},
   "source": [
    "### Data of 2006's Movies"
   ]
  },
  {
   "cell_type": "code",
   "execution_count": 14,
   "id": "2a5d0a0d",
   "metadata": {},
   "outputs": [],
   "source": [
    "li2006 = \"https://en.wikipedia.org/wiki/List_of_Telugu_films_of_2006\""
   ]
  },
  {
   "cell_type": "code",
   "execution_count": 15,
   "id": "2c9162f6",
   "metadata": {},
   "outputs": [],
   "source": [
    "df61 = pd.read_html(li2005, header=0)[4]\n",
    "df62 = pd.read_html(li2005, header=0)[5]\n",
    "df6 = pd.concat([df51,df52], ignore_index=True)\n",
    "df6 = df6.drop([\"Sources\",\"Opening\",\"Opening.1\"],axis=1)"
   ]
  },
  {
   "cell_type": "markdown",
   "id": "d7829130",
   "metadata": {},
   "source": [
    "### Data of 2007's Movies"
   ]
  },
  {
   "cell_type": "code",
   "execution_count": 16,
   "id": "d06a4082",
   "metadata": {},
   "outputs": [],
   "source": [
    "li2007 = \"https://en.wikipedia.org/wiki/List_of_Telugu_films_of_2007\""
   ]
  },
  {
   "cell_type": "code",
   "execution_count": 17,
   "id": "b7318412",
   "metadata": {},
   "outputs": [],
   "source": [
    "df71 = pd.read_html(li2005, header=0)[4]\n",
    "df72 = pd.read_html(li2005, header=0)[5]\n",
    "df7 = pd.concat([df51,df52], ignore_index=True)\n",
    "df7 = df7.drop([\"Sources\",\"Opening\",\"Opening.1\"],axis=1)"
   ]
  },
  {
   "cell_type": "markdown",
   "id": "220846f8",
   "metadata": {},
   "source": [
    "### Data of 2008's Movies"
   ]
  },
  {
   "cell_type": "code",
   "execution_count": 18,
   "id": "a10c4f8f",
   "metadata": {},
   "outputs": [],
   "source": [
    "li2008 = \"https://en.wikipedia.org/wiki/List_of_Telugu_films_of_2008\""
   ]
  },
  {
   "cell_type": "code",
   "execution_count": 19,
   "id": "279767c2",
   "metadata": {},
   "outputs": [],
   "source": [
    "df8 = pd.read_html(li2008, header=0)[1]\n",
    "df8 = df8.drop([\"Notes\",\"Opening\",\"Opening.1\"],axis=1)"
   ]
  },
  {
   "cell_type": "markdown",
   "id": "60756123",
   "metadata": {},
   "source": [
    "### Data of 2009's Movies"
   ]
  },
  {
   "cell_type": "code",
   "execution_count": 20,
   "id": "a9d0e33a",
   "metadata": {},
   "outputs": [],
   "source": [
    "li2009 = \"https://en.wikipedia.org/wiki/List_of_Telugu_films_of_2009\""
   ]
  },
  {
   "cell_type": "code",
   "execution_count": 21,
   "id": "0a38ab59",
   "metadata": {},
   "outputs": [],
   "source": [
    "df9 = pd.read_html(li2009, header=0)[3]\n",
    "df9 = df9.drop([\"Opening\",\"Opening.1\",\"Notes\"],axis=1)"
   ]
  },
  {
   "cell_type": "markdown",
   "id": "1290a94b",
   "metadata": {},
   "source": [
    "### Data of 20010's Movies"
   ]
  },
  {
   "cell_type": "code",
   "execution_count": 22,
   "id": "26b497db",
   "metadata": {},
   "outputs": [],
   "source": [
    "li2010 = \"https://en.wikipedia.org/wiki/List_of_Telugu_films_of_2010\""
   ]
  },
  {
   "cell_type": "code",
   "execution_count": 23,
   "id": "b4c65499",
   "metadata": {},
   "outputs": [],
   "source": [
    "df101 = pd.read_html(li2010, header=0)[2]\n",
    "df102 = pd.read_html(li2010, header=0)[3]\n",
    "df10 = pd.concat([df101,df102], ignore_index=True)\n",
    "df10 = df10.drop([\"Opening\",\"Opening.1\",\"Notes\",\"Ref\",\"Producer\"],axis=1)"
   ]
  },
  {
   "cell_type": "markdown",
   "id": "049d4f17",
   "metadata": {},
   "source": [
    "### Data of 2011's Movies"
   ]
  },
  {
   "cell_type": "code",
   "execution_count": 24,
   "id": "f9d883bc",
   "metadata": {},
   "outputs": [],
   "source": [
    "li2011 = \"https://en.wikipedia.org/wiki/List_of_Telugu_films_of_2011\""
   ]
  },
  {
   "cell_type": "code",
   "execution_count": 25,
   "id": "23212d16",
   "metadata": {},
   "outputs": [],
   "source": [
    "df111 = pd.read_html(li2011, header=0)[2]\n",
    "df112 = pd.read_html(li2011, header=0)[3]\n",
    "df11 = pd.concat([df111,df112], ignore_index=True)\n",
    "df11 = df11.drop([\"Opening\",\"Opening.1\",\"Notes\",\"Sources\"],axis=1)"
   ]
  },
  {
   "cell_type": "markdown",
   "id": "f550edd6",
   "metadata": {},
   "source": [
    "### Data of 2012's Movies"
   ]
  },
  {
   "cell_type": "code",
   "execution_count": 26,
   "id": "b87b4927",
   "metadata": {},
   "outputs": [],
   "source": [
    "li2012 = \"https://en.wikipedia.org/wiki/List_of_Telugu_films_of_2012\""
   ]
  },
  {
   "cell_type": "code",
   "execution_count": 27,
   "id": "ad687b9c",
   "metadata": {},
   "outputs": [],
   "source": [
    "df121 = pd.read_html(li2012, header=0)[2]\n",
    "df122 = pd.read_html(li2012, header=0)[3]\n",
    "df12 = pd.concat([df121,df122], ignore_index=True)\n",
    "df12 = df12.drop([\"Opening\",\"Opening.1\",\"Notes\",\"Sources\"],axis=1)"
   ]
  },
  {
   "cell_type": "markdown",
   "id": "988e876d",
   "metadata": {},
   "source": [
    "### Data of 2013's Movies"
   ]
  },
  {
   "cell_type": "code",
   "execution_count": 28,
   "id": "12191221",
   "metadata": {},
   "outputs": [],
   "source": [
    "li2013 = \"https://en.wikipedia.org/wiki/List_of_Telugu_films_of_2013\""
   ]
  },
  {
   "cell_type": "code",
   "execution_count": 29,
   "id": "7f5e96c2",
   "metadata": {},
   "outputs": [],
   "source": [
    "df131 = pd.read_html(li2013, header=0)[2]\n",
    "df132 = pd.read_html(li2013, header=0)[3]\n",
    "df13 = pd.concat([df131,df132], ignore_index=True)\n",
    "df13 = df13.drop([\"Opening\",\"Opening.1\",\"Produced by\",\"Source\"],axis=1)"
   ]
  },
  {
   "cell_type": "markdown",
   "id": "283a6275",
   "metadata": {},
   "source": [
    "### Data of 2014's Movies"
   ]
  },
  {
   "cell_type": "code",
   "execution_count": 30,
   "id": "e71e9f25",
   "metadata": {},
   "outputs": [],
   "source": [
    "li2014 = \"https://en.wikipedia.org/wiki/List_of_Telugu_films_of_2014\""
   ]
  },
  {
   "cell_type": "code",
   "execution_count": 31,
   "id": "318989a6",
   "metadata": {},
   "outputs": [],
   "source": [
    "df141 = pd.read_html(li2014, header=0)[2]\n",
    "df142 = pd.read_html(li2014, header=0)[3]\n",
    "df14 = pd.concat([df141,df142], ignore_index=True)\n",
    "df14 = df14.drop([\"Opening\",\"Opening.1\",\"Producer\",\"Ref\"],axis=1)"
   ]
  },
  {
   "cell_type": "markdown",
   "id": "902fea04",
   "metadata": {},
   "source": [
    "### Data of 2015's Movies"
   ]
  },
  {
   "cell_type": "code",
   "execution_count": 32,
   "id": "20f2002d",
   "metadata": {},
   "outputs": [],
   "source": [
    "li2015 = \"https://en.wikipedia.org/wiki/List_of_Telugu_films_of_2015\""
   ]
  },
  {
   "cell_type": "code",
   "execution_count": 33,
   "id": "6ddf4a46",
   "metadata": {},
   "outputs": [],
   "source": [
    "df151 = pd.read_html(li2015, header=0)[2]\n",
    "df152 = pd.read_html(li2015, header=0)[3]\n",
    "df15 = pd.concat([df151,df152], ignore_index=True)\n",
    "df15 = df15.drop([\"Unnamed: 0\",\"Unnamed: 1\",\"Production House\",\"Ref\"],axis=1)"
   ]
  },
  {
   "cell_type": "markdown",
   "id": "5597efcd",
   "metadata": {},
   "source": [
    "### Data of 2016's Movies"
   ]
  },
  {
   "cell_type": "code",
   "execution_count": 34,
   "id": "926363cc",
   "metadata": {},
   "outputs": [],
   "source": [
    "li2016 = \"https://en.wikipedia.org/wiki/List_of_Telugu_films_of_2016\""
   ]
  },
  {
   "cell_type": "code",
   "execution_count": 35,
   "id": "24b78b03",
   "metadata": {},
   "outputs": [],
   "source": [
    "df161 = pd.read_html(li2016, header=0)[2]\n",
    "df162 = pd.read_html(li2016, header=0)[3]\n",
    "df16 = pd.concat([df161,df162], ignore_index=True)\n",
    "df16 = df16.drop([\"Unnamed: 0\",\"Unnamed: 1\",\"Production house\",\"Ref\"],axis=1)"
   ]
  },
  {
   "cell_type": "markdown",
   "id": "6a91641a",
   "metadata": {},
   "source": [
    "### Data of 2017's Movies"
   ]
  },
  {
   "cell_type": "code",
   "execution_count": 36,
   "id": "1bf07d77",
   "metadata": {},
   "outputs": [],
   "source": [
    "li2017 = \"https://en.wikipedia.org/wiki/List_of_Telugu_films_of_2017\""
   ]
  },
  {
   "cell_type": "code",
   "execution_count": 37,
   "id": "4e857e83",
   "metadata": {},
   "outputs": [],
   "source": [
    "df171 = pd.read_html(li2017, header=0)[2]\n",
    "df172 = pd.read_html(li2017, header=0)[3]\n",
    "df17 = pd.concat([df171,df172], ignore_index=True)\n",
    "df17 = df17.drop([\"Opening\",\"Opening.1\",\"Production House\",\"Ref\"],axis=1)"
   ]
  },
  {
   "cell_type": "markdown",
   "id": "b0d2d967",
   "metadata": {},
   "source": [
    "### Data of 2018's Movies"
   ]
  },
  {
   "cell_type": "code",
   "execution_count": 38,
   "id": "990a7fdb",
   "metadata": {},
   "outputs": [],
   "source": [
    "li2018 = \"https://en.wikipedia.org/wiki/List_of_Telugu_films_of_2018\""
   ]
  },
  {
   "cell_type": "code",
   "execution_count": 39,
   "id": "a9bb219b",
   "metadata": {},
   "outputs": [],
   "source": [
    "df181 = pd.read_html(li2018, header=0)[2]\n",
    "df182 = pd.read_html(li2018, header=0)[3]\n",
    "df18 = pd.concat([df181,df182], ignore_index=True)\n",
    "df18 = df18.drop([\"Opening\",\"Opening.1\",\"Production House\",\"Ref\"],axis=1)"
   ]
  },
  {
   "cell_type": "markdown",
   "id": "9b1e76da",
   "metadata": {},
   "source": [
    "### Data of 2019's Movies"
   ]
  },
  {
   "cell_type": "code",
   "execution_count": 40,
   "id": "248594c0",
   "metadata": {},
   "outputs": [],
   "source": [
    "li2019 = \"https://en.wikipedia.org/wiki/List_of_Telugu_films_of_2019\""
   ]
  },
  {
   "cell_type": "code",
   "execution_count": 41,
   "id": "72e6496f",
   "metadata": {},
   "outputs": [],
   "source": [
    "df191 = pd.read_html(li2019, header=0)[2]\n",
    "df192 = pd.read_html(li2019, header=0)[3]\n",
    "df19 = pd.concat([df191,df192], ignore_index=True)\n",
    "df19 = df19.drop([\"Opening\",\"Opening.1\",\"Production House\",\"Ref\"],axis=1)"
   ]
  },
  {
   "cell_type": "markdown",
   "id": "84f7b942",
   "metadata": {},
   "source": [
    "### Data of 2020's Movies"
   ]
  },
  {
   "cell_type": "code",
   "execution_count": 42,
   "id": "9573f6d5",
   "metadata": {},
   "outputs": [],
   "source": [
    "li2020 = \"https://en.wikipedia.org/wiki/List_of_Telugu_films_of_2020\""
   ]
  },
  {
   "cell_type": "code",
   "execution_count": 43,
   "id": "dcdef583",
   "metadata": {},
   "outputs": [],
   "source": [
    "df201 = pd.read_html(li2020, header=0)[2]\n",
    "df202 = pd.read_html(li2020, header=0)[3]\n",
    "df203 = pd.read_html(li2020, header=0)[4]\n",
    "df20 = pd.concat([df201,df202,df203], ignore_index=True)\n",
    "df20 = df20.drop([\"Production House\",\"Opening\",\"Opening.1\",\"Ref.\"],axis=1)"
   ]
  },
  {
   "cell_type": "markdown",
   "id": "3b6d284a",
   "metadata": {},
   "source": [
    "### Data of 2021's Movies"
   ]
  },
  {
   "cell_type": "code",
   "execution_count": 44,
   "id": "e7ea7c2a",
   "metadata": {},
   "outputs": [],
   "source": [
    "li2021 = \"https://en.wikipedia.org/wiki/List_of_Telugu_films_of_2021\""
   ]
  },
  {
   "cell_type": "code",
   "execution_count": 45,
   "id": "477f0604",
   "metadata": {},
   "outputs": [],
   "source": [
    "df211 = pd.read_html(li2021, header=0)[3]\n",
    "df212 = pd.read_html(li2021, header=0)[4]\n",
    "df213 = pd.read_html(li2021, header=0)[5]\n",
    "df214 = pd.read_html(li2021, header=0)[6]\n",
    "df21 = pd.concat([df211,df212,df213,df214], ignore_index=True)\n",
    "df21 = df21.drop([\"Production House\",\"Opening\",\"Opening.1\",\"Ref.\"],axis=1)"
   ]
  },
  {
   "cell_type": "markdown",
   "id": "418a4934",
   "metadata": {},
   "source": [
    "### Data of 2022's Movies"
   ]
  },
  {
   "cell_type": "code",
   "execution_count": 46,
   "id": "1a503299",
   "metadata": {},
   "outputs": [],
   "source": [
    "li2022 = \"https://en.wikipedia.org/wiki/List_of_Telugu_films_of_2022\""
   ]
  },
  {
   "cell_type": "code",
   "execution_count": 47,
   "id": "8af86fdc",
   "metadata": {},
   "outputs": [],
   "source": [
    "df221 = pd.read_html(li2022, header=0)[4]\n",
    "df222 = pd.read_html(li2022, header=0)[5]\n",
    "df223 = pd.read_html(li2022, header=0)[6]\n",
    "df224 = pd.read_html(li2022, header=0)[7]\n",
    "df22 = pd.concat([df221,df222,df223,df224], ignore_index=True)\n",
    "df22 = df22.drop([\"Production House\",\"Opening\",\"Opening.1\",\"Ref.\",\".mw-parser-output .tooltip-dotted{border-bottom:1px dotted;cursor:help}Ref.\"],axis=1)"
   ]
  },
  {
   "cell_type": "markdown",
   "id": "13e96c33",
   "metadata": {},
   "source": [
    "### Data of 2023's Movies"
   ]
  },
  {
   "cell_type": "code",
   "execution_count": 48,
   "id": "b9d243a7",
   "metadata": {},
   "outputs": [],
   "source": [
    "li2023 = \"https://en.wikipedia.org/wiki/List_of_Telugu_films_of_2023\""
   ]
  },
  {
   "cell_type": "code",
   "execution_count": 49,
   "id": "6fb73c5d",
   "metadata": {},
   "outputs": [],
   "source": [
    "df231 = pd.read_html(li2023, header=0)[3]\n",
    "df232 = pd.read_html(li2023, header=0)[4]\n",
    "df233 = pd.read_html(li2023, header=0)[5]\n",
    "df23 = pd.concat([df231,df232,df233], ignore_index=True)\n",
    "df23 = df23.drop([\"Opening\",\"Opening.1\",\"Production House\",\"Ref.\",\".mw-parser-output .tooltip-dotted{border-bottom:1px dotted;cursor:help}Ref.\"],axis=1)"
   ]
  },
  {
   "cell_type": "code",
   "execution_count": 50,
   "id": "3a51d619",
   "metadata": {},
   "outputs": [],
   "source": [
    "data = pd.concat(\n",
    "    [df0,df1,df2,df3,df4,df5,df6,df7,df8,df9,df10,df11,df12,df13,df14,df15,df16,df17,df18,df19,df20,df21,df22,df23],\n",
    "    ignore_index=True)"
   ]
  },
  {
   "cell_type": "code",
   "execution_count": 51,
   "id": "d82e5566",
   "metadata": {},
   "outputs": [],
   "source": [
    "data = data.drop([\"Producer\",\"Starting\",\"Starting.1\",\"Production house\",\"Production\",\"Production company\",\".mw-parser-output .tooltip-dotted{border-bottom:1px dotted;cursor:help}Ref.\"],axis=1)"
   ]
  },
  {
   "cell_type": "code",
   "execution_count": 52,
   "id": "c0217a06",
   "metadata": {},
   "outputs": [
    {
     "data": {
      "text/html": [
       "<div>\n",
       "<style scoped>\n",
       "    .dataframe tbody tr th:only-of-type {\n",
       "        vertical-align: middle;\n",
       "    }\n",
       "\n",
       "    .dataframe tbody tr th {\n",
       "        vertical-align: top;\n",
       "    }\n",
       "\n",
       "    .dataframe thead th {\n",
       "        text-align: right;\n",
       "    }\n",
       "</style>\n",
       "<table border=\"1\" class=\"dataframe\">\n",
       "  <thead>\n",
       "    <tr style=\"text-align: right;\">\n",
       "      <th></th>\n",
       "      <th>Title</th>\n",
       "      <th>Cast</th>\n",
       "      <th>Genre</th>\n",
       "      <th>Director</th>\n",
       "    </tr>\n",
       "  </thead>\n",
       "  <tbody>\n",
       "    <tr>\n",
       "      <th>0</th>\n",
       "      <td>Kodanda Ramudu</td>\n",
       "      <td>J. D. Chakravarthi, Saptaparna Saha, Rambha, Laya</td>\n",
       "      <td>Drama</td>\n",
       "      <td>NaN</td>\n",
       "    </tr>\n",
       "    <tr>\n",
       "      <th>1</th>\n",
       "      <td>Annayya</td>\n",
       "      <td>Chiranjeevi, Ravi Teja, Soundarya, Simran, Sha...</td>\n",
       "      <td>Drama / Action</td>\n",
       "      <td>NaN</td>\n",
       "    </tr>\n",
       "    <tr>\n",
       "      <th>2</th>\n",
       "      <td>Postman</td>\n",
       "      <td>Mohan Babu, Soundarya, Raasi</td>\n",
       "      <td>Romance</td>\n",
       "      <td>NaN</td>\n",
       "    </tr>\n",
       "    <tr>\n",
       "      <th>3</th>\n",
       "      <td>Vamsoddharakudu</td>\n",
       "      <td>Balakrishna Nandamuri, Sakshi Shivanand, Ramya...</td>\n",
       "      <td>Action</td>\n",
       "      <td>NaN</td>\n",
       "    </tr>\n",
       "    <tr>\n",
       "      <th>4</th>\n",
       "      <td>Kalisundam Raa</td>\n",
       "      <td>Venkatesh, Simran</td>\n",
       "      <td>Drama</td>\n",
       "      <td>NaN</td>\n",
       "    </tr>\n",
       "    <tr>\n",
       "      <th>...</th>\n",
       "      <td>...</td>\n",
       "      <td>...</td>\n",
       "      <td>...</td>\n",
       "      <td>...</td>\n",
       "    </tr>\n",
       "    <tr>\n",
       "      <th>2306</th>\n",
       "      <td>Adipurush</td>\n",
       "      <td>PrabhasKriti SanonSaif Ali KhanSunny SinghDevd...</td>\n",
       "      <td>NaN</td>\n",
       "      <td>Om Raut</td>\n",
       "    </tr>\n",
       "    <tr>\n",
       "      <th>2307</th>\n",
       "      <td>Hari Hara Veera Mallu</td>\n",
       "      <td>Pawan KalyanNidhhi AgerwalArjun RampalNargis F...</td>\n",
       "      <td>NaN</td>\n",
       "      <td>Krish Jagarlamudi</td>\n",
       "    </tr>\n",
       "    <tr>\n",
       "      <th>2308</th>\n",
       "      <td>Bhola Shankar</td>\n",
       "      <td>ChiranjeeviTamannaahKeerthy SureshMurali Sharm...</td>\n",
       "      <td>NaN</td>\n",
       "      <td>Meher Ramesh</td>\n",
       "    </tr>\n",
       "    <tr>\n",
       "      <th>2309</th>\n",
       "      <td>Kushi</td>\n",
       "      <td>Vijay DeverakondaSamanthaMurali SharmaVennela ...</td>\n",
       "      <td>NaN</td>\n",
       "      <td>Shiva Nirvana</td>\n",
       "    </tr>\n",
       "    <tr>\n",
       "      <th>2310</th>\n",
       "      <td>Salaar</td>\n",
       "      <td>PrabhasPrithviraj SukumaranShruti HaasanJagapa...</td>\n",
       "      <td>NaN</td>\n",
       "      <td>Prashanth Neel</td>\n",
       "    </tr>\n",
       "  </tbody>\n",
       "</table>\n",
       "<p>2311 rows × 4 columns</p>\n",
       "</div>"
      ],
      "text/plain": [
       "                      Title   \n",
       "0            Kodanda Ramudu  \\\n",
       "1                   Annayya   \n",
       "2                   Postman   \n",
       "3           Vamsoddharakudu   \n",
       "4            Kalisundam Raa   \n",
       "...                     ...   \n",
       "2306              Adipurush   \n",
       "2307  Hari Hara Veera Mallu   \n",
       "2308          Bhola Shankar   \n",
       "2309                  Kushi   \n",
       "2310                 Salaar   \n",
       "\n",
       "                                                   Cast           Genre   \n",
       "0     J. D. Chakravarthi, Saptaparna Saha, Rambha, Laya           Drama  \\\n",
       "1     Chiranjeevi, Ravi Teja, Soundarya, Simran, Sha...  Drama / Action   \n",
       "2                          Mohan Babu, Soundarya, Raasi         Romance   \n",
       "3     Balakrishna Nandamuri, Sakshi Shivanand, Ramya...          Action   \n",
       "4                                     Venkatesh, Simran           Drama   \n",
       "...                                                 ...             ...   \n",
       "2306  PrabhasKriti SanonSaif Ali KhanSunny SinghDevd...             NaN   \n",
       "2307  Pawan KalyanNidhhi AgerwalArjun RampalNargis F...             NaN   \n",
       "2308  ChiranjeeviTamannaahKeerthy SureshMurali Sharm...             NaN   \n",
       "2309  Vijay DeverakondaSamanthaMurali SharmaVennela ...             NaN   \n",
       "2310  PrabhasPrithviraj SukumaranShruti HaasanJagapa...             NaN   \n",
       "\n",
       "               Director  \n",
       "0                   NaN  \n",
       "1                   NaN  \n",
       "2                   NaN  \n",
       "3                   NaN  \n",
       "4                   NaN  \n",
       "...                 ...  \n",
       "2306            Om Raut  \n",
       "2307  Krish Jagarlamudi  \n",
       "2308       Meher Ramesh  \n",
       "2309      Shiva Nirvana  \n",
       "2310     Prashanth Neel  \n",
       "\n",
       "[2311 rows x 4 columns]"
      ]
     },
     "execution_count": 52,
     "metadata": {},
     "output_type": "execute_result"
    }
   ],
   "source": [
    "data"
   ]
  },
  {
   "cell_type": "code",
   "execution_count": 53,
   "id": "0124f43c",
   "metadata": {},
   "outputs": [
    {
     "data": {
      "text/plain": [
       "Title        19\n",
       "Cast         28\n",
       "Genre       629\n",
       "Director    102\n",
       "dtype: int64"
      ]
     },
     "execution_count": 53,
     "metadata": {},
     "output_type": "execute_result"
    }
   ],
   "source": [
    "data.isnull().sum()"
   ]
  },
  {
   "cell_type": "code",
   "execution_count": 54,
   "id": "3da16496",
   "metadata": {},
   "outputs": [],
   "source": [
    "# Drop null title \n",
    "null_data = data[data[\"Title\"].isnull()]\n",
    "data = data.drop(null_data.index)"
   ]
  },
  {
   "cell_type": "code",
   "execution_count": 55,
   "id": "960eccd8",
   "metadata": {},
   "outputs": [],
   "source": [
    "data.to_csv(\"Tollywood.csv\",index=False)"
   ]
  },
  {
   "cell_type": "markdown",
   "id": "d41341f1",
   "metadata": {},
   "source": [
    "-------------------------------------------------------------------------------------------------------------"
   ]
  },
  {
   "cell_type": "code",
   "execution_count": 57,
   "id": "477ac87a",
   "metadata": {},
   "outputs": [],
   "source": [
    "import pandas as pd\n",
    "data = pd.read_csv(\"Tollywood.csv\")"
   ]
  },
  {
   "cell_type": "code",
   "execution_count": 58,
   "id": "2491a5ec",
   "metadata": {},
   "outputs": [
    {
     "data": {
      "text/plain": [
       "(2292, 4)"
      ]
     },
     "execution_count": 58,
     "metadata": {},
     "output_type": "execute_result"
    }
   ],
   "source": [
    "data.shape"
   ]
  },
  {
   "cell_type": "code",
   "execution_count": null,
   "id": "d8293d56",
   "metadata": {},
   "outputs": [],
   "source": []
  },
  {
   "cell_type": "code",
   "execution_count": 86,
   "id": "adf8a3c7",
   "metadata": {},
   "outputs": [],
   "source": [
    "# Importing essential tools for data extraction\n",
    "import pandas as pd\n",
    "from tmdbv3api import TMDb, Movie\n",
    "import json\n",
    "import requests\n",
    "tmdb = TMDb()\n",
    "tmdb_movie = Movie()\n",
    "\n",
    "# set up TMDb API\n",
    "tmdb.api_key = 'db47f4d8f92f5ca02c7840f594a293ad'\n",
    "\n",
    "# define get_genre function\n",
    "def get_genre(movie_id):\n",
    "    response = requests.get(f'https://api.themoviedb.org/3/movie/{movie_id}?api_key={tmdb.api_key}')\n",
    "    data_json = response.json()\n",
    "    if data_json['genres']:\n",
    "        genres = [genre['name'] for genre in data_json['genres']]\n",
    "        return ', '.join(genres)\n",
    "    else:\n",
    "        return None\n",
    "    \n",
    "def get_movie_info(title):\n",
    "    response = search.movie(query=title)\n",
    "    movie_id = response['results'][0]['id']\n",
    "    movie = tmdb.Movies(movie_id)\n",
    "    info = movie.info()\n",
    "    credits = movie.credits()\n",
    "    cast_list = []\n",
    "    for cast in credits['cast']:\n",
    "        cast_list.append(cast['name'])\n",
    "    director = \"\"\n",
    "    for crew in credits['crew']:\n",
    "        if crew['job'] == 'Director':\n",
    "            director = crew['name']\n",
    "            break\n",
    "    return {'title': info['title'], 'cast': cast_list, 'director': director}\n",
    "\n",
    "def get_movie_data(title):\n",
    "    search = tmdb_movie.search(title)\n",
    "    if search:\n",
    "        rec = search[0]\n",
    "        movie_id = rec['id']\n",
    "        \n",
    "        videos = tmdb_movie.videos(movie_id)\n",
    "        trailer_key = None\n",
    "        if videos:\n",
    "            for video in videos:\n",
    "                if video.type == 'Trailer':\n",
    "                    trailer_key = video.key\n",
    "                    break\n",
    "        \n",
    "        rec = tmdb_movie.details(rec['id'])\n",
    "        credits = tmdb_movie.credits(rec['id'])\n",
    "        cast_list = []\n",
    "        for cast in credits['cast']:\n",
    "            cast_list.append(cast['name'])\n",
    "        director = \"\"\n",
    "        for crew in credits['crew']:\n",
    "            if crew['job'] == 'Director':\n",
    "                director = crew['name']\n",
    "                break\n",
    "        \n",
    "        data = {'Title': rec['title'],'Id': rec['id'],'Trailer Link': f'https://www.youtube.com/watch?v={trailer_key}' if trailer_key else None,\n",
    "                'Director': director,'Cast': cast_list,'genre_ids': rec['genre_ids'] if 'genre_ids' in rec else None,'Genre': get_genre(rec['id']),\n",
    "                'Budget': rec['budget'] if 'budget' in rec else None,'Revenue': rec['revenue'] if 'revenue' in rec else None,'Overview': rec['overview'],'Homepage': rec['homepage'],\n",
    "                'Year': rec['release_date'][:4],'Runtime': rec['runtime'],'Popularity': rec['popularity'],'Adult': rec['adult'],'Release_Date': rec['release_date'],'Original_Title': rec['original_title'],\n",
    "                'Original_Language': rec['original_language'],'Tagline': rec['tagline'],'Vote_Average': rec['vote_average'],'Vote_Count': rec['vote_count']}\n",
    "        \n",
    "        \n",
    "        return pd.DataFrame.from_dict([data])\n",
    "    else:\n",
    "        return None\n",
    "\n",
    "\n",
    "# create list of movie titles\n",
    "Titles = []\n",
    "movie_names = data['Title'].map(lambda x: Titles.append(x))\n",
    "Titles = Titles[1000:2292]\n",
    "\n",
    "\n",
    "# retrieve data for each movie and concatenate into a single DataFrame\n",
    "data_frames = [get_movie_data(title) for title in Titles]\n",
    "dft2 = pd.concat(data_frames, ignore_index=True)\n"
   ]
  },
  {
   "cell_type": "code",
   "execution_count": 87,
   "id": "0394be0a",
   "metadata": {},
   "outputs": [],
   "source": [
    "dft2.to_csv(\"dft2.csv\",index=False)\n",
    "# dft1, dft2"
   ]
  },
  {
   "cell_type": "code",
   "execution_count": 88,
   "id": "b9ee127c",
   "metadata": {},
   "outputs": [],
   "source": [
    "Tollywood_movies = pd.concat([dft1,dft2],ignore_index=True)"
   ]
  },
  {
   "cell_type": "code",
   "execution_count": 91,
   "id": "7383ab9e",
   "metadata": {},
   "outputs": [
    {
     "data": {
      "text/plain": [
       "(1759, 21)"
      ]
     },
     "execution_count": 91,
     "metadata": {},
     "output_type": "execute_result"
    }
   ],
   "source": [
    "Tollywood_movies.shape"
   ]
  },
  {
   "cell_type": "code",
   "execution_count": 89,
   "id": "9d57c3f1",
   "metadata": {},
   "outputs": [],
   "source": [
    "Tollywood_movies.to_csv(\"Tollywood_Movies.csv\",index=False)"
   ]
  },
  {
   "cell_type": "code",
   "execution_count": 92,
   "id": "30184c49",
   "metadata": {},
   "outputs": [],
   "source": [
    "# pd.read_csv(\"Tollywood_Movies.csv\")"
   ]
  },
  {
   "cell_type": "code",
   "execution_count": null,
   "id": "0b180ff7",
   "metadata": {},
   "outputs": [],
   "source": []
  }
 ],
 "metadata": {
  "kernelspec": {
   "display_name": "Python 3 (ipykernel)",
   "language": "python",
   "name": "python3"
  },
  "language_info": {
   "codemirror_mode": {
    "name": "ipython",
    "version": 3
   },
   "file_extension": ".py",
   "mimetype": "text/x-python",
   "name": "python",
   "nbconvert_exporter": "python",
   "pygments_lexer": "ipython3",
   "version": "3.9.13"
  }
 },
 "nbformat": 4,
 "nbformat_minor": 5
}
